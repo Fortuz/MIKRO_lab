{
 "cells": [
  {
   "cell_type": "markdown",
   "metadata": {},
   "source": [
    "# Gyakorlat 09\n",
    "## Support Vektor Machine (SVM)\n",
    "### Classification\n",
    "\n",
    "### 1: Importálás / adatok betöltése"
   ]
  },
  {
   "cell_type": "code",
   "execution_count": 18,
   "metadata": {},
   "outputs": [
    {
     "name": "stdout",
     "output_type": "stream",
     "text": [
      "(51, 2)\n",
      "(51, 1)\n"
     ]
    }
   ],
   "source": [
    "import numpy as np\n",
    "from scipy.io import loadmat\n",
    "import matplotlib.pyplot as plt\n",
    "\n",
    "data = loadmat('Lab9data1.mat')\n",
    "X = data[\"X\"]\n",
    "Y = data[\"y\"]\n",
    "\n",
    "print(X.shape)\n",
    "print(Y.shape)"
   ]
  },
  {
   "cell_type": "markdown",
   "metadata": {},
   "source": [
    "### Vizualizálás"
   ]
  },
  {
   "cell_type": "code",
   "execution_count": 20,
   "metadata": {},
   "outputs": [
    {
     "ename": "SyntaxError",
     "evalue": "EOF while scanning triple-quoted string literal (<ipython-input-20-cca11c8629e6>, line 23)",
     "output_type": "error",
     "traceback": [
      "\u001b[1;36m  File \u001b[1;32m\"<ipython-input-20-cca11c8629e6>\"\u001b[1;36m, line \u001b[1;32m23\u001b[0m\n\u001b[1;33m    plt.show()\u001b[0m\n\u001b[1;37m              \n^\u001b[0m\n\u001b[1;31mSyntaxError\u001b[0m\u001b[1;31m:\u001b[0m EOF while scanning triple-quoted string literal\n"
     ]
    }
   ],
   "source": [
    "def dataSeparation(X,Y):\n",
    "    CLR1 = []                                                           # cluster1\n",
    "    CLR2 = []                                                           # cluster2\n",
    "    \n",
    "    for i in range(Y.shape):\n",
    "        if (Y[i] == 0):\n",
    "            CLR1.append(X[i,:])\n",
    "        elif (Y[i] == 1):\n",
    "            CLR2.append(X[i,:])\n",
    "    \n",
    "    \n",
    "    print(CLR1)\n",
    "    print(CLR2)\n",
    "    CLR1 = np.asmatrix(CLR1)\n",
    "    CLR2 = np.asmatrix(CLR2)\n",
    "    \"\"\"\n",
    "    return CLR1, CLR2\n",
    "\n",
    "CLR1,CLR2 = dataSeparation(X,Y)\n",
    "\n",
    "plt.plot(CLR1[:,1],CLR1[:,2],'gx')\n",
    "plt.plot(CLR2[:,1],CLR2[:,2],'ro')\n",
    "plt.show()\n"
   ]
  },
  {
   "cell_type": "code",
   "execution_count": null,
   "metadata": {},
   "outputs": [],
   "source": []
  }
 ],
 "metadata": {
  "kernelspec": {
   "display_name": "Python 3",
   "language": "python",
   "name": "python3"
  },
  "language_info": {
   "codemirror_mode": {
    "name": "ipython",
    "version": 3
   },
   "file_extension": ".py",
   "mimetype": "text/x-python",
   "name": "python",
   "nbconvert_exporter": "python",
   "pygments_lexer": "ipython3",
   "version": "3.7.0"
  }
 },
 "nbformat": 4,
 "nbformat_minor": 2
}
