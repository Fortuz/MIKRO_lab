{
 "cells": [
  {
   "cell_type": "markdown",
   "metadata": {},
   "source": [
    "<img src=\"files/Pics/LOGOS.png\" width=\"800\">"
   ]
  },
  {
   "cell_type": "markdown",
   "metadata": {},
   "source": [
    "# Labor 10 - Spam szűrés"
   ]
  },
  {
   "cell_type": "markdown",
   "metadata": {},
   "source": [
    "Ebbean a labor gyakorlatban emailek spam szűrésére fogjuk alkalmazni az SVM algoritmust. "
   ]
  },
  {
   "cell_type": "markdown",
   "metadata": {},
   "source": [
    "### 1: Beolvasás\n",
    "\n",
    "Olvassuk be az adatainkat. Két emaillel fogunk dolgozni, illetve rendelkezésünkre áll egy szótár, ami a leggyakrabban használt kifejezések normalizált alakját használja. "
   ]
  },
  {
   "cell_type": "code",
   "execution_count": null,
   "metadata": {},
   "outputs": [],
   "source": [
    "from scipy.io import loadmat\n",
    "import numpy as np\n",
    "from sklearn.svm import SVC\n",
    "import re\n",
    "from nltk.stem import PorterStemmer             # natural langage toolkit\n",
    "\n",
    "mail1 = open(\"emailSample1.txt\",\"r\").read()     # első mail betöltése\n",
    "mail2 = open(\"emailSample2.txt\",\"r\").read()     # második mail betöltése\n",
    "vocabList = open(\"vocab.txt\",\"r\").read()        # szótár betöltése\n",
    "\n",
    "print('First mail:')                            # kiíratások\n",
    "print(mail1)\n",
    "print('Second mail:')\n",
    "print(mail2)\n",
    "print('Vocabulary list:')\n",
    "print(vocabList)\n",
    "\n",
    "vocabList=vocabList.split(\"\\n\")[:-1]            # kicsit átalakítjuk a könnyebb kezelésért\n",
    "vocabList_d={}\n",
    "for ea in vocabList:\n",
    "    value,key = ea.split(\"\\t\")[:]\n",
    "    vocabList_d[key] = value"
   ]
  },
  {
   "cell_type": "markdown",
   "metadata": {},
   "source": [
    "### 2: Email előfeldolgzás\n",
    "\n",
    "Első lépésként normalizálnunk kell az email szövegét. Mit is jelent ez?\n",
    "- Mindent kisbetűssé konverálunk\n",
    "- Kivesszük a HTML kódokat\n",
    "- Normalizáljuk az URL címeket\n",
    "- Normalizáljuk a számokat\n",
    "- Normalizáljuk az email címeket\n",
    "- Normalizáljuk a speciális charactereket\n",
    "- A szavakat szótőre redukáljuk\n",
    "- Névelők elhagyása (egybetűs karakterek)\n",
    "\n",
    "A normalizálás a legtöbb esetben azt fogja jelenteni, hogy egy egyszerűsített stringel helyettesítjük az adott elemet.\n",
    "\n",
    "Normalizálás után pedig egy számsorozattá dekódoljuk az emailt a szótárunk alapján. Vagyis vissza adjuk az emailbe szereplő szavak indexét a listánkból."
   ]
  },
  {
   "cell_type": "code",
   "execution_count": null,
   "metadata": {},
   "outputs": [],
   "source": [
    "def processEmail(mailcontent):\n",
    "    word_indices=[]                                                         # inicializálás\n",
    "    \n",
    "    mailcontent = mailcontent.lower()                                       #kisbetűk\n",
    "    mailcontent = re.sub(\"[http|https]://[^\\s]*\",\"httpaddr\",mailcontent)    # HTML normalizálása\n",
    "    mailcontent = re.sub(\"[^\\s]+@[^\\s]+\",\"emailaddr\",mailcontent)           # email-címek normalizálása \n",
    "    mailcontent = re.sub(\"[0-9]+\",\"number\",mailcontent)                     # számok normalizálása\n",
    "    specChar = [\"<\",\"[\",\"^\",\">\",\"+\",\"?\",\"!\",\"'\",\".\",\",\",\":\",\"$\"]            # speciális karakterek\n",
    "    #####################################################################\n",
    "    # speciális karakterek normalizálása\n",
    "    \n",
    "    \n",
    "    #####################################################################\n",
    "    \n",
    "    ps = PorterStemmer()                                                    # természetesnyelv feldolgozás szótövek\n",
    "    mailcontent = [ps.stem(token) for token in mailcontent.split(\" \")]\n",
    "    mailcontent= \" \".join(mailcontent)\n",
    "    \n",
    "    mailcontent = mailcontent.replace(\"\\n\",\" \")\n",
    "    \n",
    "    #####################################################################\n",
    "    # word_indices feltöltése = Email dekódolása szám listává\n",
    "    \n",
    "    \n",
    "    \n",
    "    \n",
    "    #####################################################################\n",
    "    \n",
    "    print('Preprocessed mail:',mailcontent)\n",
    "    return word_indices\n",
    "\n",
    "word_indices = processEmail(mail1)\n",
    "print('\\nWord indices:',word_indices)\n",
    "\n",
    "check_email= [86, 916, 794, 1077, 883, 370, 1699, 790, 1822, 1831, 883, 431, 1171, 794, 1002, 1893, 1364, 592, 1676, 238, 162, 89, 688, 945, 1663, 1120, 1062, 1699, 375, 1162, 1120, 1893, 1510, 1182, 1237, 810, 1895, 1440, 1547, 181, 1699, 1758, 1896, 688, 1676, 992, 961, 1477, 71, 530, 1699, 531]\n",
    "if word_indices == check_email:\n",
    "    print(\"\\nSikeres átalakítás. Tovább mehet.\")\n",
    "else:\n",
    "    print(\"\\nSikertelen átalakítás. Módosítás szükséges.\")"
   ]
  },
  {
   "cell_type": "markdown",
   "metadata": {},
   "source": [
    "### 3: Feature extraction\n",
    "\n",
    "A következő lépésben az előfeldolgozott emailből hozzunk létre egy features vektort, aminek a mérete megegyezik a szótárunk méretével és amelyik szó a szótárból szerepel az emailben annak a feauturnek az értéke 1-es legyen.\n",
    "\n",
    "<img src=\"files/Pics/L10_vector.png\" width=\"150\">"
   ]
  },
  {
   "cell_type": "code",
   "execution_count": null,
   "metadata": {},
   "outputs": [],
   "source": [
    "def emailFeatures(word_indices,vocabList):\n",
    "#####################################################################   \n",
    "    \n",
    "    \n",
    "    \n",
    "    \n",
    "#####################################################################\n",
    "    return features\n",
    "\n",
    "features = emailFeatures(word_indices,vocabList_d)\n",
    "print(\"Length of feature vector (1899 expected): %.0f\" % len(features))\n",
    "print(\"Number of non-zero entries (43 expected): %.0f\" % np.sum(features))"
   ]
  },
  {
   "cell_type": "markdown",
   "metadata": {},
   "source": [
    "### 4: SVM tanítása a Spam klasszifikálására\n",
    "\n",
    "A training emailen tanítsuk be a SVM classificatort lineáris kernelt használva."
   ]
  },
  {
   "cell_type": "code",
   "execution_count": null,
   "metadata": {},
   "outputs": [],
   "source": [
    "spam_mat = loadmat(\"spamTrain.mat\")\n",
    "X_train = spam_mat[\"X\"]\n",
    "y_train = spam_mat[\"y\"]\n",
    "C =0.2\n",
    "\n",
    "#####################################################################\n",
    "#SVC látrehozása és illesztése (kernel=linear), ravel() függvényt ne felejtsük el használni.\n",
    "\n",
    "\n",
    "\n",
    "#####################################################################\n",
    "\n",
    "print(\"Training Accuracy (99.975% expected):\",(spam_predictor.score(X_train,y_train.ravel()))*100,\"%\")"
   ]
  },
  {
   "cell_type": "markdown",
   "metadata": {},
   "source": [
    "### 5: Klasszifikáció tesztelése"
   ]
  },
  {
   "cell_type": "code",
   "execution_count": null,
   "metadata": {},
   "outputs": [],
   "source": [
    "spam_mat2 = loadmat(\"spamTest.mat\")\n",
    "X_test = spam_mat2[\"Xtest\"]\n",
    "y_test = spam_mat2[\"ytest\"]\n",
    "\n",
    "print(\"Training Accuracy (98.9% expected):\",(spam_predictor.score(X_test,y_test.ravel()))*100,\"%\")"
   ]
  },
  {
   "cell_type": "markdown",
   "metadata": {},
   "source": [
    "### 6: A Spam legfőbb jelzői\n",
    "Mivelhogy a modell, amit tanítunk egy lineáris SVM, megnézhetjük, az egyes súlyokat, amit a modell megtanult a klasszifikálás során. A következőkben egy olyan kódrészletet implementálunk, ami megmutatja, melyek azok a szava (és súlyaik), melyekről az algoritmus leginkább \"gondolja\", hogy spam."
   ]
  },
  {
   "cell_type": "code",
   "execution_count": null,
   "metadata": {},
   "outputs": [],
   "source": [
    "weights = spam_predictor.coef_[0]\n",
    "weights_col = np.hstack((np.arange(1,1900).reshape(1899,1),weights.reshape(1899,1)))\n",
    "weights_sorted = weights_col[weights_col[:,1].argsort()][::-1]\n",
    "\n",
    "spamvoc_ind = weights_sorted[0:15,0]\n",
    "spamvoc_weights = (weights_sorted[0:15,1])\n",
    "j=0\n",
    "for i in spamvoc_ind:\n",
    "    print(vocabList[int(i-1)],'\\t', '\\t', spamvoc_weights[j])\n",
    "    j=+1\n",
    "\n"
   ]
  },
  {
   "cell_type": "markdown",
   "metadata": {},
   "source": [
    "### 7: Saját mail tesztelése\n",
    "\n",
    "A kíváncsiság kedvéért akér saját emailünkön is tesztelhetjük a dolgot."
   ]
  },
  {
   "cell_type": "code",
   "execution_count": null,
   "metadata": {},
   "outputs": [],
   "source": [
    "ownmail = open(\"spamSample1.txt\",\"r\").read()\n",
    "own_ind = processEmail(ownmail)\n",
    "x = emailFeatures(own_ind,vocabList_d)\n",
    "\n",
    "p = spam_predictor.predict(x.reshape(1,-1))\n",
    "print(\"Result is:\",p)\n",
    "if (p==0):\n",
    "    print(\"This is NOT a SPAM\")\n",
    "elif(p==1):\n",
    "    print(\"This is a SPAM\")\n",
    "\n"
   ]
  }
 ],
 "metadata": {
  "kernelspec": {
   "display_name": "Python 3",
   "language": "python",
   "name": "python3"
  },
  "language_info": {
   "codemirror_mode": {
    "name": "ipython",
    "version": 3
   },
   "file_extension": ".py",
   "mimetype": "text/x-python",
   "name": "python",
   "nbconvert_exporter": "python",
   "pygments_lexer": "ipython3",
   "version": "3.7.6"
  }
 },
 "nbformat": 4,
 "nbformat_minor": 2
}
