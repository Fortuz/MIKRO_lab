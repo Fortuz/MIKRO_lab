{
 "cells": [
  {
   "cell_type": "markdown",
   "metadata": {},
   "source": [
    "# Labor 08 - Lineáris regresszió regularizálása és Bias - Variancia\n",
    "### Vízfolyás\n",
    "A feladat első felében implementálásra kerül egy lineáris regresszió, hogy előre jelezhessük a kifolyt víz mennyiségét egy tartályból, annak alapján, hogy abban mennyi víz van. A feladat második felében megfigyeljük a tanulóalgoritmusok debuggolását és a bias illetve variancia típusú hibákat."
   ]
  },
  {
   "cell_type": "markdown",
   "metadata": {},
   "source": [
    "### 1: Importálás, adatok betöltése és vizualizálása"
   ]
  },
  {
   "cell_type": "code",
   "execution_count": 15,
   "metadata": {},
   "outputs": [
    {
     "name": "stdout",
     "output_type": "stream",
     "text": [
      "Shape of X: (12, 1)\n",
      "Shape of Y: (12, 1)\n"
     ]
    }
   ],
   "source": [
    "import numpy as np\n",
    "import matplotlib.pyplot as plt\n",
    "from scipy.io import loadmat\n",
    "import scipy.optimize as op\n",
    "\n",
    "# keras imports for the dataset and building our neural network\n",
    "from keras.models import Sequential\n",
    "from keras.layers.core import Dense, Activation\n",
    "from keras import regularizers\n",
    "from keras import optimizers\n",
    "\n",
    "\n",
    "from numpy.random import seed\n",
    "seed(1)\n",
    "\n",
    "data = loadmat(\"Lab8data.mat\")                          # adatok betöltése\n",
    "X_train = data[\"X\"]                                     # adatok szerkesztése változókba\n",
    "Y_train = data[\"y\"]\n",
    "X_val   = data[\"Xval\"]\n",
    "Y_val   = data[\"yval\"]\n",
    "X_test  = data[\"Xtest\"]\n",
    "Y_test  = data[\"ytest\"]\n",
    "\n",
    "del data\n",
    "m,n = X_train.shape\n",
    "print('Shape of X:', X_train.shape)\n",
    "print('Shape of Y:', Y_train.shape)"
   ]
  },
  {
   "cell_type": "code",
   "execution_count": 16,
   "metadata": {},
   "outputs": [
    {
     "data": {
      "image/png": "[encoded data removed]",
      "text/plain": [
       "<Figure size 432x288 with 1 Axes>"
      ]
     },
     "metadata": {
      "needs_background": "light"
     },
     "output_type": "display_data"
    }
   ],
   "source": [
    "plt.plot(X_train,Y_train,'x')   # adatok megjelenítése\n",
    "plt.title('Training data')\n",
    "plt.xlabel('Change in water level (X)')\n",
    "plt.ylabel('Water floeing out of the dam (Y)')\n",
    "plt.show()"
   ]
  },
  {
   "cell_type": "markdown",
   "metadata": {},
   "source": [
    "A machine learning addig tart, ahol a deep learning elkezdődik. A határ az egy rétegű neurális háló."
   ]
  },
  {
   "cell_type": "markdown",
   "metadata": {},
   "source": [
    "### Linearizált regresszió büntetéssel"
   ]
  },
  {
   "cell_type": "code",
   "execution_count": 17,
   "metadata": {},
   "outputs": [
    {
     "name": "stdout",
     "output_type": "stream",
     "text": [
      "Train on 12 samples, validate on 21 samples\n",
      "Epoch 1/40\n",
      " - 0s - loss: 682.8117 - val_loss: 489.8742\n",
      "Epoch 2/40\n",
      " - 0s - loss: 439.9911 - val_loss: 381.8707\n",
      "Epoch 3/40\n",
      " - 0s - loss: 321.4046 - val_loss: 309.2116\n",
      "Epoch 4/40\n",
      " - 0s - loss: 263.3241 - val_loss: 287.2525\n",
      "Epoch 5/40\n",
      " - 0s - loss: 234.7127 - val_loss: 266.5474\n",
      "Epoch 6/40\n",
      " - 0s - loss: 220.4547 - val_loss: 262.8616\n",
      "Epoch 7/40\n",
      " - 0s - loss: 213.1884 - val_loss: 255.9813\n",
      "Epoch 8/40\n",
      " - 0s - loss: 209.3285 - val_loss: 255.5853\n",
      "Epoch 9/40\n",
      " - 0s - loss: 207.1289 - val_loss: 252.7219\n",
      "Epoch 10/40\n",
      " - 0s - loss: 205.7390 - val_loss: 252.5965\n",
      "Epoch 11/40\n",
      " - 0s - loss: 204.7448 - val_loss: 251.0493\n",
      "Epoch 12/40\n",
      " - 0s - loss: 203.9445 - val_loss: 250.7404\n",
      "Epoch 13/40\n",
      " - 0s - loss: 203.2398 - val_loss: 249.6853\n",
      "Epoch 14/40\n",
      " - 0s - loss: 202.5830 - val_loss: 249.2133\n",
      "Epoch 15/40\n",
      " - 0s - loss: 201.9507 - val_loss: 248.3652\n",
      "Epoch 16/40\n",
      " - 0s - loss: 201.3315 - val_loss: 247.7980\n",
      "Epoch 17/40\n",
      " - 0s - loss: 200.7199 - val_loss: 247.0450\n",
      "Epoch 18/40\n",
      " - 0s - loss: 200.1132 - val_loss: 246.4295\n",
      "Epoch 19/40\n",
      " - 0s - loss: 199.5101 - val_loss: 245.7234\n",
      "Epoch 20/40\n",
      " - 0s - loss: 198.9100 - val_loss: 245.0858\n",
      "Epoch 21/40\n",
      " - 0s - loss: 198.3124 - val_loss: 244.4048\n",
      "Epoch 22/40\n",
      " - 0s - loss: 197.7173 - val_loss: 243.7584\n",
      "Epoch 23/40\n",
      " - 0s - loss: 197.1246 - val_loss: 243.0921\n",
      "Epoch 24/40\n",
      " - 0s - loss: 196.5343 - val_loss: 242.4439\n",
      "Epoch 25/40\n",
      " - 0s - loss: 195.9462 - val_loss: 241.7872\n",
      "Epoch 26/40\n",
      " - 0s - loss: 195.3604 - val_loss: 241.1406\n",
      "Epoch 27/40\n",
      " - 0s - loss: 194.7769 - val_loss: 240.4910\n",
      "Epoch 28/40\n",
      " - 0s - loss: 194.1956 - val_loss: 239.8475\n",
      "Epoch 29/40\n",
      " - 0s - loss: 193.6166 - val_loss: 239.2038\n",
      "Epoch 30/40\n",
      " - 0s - loss: 193.0399 - val_loss: 238.5644\n",
      "Epoch 31/40\n",
      " - 0s - loss: 192.4653 - val_loss: 237.9260\n",
      "Epoch 32/40\n",
      " - 0s - loss: 191.8931 - val_loss: 237.2908\n",
      "Epoch 33/40\n",
      " - 0s - loss: 191.3230 - val_loss: 236.6574\n",
      "Epoch 34/40\n",
      " - 0s - loss: 190.7551 - val_loss: 236.0268\n",
      "Epoch 35/40\n",
      " - 0s - loss: 190.1895 - val_loss: 235.3982\n",
      "Epoch 36/40\n",
      " - 0s - loss: 189.6260 - val_loss: 234.7721\n",
      "Epoch 37/40\n",
      " - 0s - loss: 189.0647 - val_loss: 234.1482\n",
      "Epoch 38/40\n",
      " - 0s - loss: 188.5056 - val_loss: 233.5267\n",
      "Epoch 39/40\n",
      " - 0s - loss: 187.9486 - val_loss: 232.9074\n",
      "Epoch 40/40\n",
      " - 0s - loss: 187.3938 - val_loss: 232.2905\n"
     ]
    }
   ],
   "source": [
    "Lambda = 0\n",
    "lr_rate = 0.005\n",
    "epoch = 40\n",
    "\n",
    "# building a linear stack of layers with the sequential model\n",
    "model = Sequential()\n",
    "model.add(Dense(1, input_shape=(1,), use_bias=True, kernel_regularizer=regularizers.l2(Lambda)))\n",
    "\n",
    "# compiling the sequential model\n",
    "sgd = optimizers.SGD(lr=lr_rate)\n",
    "model.compile(loss='MSE', optimizer=sgd)\n",
    "\n",
    "# training the model and saving metrics in history\n",
    "history = model.fit(X_train, Y_train, epochs=epoch, validation_data=(X_val, Y_val), verbose = 2)"
   ]
  },
  {
   "cell_type": "code",
   "execution_count": 18,
   "metadata": {},
   "outputs": [
    {
     "data": {
      "text/plain": [
       "<matplotlib.legend.Legend at 0x2d4d8dbe748>"
      ]
     },
     "execution_count": 18,
     "metadata": {},
     "output_type": "execute_result"
    },
    {
     "data": {
      "image/png": "[encoded data removed]",
      "text/plain": [
       "<Figure size 432x288 with 1 Axes>"
      ]
     },
     "metadata": {
      "needs_background": "light"
     },
     "output_type": "display_data"
    }
   ],
   "source": [
    "# plotting the metrics\n",
    "fig = plt.figure()\n",
    "plt.plot(history.history['loss'])\n",
    "plt.plot(history.history['val_loss'])\n",
    "plt.title('Loss functions')\n",
    "plt.ylabel('loss')\n",
    "plt.xlabel('epoch')\n",
    "plt.legend(['Training loss', 'Validation loss'])"
   ]
  },
  {
   "cell_type": "code",
   "execution_count": 27,
   "metadata": {},
   "outputs": [
    {
     "data": {
      "image/png": "[encoded data removed]",
      "text/plain": [
       "<Figure size 432x288 with 1 Axes>"
      ]
     },
     "metadata": {
      "needs_background": "light"
     },
     "output_type": "display_data"
    }
   ],
   "source": [
    "Y_pred = model.predict(X_test)\n",
    "\n",
    "plt.plot(X_train,Y_train,'x')   # adatok megjelenítése\n",
    "plt.plot(X_test,Y_pred,'x', color='red')   # adatok megjelenítése\n",
    "plt.title('Training data')\n",
    "plt.xlabel('Change in water level (X)')\n",
    "plt.ylabel('Water floeing out of the dam (Y)')\n",
    "plt.legend(['Training data', 'Prediction (on Test data)'])\n",
    "plt.show()"
   ]
  },
  {
   "cell_type": "markdown",
   "metadata": {},
   "source": [
    "# Poly Feature"
   ]
  },
  {
   "cell_type": "code",
   "execution_count": 20,
   "metadata": {},
   "outputs": [],
   "source": [
    "def polyFeatures(X,p =9):\n",
    "    \n",
    "    m=X.shape[0]\n",
    "    X_poly = np.zeros((m,p))\n",
    "    \n",
    "    for i in range(1,m+1):\n",
    "        for j in range(1,p+1):\n",
    "            X_poly[i-1,j-1] = X[i-1]**j\n",
    "    \n",
    "    return X_poly\n",
    "\n",
    "def featureNormalize(X):\n",
    "    \n",
    "    avg = np.mean(X, axis = 0)\n",
    "    X_norm = X-avg\n",
    "    std = np.std(X_norm, axis = 0,ddof = 1)\n",
    "    X_norm = X_norm/std\n",
    "    \n",
    "    return X_norm,avg,std"
   ]
  },
  {
   "cell_type": "code",
   "execution_count": 133,
   "metadata": {},
   "outputs": [],
   "source": [
    "#just Right\n",
    "Lambda = 0\n",
    "lr_rate = 0.01\n",
    "epoch = 100\n",
    "order=9\n",
    "optim = optimizers.SGD(lr=lr_rate)"
   ]
  },
  {
   "cell_type": "code",
   "execution_count": 118,
   "metadata": {},
   "outputs": [],
   "source": [
    "#Overfit\n",
    "Lambda = 0\n",
    "lr_rate = 0.001\n",
    "epoch = 500\n",
    "order=12\n",
    "optim = optimizers.Adam(lr=lr_rate)"
   ]
  },
  {
   "cell_type": "code",
   "execution_count": 134,
   "metadata": {},
   "outputs": [
    {
     "name": "stdout",
     "output_type": "stream",
     "text": [
      "Expected Normalized Training Example for order=3 (approx.):\n",
      "[-0.362 -0.755  0.182 ]\n",
      "Normalized Training Example 1:\n",
      " [-0.36214078 -0.75508669  0.18222588 -0.70618991  0.30661792 -0.59087767\n",
      "  0.3445158  -0.50848117  0.35954927]\n"
     ]
    }
   ],
   "source": [
    "# X:\n",
    "X_train_p = polyFeatures(X_train, order)                                # polynomial features\n",
    "X_train_pn, mu, sigma = featureNormalize(X_train_p)                     # feature normalization\n",
    "\n",
    "# X_val:\n",
    "X_val_p = polyFeatures(X_val, order)\n",
    "X_val_pn = (X_val_p-mu)/sigma\n",
    "\n",
    "# X_TESZT:\n",
    "X_test_p = polyFeatures(X_test, order)\n",
    "X_test_pn = (X_test_p-mu)/sigma\n",
    "\n",
    "print(\"\"\"Expected Normalized Training Example for order=3 (approx.):\n",
    "[-0.362 -0.755  0.182 ]\"\"\")\n",
    "print('Normalized Training Example 1:\\n',X_train_pn[0,:])"
   ]
  },
  {
   "cell_type": "code",
   "execution_count": 135,
   "metadata": {},
   "outputs": [
    {
     "name": "stdout",
     "output_type": "stream",
     "text": [
      "Train on 12 samples, validate on 21 samples\n",
      "Epoch 1/100\n",
      " - 1s - loss: 280.2574 - val_loss: 315.8577\n",
      "Epoch 2/100\n",
      " - 0s - loss: 277.3937 - val_loss: 311.9953\n",
      "Epoch 3/100\n",
      " - 0s - loss: 274.1847 - val_loss: 308.0171\n",
      "Epoch 4/100\n",
      " - 0s - loss: 270.8740 - val_loss: 304.0082\n",
      "Epoch 5/100\n",
      " - 0s - loss: 267.5271 - val_loss: 299.9800\n",
      "Epoch 6/100\n",
      " - 0s - loss: 264.1556 - val_loss: 295.9101\n",
      "Epoch 7/100\n",
      " - 0s - loss: 260.7532 - val_loss: 291.7720\n",
      "Epoch 8/100\n",
      " - 0s - loss: 257.3111 - val_loss: 287.5460\n",
      "Epoch 9/100\n",
      " - 0s - loss: 253.8214 - val_loss: 283.2172\n",
      "Epoch 10/100\n",
      " - 0s - loss: 250.2784 - val_loss: 278.7723\n",
      "Epoch 11/100\n",
      " - 0s - loss: 246.6788 - val_loss: 274.1986\n",
      "Epoch 12/100\n",
      " - 0s - loss: 243.0196 - val_loss: 269.4856\n",
      "Epoch 13/100\n",
      " - 0s - loss: 239.2979 - val_loss: 264.6255\n",
      "Epoch 14/100\n",
      " - 0s - loss: 235.5109 - val_loss: 259.6129\n",
      "Epoch 15/100\n",
      " - 0s - loss: 231.6556 - val_loss: 254.4445\n",
      "Epoch 16/100\n",
      " - 0s - loss: 227.7294 - val_loss: 249.1190\n",
      "Epoch 17/100\n",
      " - 0s - loss: 223.7300 - val_loss: 243.6376\n",
      "Epoch 18/100\n",
      " - 0s - loss: 219.6552 - val_loss: 238.0039\n",
      "Epoch 19/100\n",
      " - 0s - loss: 215.5036 - val_loss: 232.2246\n",
      "Epoch 20/100\n",
      " - 0s - loss: 211.2742 - val_loss: 226.3082\n",
      "Epoch 21/100\n",
      " - 0s - loss: 206.9666 - val_loss: 220.2651\n",
      "Epoch 22/100\n",
      " - 0s - loss: 202.5812 - val_loss: 214.1078\n",
      "Epoch 23/100\n",
      " - 0s - loss: 198.1191 - val_loss: 207.8505\n",
      "Epoch 24/100\n",
      " - 0s - loss: 193.5824 - val_loss: 201.5090\n",
      "Epoch 25/100\n",
      " - 0s - loss: 188.9737 - val_loss: 195.1010\n",
      "Epoch 26/100\n",
      " - 0s - loss: 184.2967 - val_loss: 188.6452\n",
      "Epoch 27/100\n",
      " - 0s - loss: 179.5558 - val_loss: 182.1618\n",
      "Epoch 28/100\n",
      " - 0s - loss: 174.7564 - val_loss: 175.6721\n",
      "Epoch 29/100\n",
      " - 0s - loss: 169.9045 - val_loss: 169.1980\n",
      "Epoch 30/100\n",
      " - 0s - loss: 165.0069 - val_loss: 162.7626\n",
      "Epoch 31/100\n",
      " - 0s - loss: 160.0712 - val_loss: 156.3897\n",
      "Epoch 32/100\n",
      " - 0s - loss: 155.1056 - val_loss: 150.1038\n",
      "Epoch 33/100\n",
      " - 0s - loss: 150.1192 - val_loss: 143.9298\n",
      "Epoch 34/100\n",
      " - 0s - loss: 145.1216 - val_loss: 137.8934\n",
      "Epoch 35/100\n",
      " - 0s - loss: 140.1232 - val_loss: 132.0206\n",
      "Epoch 36/100\n",
      " - 0s - loss: 135.1348 - val_loss: 126.3376\n",
      "Epoch 37/100\n",
      " - 0s - loss: 130.1682 - val_loss: 120.8708\n",
      "Epoch 38/100\n",
      " - 0s - loss: 125.2352 - val_loss: 115.6465\n",
      "Epoch 39/100\n",
      " - 0s - loss: 120.3484 - val_loss: 110.6910\n",
      "Epoch 40/100\n",
      " - 0s - loss: 115.5204 - val_loss: 106.0297\n",
      "Epoch 41/100\n",
      " - 0s - loss: 110.7644 - val_loss: 101.6874\n",
      "Epoch 42/100\n",
      " - 0s - loss: 106.0933 - val_loss: 97.6877\n",
      "Epoch 43/100\n",
      " - 0s - loss: 101.5199 - val_loss: 94.0524\n",
      "Epoch 44/100\n",
      " - 0s - loss: 97.0569 - val_loss: 90.8014\n",
      "Epoch 45/100\n",
      " - 0s - loss: 92.7163 - val_loss: 87.9517\n",
      "Epoch 46/100\n",
      " - 0s - loss: 88.5092 - val_loss: 85.5174\n",
      "Epoch 47/100\n",
      " - 0s - loss: 84.4460 - val_loss: 83.5086\n",
      "Epoch 48/100\n",
      " - 0s - loss: 80.5357 - val_loss: 81.9309\n",
      "Epoch 49/100\n",
      " - 0s - loss: 76.7860 - val_loss: 80.7850\n",
      "Epoch 50/100\n",
      " - 0s - loss: 73.2030 - val_loss: 80.0664\n",
      "Epoch 51/100\n",
      " - 0s - loss: 69.7914 - val_loss: 79.7643\n",
      "Epoch 52/100\n",
      " - 0s - loss: 66.5540 - val_loss: 79.8622\n",
      "Epoch 53/100\n",
      " - 0s - loss: 63.4921 - val_loss: 80.3372\n",
      "Epoch 54/100\n",
      " - 0s - loss: 60.6056 - val_loss: 81.1602\n",
      "Epoch 55/100\n",
      " - 0s - loss: 57.8924 - val_loss: 82.2960\n",
      "Epoch 56/100\n",
      " - 0s - loss: 55.3496 - val_loss: 83.7037\n",
      "Epoch 57/100\n",
      " - 0s - loss: 52.9722 - val_loss: 85.3373\n",
      "Epoch 58/100\n",
      " - 0s - loss: 50.7543 - val_loss: 87.1460\n",
      "Epoch 59/100\n",
      " - 0s - loss: 48.6884 - val_loss: 89.0754\n",
      "Epoch 60/100\n",
      " - 0s - loss: 46.7655 - val_loss: 91.0687\n",
      "Epoch 61/100\n",
      " - 0s - loss: 44.9753 - val_loss: 93.0679\n",
      "Epoch 62/100\n",
      " - 0s - loss: 43.3063 - val_loss: 95.0159\n",
      "Epoch 63/100\n",
      " - 0s - loss: 41.7461 - val_loss: 96.8582\n",
      "Epoch 64/100\n",
      " - 0s - loss: 40.2818 - val_loss: 98.5444\n",
      "Epoch 65/100\n",
      " - 0s - loss: 38.9004 - val_loss: 100.0303\n",
      "Epoch 66/100\n",
      " - 0s - loss: 37.5894 - val_loss: 101.2783\n",
      "Epoch 67/100\n",
      " - 0s - loss: 36.3372 - val_loss: 102.2588\n",
      "Epoch 68/100\n",
      " - 0s - loss: 35.1334 - val_loss: 102.9496\n",
      "Epoch 69/100\n",
      " - 0s - loss: 33.9688 - val_loss: 103.3367\n",
      "Epoch 70/100\n",
      " - 0s - loss: 32.8360 - val_loss: 103.4132\n",
      "Epoch 71/100\n",
      " - 0s - loss: 31.7288 - val_loss: 103.1788\n",
      "Epoch 72/100\n",
      " - 0s - loss: 30.6425 - val_loss: 102.6395\n",
      "Epoch 73/100\n",
      " - 0s - loss: 29.5735 - val_loss: 101.8064\n",
      "Epoch 74/100\n",
      " - 0s - loss: 28.5196 - val_loss: 100.6951\n",
      "Epoch 75/100\n",
      " - 0s - loss: 27.4794 - val_loss: 99.3249\n",
      "Epoch 76/100\n",
      " - 0s - loss: 26.4525 - val_loss: 97.7180\n",
      "Epoch 77/100\n",
      " - 0s - loss: 25.4397 - val_loss: 95.8991\n",
      "Epoch 78/100\n",
      " - 0s - loss: 24.4420 - val_loss: 93.8940\n",
      "Epoch 79/100\n",
      " - 0s - loss: 23.4614 - val_loss: 91.7295\n",
      "Epoch 80/100\n",
      " - 0s - loss: 22.5000 - val_loss: 89.4323\n",
      "Epoch 81/100\n",
      " - 0s - loss: 21.5603 - val_loss: 87.0292\n",
      "Epoch 82/100\n",
      " - 0s - loss: 20.6449 - val_loss: 84.5455\n",
      "Epoch 83/100\n",
      " - 0s - loss: 19.7560 - val_loss: 82.0057\n",
      "Epoch 84/100\n",
      " - 0s - loss: 18.8958 - val_loss: 79.4328\n",
      "Epoch 85/100\n",
      " - 0s - loss: 18.0662 - val_loss: 76.8481\n",
      "Epoch 86/100\n",
      " - 0s - loss: 17.2686 - val_loss: 74.2709\n",
      "Epoch 87/100\n",
      " - 0s - loss: 16.5042 - val_loss: 71.7191\n",
      "Epoch 88/100\n",
      " - 0s - loss: 15.7736 - val_loss: 69.2084\n",
      "Epoch 89/100\n",
      " - 0s - loss: 15.0773 - val_loss: 66.7526\n",
      "Epoch 90/100\n",
      " - 0s - loss: 14.4155 - val_loss: 64.3641\n",
      "Epoch 91/100\n",
      " - 0s - loss: 13.7880 - val_loss: 62.0527\n",
      "Epoch 92/100\n",
      " - 0s - loss: 13.1945 - val_loss: 59.8269\n",
      "Epoch 93/100\n",
      " - 0s - loss: 12.6343 - val_loss: 57.6931\n",
      "Epoch 94/100\n",
      " - 0s - loss: 12.1066 - val_loss: 55.6561\n",
      "Epoch 95/100\n",
      " - 0s - loss: 11.6102 - val_loss: 53.7192\n",
      "Epoch 96/100\n",
      " - 0s - loss: 11.1441 - val_loss: 51.8840\n",
      "Epoch 97/100\n",
      " - 0s - loss: 10.7069 - val_loss: 50.1510\n",
      "Epoch 98/100\n",
      " - 0s - loss: 10.2973 - val_loss: 48.5194\n",
      "Epoch 99/100\n",
      " - 0s - loss: 9.9139 - val_loss: 46.9876\n",
      "Epoch 100/100\n",
      " - 0s - loss: 9.5553 - val_loss: 45.5530\n"
     ]
    }
   ],
   "source": [
    "# building a linear stack of layers with the sequential model\n",
    "model2 = Sequential()\n",
    "model2.add(Dense(order, input_shape=(order,), use_bias=True, kernel_regularizer=regularizers.l2(Lambda)))\n",
    "model2.add(Dense(1))\n",
    "\n",
    "# compiling the sequential model\n",
    "optim = optimizers.SGD(lr=lr_rate)\n",
    "optim = optimizers.Adam(lr=lr_rate)\n",
    "model2.compile(loss='MSE', optimizer=optim)\n",
    "\n",
    "# training the model and saving metrics in history\n",
    "history2 = model2.fit(X_train_pn, Y_train, epochs=epoch, validation_data=(X_val_pn, Y_val), verbose = 2)"
   ]
  },
  {
   "cell_type": "code",
   "execution_count": 136,
   "metadata": {},
   "outputs": [
    {
     "data": {
      "text/plain": [
       "<matplotlib.legend.Legend at 0x2d4e4f945f8>"
      ]
     },
     "execution_count": 136,
     "metadata": {},
     "output_type": "execute_result"
    },
    {
     "data": {
      "image/png": "[encoded data removed]",
      "text/plain": [
       "<Figure size 432x288 with 1 Axes>"
      ]
     },
     "metadata": {
      "needs_background": "light"
     },
     "output_type": "display_data"
    }
   ],
   "source": [
    "# plotting the metrics\n",
    "fig = plt.figure()\n",
    "plt.plot(history2.history['loss'])\n",
    "plt.plot(history2.history['val_loss'])\n",
    "plt.title('Loss functions')\n",
    "plt.ylabel('loss')\n",
    "plt.xlabel('epoch')\n",
    "plt.legend(['Train loss', 'Validation loss'])"
   ]
  },
  {
   "cell_type": "code",
   "execution_count": 137,
   "metadata": {},
   "outputs": [
    {
     "data": {
      "image/png": "[encoded data removed]",
      "text/plain": [
       "<Figure size 432x288 with 1 Axes>"
      ]
     },
     "metadata": {
      "needs_background": "light"
     },
     "output_type": "display_data"
    }
   ],
   "source": [
    "Y_pred2 = model2.predict(X_test_pn)\n",
    "\n",
    "#plt.plot(X_train,Y_train,'x')   # adatok megjelenítése\n",
    "plt.plot(X_test,Y_pred2,'x', color=\"red\") \n",
    "plt.plot(X_test,Y_test,'x', color=\"green\") \n",
    "plt.title('Training data')\n",
    "plt.xlabel('Change in water level (X)')\n",
    "plt.ylabel('Water floeing out of the dam (Y)')\n",
    "plt.legend(['Prediction', 'Test'])\n",
    "plt.show()"
   ]
  },
  {
   "cell_type": "code",
   "execution_count": null,
   "metadata": {},
   "outputs": [],
   "source": []
  }
 ],
 "metadata": {
  "kernelspec": {
   "display_name": "Python 3",
   "language": "python",
   "name": "python3"
  },
  "language_info": {
   "codemirror_mode": {
    "name": "ipython",
    "version": 3
   },
   "file_extension": ".py",
   "mimetype": "text/x-python",
   "name": "python",
   "nbconvert_exporter": "python",
   "pygments_lexer": "ipython3",
   "version": "3.6.9"
  }
 },
 "nbformat": 4,
 "nbformat_minor": 2
}
