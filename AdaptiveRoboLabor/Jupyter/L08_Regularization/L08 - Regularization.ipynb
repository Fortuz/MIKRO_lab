{
 "cells": [
  {
   "cell_type": "markdown",
   "metadata": {},
   "source": [
    "# Gykorlat 08\n",
    "## Lineáris regresszió regularizálása és Bias - Variancia\n",
    "### Vízfolyás\n",
    "A feladat első felében implementálásra kerül egy lineáris regresszi, hogy előrejelezhessük a kifolyt víz mennyiségét egy tartályból, annak alapján, hogy abban mennyi víz van. A feladat második felében megfigyeljük a tanulóalgoritmusok debuggolását és a bias v.s. variancia hatását."
   ]
  },
  {
   "cell_type": "markdown",
   "metadata": {},
   "source": [
    "### 1: Importálás, adatok betöltése és vizualizálása"
   ]
  },
  {
   "cell_type": "code",
   "execution_count": 1,
   "metadata": {},
   "outputs": [
    {
     "name": "stdout",
     "output_type": "stream",
     "text": [
      "Shape of X: (12, 1)\n",
      "Shape of Y: (12, 1)\n"
     ]
    }
   ],
   "source": [
    "import numpy as np\n",
    "import matplotlib.pyplot as plt\n",
    "from scipy.io import loadmat\n",
    "import scipy.optimize as op\n",
    "\n",
    "data = loadmat(\"Lab8data.mat\")                          # adatok betöltése\n",
    "X = data[\"X\"]                                           # adatok szerkesztése változókba\n",
    "Y = data[\"y\"]\n",
    "X_test = data[\"Xtest\"]\n",
    "Y_test = data[\"ytest\"]\n",
    "X_val = data[\"Xval\"]\n",
    "Y_val = data[\"yval\"]\n",
    "\n",
    "del data\n",
    "m,n = X.shape\n",
    "print('Shape of X:', X.shape)\n",
    "print('Shape of Y:', Y.shape)"
   ]
  },
  {
   "cell_type": "code",
   "execution_count": 2,
   "metadata": {},
   "outputs": [
    {
     "data": {
      "image/png": "[encoded data removed]",
      "text/plain": [
       "<Figure size 432x288 with 1 Axes>"
      ]
     },
     "metadata": {
      "needs_background": "light"
     },
     "output_type": "display_data"
    }
   ],
   "source": [
    "plt.plot(X,Y,'x')                                       # adatok megjelenítése\n",
    "plt.title('Training data')\n",
    "plt.xlabel('Change in water level (X)')\n",
    "plt.ylabel('Water floeing out of the dam (Y)')\n",
    "plt.show()"
   ]
  },
  {
   "cell_type": "markdown",
   "metadata": {},
   "source": [
    "### 2: Regularizált lineáris regresszió költségfüggvény"
   ]
  },
  {
   "cell_type": "code",
   "execution_count": 3,
   "metadata": {
    "scrolled": true
   },
   "outputs": [
    {
     "name": "stdout",
     "output_type": "stream",
     "text": [
      "Cost at weight (1;1):\n",
      "Expected (approx.): 303.993\n",
      "Computed: 303.9931922202643 \n",
      "Gradient expected (approx.): [-15.303015 598.2507]\n",
      "Gradient computed: [[-15.30301567 598.25074417]]\n"
     ]
    }
   ],
   "source": [
    "def linearRegCostFunction(w,*args):\n",
    "    X,y,Lambda = args\n",
    "    m,n = X.shape\n",
    "    y=y.reshape(m,1)\n",
    "    C=0;\n",
    "\n",
    "    w_0 = w.copy().reshape(n,1)\n",
    "    w_0[0] = 0\n",
    "\n",
    "    penalty = (Lambda/(2*m))*np.sum(w_0**2)\n",
    "    C = (1/(2*m)) * (np.sum(((X @ w)-y)**2)) + penalty\n",
    "\n",
    "    return C\n",
    "\n",
    "def linRegGrad(w,*args):\n",
    "    X,y,Lambda = args\n",
    "\n",
    "    m = y.shape[0]\n",
    "    y=y.reshape(m,1)\n",
    "\n",
    "    w_0 = w.copy()\n",
    "    w_0[0] = 0\n",
    "\n",
    "    w = w.reshape(2,1)\n",
    "    grad = (1 / m) * np.sum((((X @ w) - y) * X), 0) + ((Lambda / m) * w_0.T)\n",
    "\n",
    "    return grad\n",
    "\n",
    "\n",
    "w = np.array([[1],[1]])\n",
    "C = linearRegCostFunction(w,np.column_stack((np.ones((m,1)),X)),Y,1)\n",
    "grad = linRegGrad(w,np.column_stack((np.ones((m,1)),X)),Y,1)\n",
    "print('''Cost at weight (1;1):\n",
    "Expected (approx.): 303.993\n",
    "Computed:''',C, '''\n",
    "Gradient expected (approx.): [-15.303015 598.2507]\n",
    "Gradient computed:''', grad)"
   ]
  },
  {
   "cell_type": "markdown",
   "metadata": {},
   "source": [
    "### 3: Lineáris regresszió tanítása"
   ]
  },
  {
   "cell_type": "code",
   "execution_count": 4,
   "metadata": {},
   "outputs": [
    {
     "name": "stdout",
     "output_type": "stream",
     "text": [
      "Weights with the optimization:\n",
      " [[13.0879035 ]\n",
      " [ 0.36777923]]\n"
     ]
    },
    {
     "data": {
      "image/png": "[encoded data removed]",
      "text/plain": [
       "<Figure size 432x288 with 1 Axes>"
      ]
     },
     "metadata": {
      "needs_background": "light"
     },
     "output_type": "display_data"
    }
   ],
   "source": [
    "def trainLinearReg(X,y,Lambda):\n",
    "    args = (X,y.flatten(),Lambda)\n",
    "    init_w = np.ones((X.shape[1],1))\n",
    "    res1 = op.fmin_ncg(linearRegCostFunction,init_w.flatten(),fprime=linRegGrad, args=args, disp=0)\n",
    "\n",
    "    return res1.reshape((n+1,1))\n",
    "\n",
    "\n",
    "Lambda = 0\n",
    "w = trainLinearReg(np.column_stack((np.ones((m,1)),X)),Y,Lambda)\n",
    "print('Weights with the optimization:\\n',w)\n",
    "\n",
    "plt.plot(X,Y,'x',label='Training data')\n",
    "plt.plot(X,np.column_stack((np.ones((m,1)),X)) @ w,'--', label='Trained LR with lambda 0')\n",
    "plt.xlabel('Change in water level (X)')\n",
    "plt.ylabel('water flowing out of the dam (Y)')\n",
    "plt.legend()\n",
    "plt.show()"
   ]
  },
  {
   "cell_type": "markdown",
   "metadata": {},
   "source": [
    "### 4: Egyenes tanítása a linaáris regresszió számára"
   ]
  },
  {
   "cell_type": "code",
   "execution_count": 5,
   "metadata": {},
   "outputs": [
    {
     "data": {
      "image/png": "[encoded data removed]",
      "text/plain": [
       "<Figure size 432x288 with 1 Axes>"
      ]
     },
     "metadata": {
      "needs_background": "light"
     },
     "output_type": "display_data"
    }
   ],
   "source": [
    "def learningCurve(X,Y,X_val,Y_val,Lambda):\n",
    "    m = X.shape[0]\n",
    "\n",
    "    X=np.column_stack((np.ones((m,1)),X))\n",
    "    X_val = np.column_stack((np.ones((X_val.shape[0],1)),X_val))\n",
    "    error_train = np.zeros((m,1))\n",
    "    error_val = np.zeros((m,1))\n",
    "\n",
    "    for i in range (1,m+1):\n",
    "        w = trainLinearReg(X[0:i,:],Y[0:i],Lambda)\n",
    "        error_train[i-1] = linearRegCostFunction(w,X[0:i,:],Y[0:i],Lambda)\n",
    "        error_val[i-1] = linearRegCostFunction(w,X_val,Y_val,Lambda)\n",
    "\n",
    "\n",
    "\n",
    "    return error_train, error_val\n",
    "\n",
    "\n",
    "Lambda = 0\n",
    "e_train,e_val = learningCurve(X,Y,X_val,Y_val,Lambda)\n",
    "\n",
    "plt.plot(e_train, label = \"Train\")\n",
    "plt.plot(e_val, label = \"Cross validation\")\n",
    "plt.xlabel(\"Number of training examples\")\n",
    "plt.ylabel(\"Error\")\n",
    "plt.legend()\n",
    "plt.show()"
   ]
  },
  {
   "cell_type": "markdown",
   "metadata": {},
   "source": [
    "### 5: Feature mapping a polinomiális regresszióért"
   ]
  },
  {
   "cell_type": "code",
   "execution_count": 6,
   "metadata": {},
   "outputs": [
    {
     "name": "stdout",
     "output_type": "stream",
     "text": [
      "Expected Normalized Training Example 1 (approx.):\n",
      "[1. -0.362 -0.755  0.182 -0.706  0.306 -0.590  0.344  -0.508]\n",
      "Normalized Training Example 1:\n",
      " [ 1.         -0.36214078 -0.75508669  0.18222588 -0.70618991  0.30661792\n",
      " -0.59087767  0.3445158  -0.50848117]\n"
     ]
    }
   ],
   "source": [
    "def polyFeatures(X,p=8):\n",
    "    \n",
    "    m=X.shape[0]\n",
    "    X_poly = np.zeros((m,p))\n",
    "    \n",
    "    for i in range(1,m+1):\n",
    "        for j in range(1,p+1):\n",
    "            X_poly[i-1,j-1] = X[i-1]**j\n",
    "    \n",
    "    return X_poly\n",
    "\n",
    "def featureNormalize(X):\n",
    "    \n",
    "    avg = np.mean(X, axis = 0)\n",
    "    X_norm = X-avg\n",
    "    std = np.std(X_norm, axis = 0,ddof = 1)\n",
    "    X_norm = X_norm/std\n",
    "    \n",
    "    return X_norm,avg,std\n",
    "\n",
    "# X:\n",
    "X_p = polyFeatures(X)                                       # polynomial features\n",
    "X_p,mu,sigma = featureNormalize(X_p)                        # feature normalization\n",
    "X_p = np.column_stack((np.ones((m,1)),X_p))                 # bias\n",
    "\n",
    "# X_TESZT:\n",
    "\n",
    "X_test_p = polyFeatures(X_test)\n",
    "X_test_p = (X_test_p-mu)/sigma\n",
    "X_test_p = np.column_stack((np.ones((X_test_p.shape[0],1)),X_test_p))\n",
    "\n",
    "# X_val:\n",
    "\n",
    "X_val_p = polyFeatures(X_val)\n",
    "X_val_p = (X_val_p-mu)/sigma\n",
    "X_val_p = np.column_stack((np.ones((X_val_p.shape[0],1)),X_val_p))\n",
    "\n",
    "print(\"\"\"Expected Normalized Training Example 1 (approx.):\n",
    "[1. -0.362 -0.755  0.182 -0.706  0.306 -0.590  0.344  -0.508]\"\"\")\n",
    "print('Normalized Training Example 1:\\n',X_p[0,:])\n",
    "\n"
   ]
  },
  {
   "cell_type": "markdown",
   "metadata": {},
   "source": [
    "### 6: Görbe tanulása a polinomiális regresszióval"
   ]
  },
  {
   "cell_type": "code",
   "execution_count": 7,
   "metadata": {},
   "outputs": [
    {
     "ename": "ValueError",
     "evalue": "cannot reshape array of size 9 into shape (2,1)",
     "output_type": "error",
     "traceback": [
      "\u001b[1;31m---------------------------------------------------------------------------\u001b[0m",
      "\u001b[1;31mValueError\u001b[0m                                Traceback (most recent call last)",
      "\u001b[1;32m<ipython-input-7-19db2823e5e7>\u001b[0m in \u001b[0;36m<module>\u001b[1;34m\u001b[0m\n\u001b[0;32m     13\u001b[0m \u001b[1;33m\u001b[0m\u001b[0m\n\u001b[0;32m     14\u001b[0m \u001b[1;33m\u001b[0m\u001b[0m\n\u001b[1;32m---> 15\u001b[1;33m \u001b[0mw\u001b[0m \u001b[1;33m=\u001b[0m \u001b[0mtrainLinearReg\u001b[0m\u001b[1;33m(\u001b[0m\u001b[0mX_p\u001b[0m\u001b[1;33m,\u001b[0m\u001b[0mY\u001b[0m\u001b[1;33m,\u001b[0m\u001b[1;36m0\u001b[0m\u001b[1;33m)\u001b[0m\u001b[1;33m\u001b[0m\u001b[0m\n\u001b[0m\u001b[0;32m     16\u001b[0m \u001b[1;33m\u001b[0m\u001b[0m\n\u001b[0;32m     17\u001b[0m \u001b[0mplt\u001b[0m\u001b[1;33m.\u001b[0m\u001b[0mplot\u001b[0m\u001b[1;33m(\u001b[0m\u001b[0mX\u001b[0m\u001b[1;33m,\u001b[0m\u001b[0mY\u001b[0m\u001b[1;33m,\u001b[0m \u001b[1;34m'rx'\u001b[0m\u001b[1;33m)\u001b[0m\u001b[1;33m\u001b[0m\u001b[0m\n",
      "\u001b[1;32m<ipython-input-4-bfe92813da72>\u001b[0m in \u001b[0;36mtrainLinearReg\u001b[1;34m(X, y, Lambda)\u001b[0m\n\u001b[0;32m      2\u001b[0m     \u001b[0margs\u001b[0m \u001b[1;33m=\u001b[0m \u001b[1;33m(\u001b[0m\u001b[0mX\u001b[0m\u001b[1;33m,\u001b[0m\u001b[0my\u001b[0m\u001b[1;33m.\u001b[0m\u001b[0mflatten\u001b[0m\u001b[1;33m(\u001b[0m\u001b[1;33m)\u001b[0m\u001b[1;33m,\u001b[0m\u001b[0mLambda\u001b[0m\u001b[1;33m)\u001b[0m\u001b[1;33m\u001b[0m\u001b[0m\n\u001b[0;32m      3\u001b[0m     \u001b[0minit_w\u001b[0m \u001b[1;33m=\u001b[0m \u001b[0mnp\u001b[0m\u001b[1;33m.\u001b[0m\u001b[0mones\u001b[0m\u001b[1;33m(\u001b[0m\u001b[1;33m(\u001b[0m\u001b[0mX\u001b[0m\u001b[1;33m.\u001b[0m\u001b[0mshape\u001b[0m\u001b[1;33m[\u001b[0m\u001b[1;36m1\u001b[0m\u001b[1;33m]\u001b[0m\u001b[1;33m,\u001b[0m\u001b[1;36m1\u001b[0m\u001b[1;33m)\u001b[0m\u001b[1;33m)\u001b[0m\u001b[1;33m\u001b[0m\u001b[0m\n\u001b[1;32m----> 4\u001b[1;33m     \u001b[0mres1\u001b[0m \u001b[1;33m=\u001b[0m \u001b[0mop\u001b[0m\u001b[1;33m.\u001b[0m\u001b[0mfmin_ncg\u001b[0m\u001b[1;33m(\u001b[0m\u001b[0mlinearRegCostFunction\u001b[0m\u001b[1;33m,\u001b[0m\u001b[0minit_w\u001b[0m\u001b[1;33m.\u001b[0m\u001b[0mflatten\u001b[0m\u001b[1;33m(\u001b[0m\u001b[1;33m)\u001b[0m\u001b[1;33m,\u001b[0m\u001b[0mfprime\u001b[0m\u001b[1;33m=\u001b[0m\u001b[0mlinRegGrad\u001b[0m\u001b[1;33m,\u001b[0m \u001b[0margs\u001b[0m\u001b[1;33m=\u001b[0m\u001b[0margs\u001b[0m\u001b[1;33m,\u001b[0m \u001b[0mdisp\u001b[0m\u001b[1;33m=\u001b[0m\u001b[1;36m0\u001b[0m\u001b[1;33m)\u001b[0m\u001b[1;33m\u001b[0m\u001b[0m\n\u001b[0m\u001b[0;32m      5\u001b[0m \u001b[1;33m\u001b[0m\u001b[0m\n\u001b[0;32m      6\u001b[0m     \u001b[1;32mreturn\u001b[0m \u001b[0mres1\u001b[0m\u001b[1;33m.\u001b[0m\u001b[0mreshape\u001b[0m\u001b[1;33m(\u001b[0m\u001b[1;33m(\u001b[0m\u001b[0mn\u001b[0m\u001b[1;33m+\u001b[0m\u001b[1;36m1\u001b[0m\u001b[1;33m,\u001b[0m\u001b[1;36m1\u001b[0m\u001b[1;33m)\u001b[0m\u001b[1;33m)\u001b[0m\u001b[1;33m\u001b[0m\u001b[0m\n",
      "\u001b[1;32mc:\\python37\\lib\\site-packages\\scipy\\optimize\\optimize.py\u001b[0m in \u001b[0;36mfmin_ncg\u001b[1;34m(f, x0, fprime, fhess_p, fhess, args, avextol, epsilon, maxiter, full_output, disp, retall, callback)\u001b[0m\n\u001b[0;32m   1495\u001b[0m \u001b[1;33m\u001b[0m\u001b[0m\n\u001b[0;32m   1496\u001b[0m     res = _minimize_newtoncg(f, x0, args, fprime, fhess, fhess_p,\n\u001b[1;32m-> 1497\u001b[1;33m                              callback=callback, **opts)\n\u001b[0m\u001b[0;32m   1498\u001b[0m \u001b[1;33m\u001b[0m\u001b[0m\n\u001b[0;32m   1499\u001b[0m     \u001b[1;32mif\u001b[0m \u001b[0mfull_output\u001b[0m\u001b[1;33m:\u001b[0m\u001b[1;33m\u001b[0m\u001b[0m\n",
      "\u001b[1;32mc:\\python37\\lib\\site-packages\\scipy\\optimize\\optimize.py\u001b[0m in \u001b[0;36m_minimize_newtoncg\u001b[1;34m(fun, x0, args, jac, hess, hessp, callback, xtol, eps, maxiter, disp, return_all, **unknown_options)\u001b[0m\n\u001b[0;32m   1585\u001b[0m         \u001b[1;31m# Compute a search direction pk by applying the CG method to\u001b[0m\u001b[1;33m\u001b[0m\u001b[1;33m\u001b[0m\u001b[0m\n\u001b[0;32m   1586\u001b[0m         \u001b[1;31m#  del2 f(xk) p = - grad f(xk) starting from 0.\u001b[0m\u001b[1;33m\u001b[0m\u001b[1;33m\u001b[0m\u001b[0m\n\u001b[1;32m-> 1587\u001b[1;33m         \u001b[0mb\u001b[0m \u001b[1;33m=\u001b[0m \u001b[1;33m-\u001b[0m\u001b[0mfprime\u001b[0m\u001b[1;33m(\u001b[0m\u001b[0mxk\u001b[0m\u001b[1;33m)\u001b[0m\u001b[1;33m\u001b[0m\u001b[0m\n\u001b[0m\u001b[0;32m   1588\u001b[0m         \u001b[0mmaggrad\u001b[0m \u001b[1;33m=\u001b[0m \u001b[0mnumpy\u001b[0m\u001b[1;33m.\u001b[0m\u001b[0madd\u001b[0m\u001b[1;33m.\u001b[0m\u001b[0mreduce\u001b[0m\u001b[1;33m(\u001b[0m\u001b[0mnumpy\u001b[0m\u001b[1;33m.\u001b[0m\u001b[0mabs\u001b[0m\u001b[1;33m(\u001b[0m\u001b[0mb\u001b[0m\u001b[1;33m)\u001b[0m\u001b[1;33m)\u001b[0m\u001b[1;33m\u001b[0m\u001b[0m\n\u001b[0;32m   1589\u001b[0m         \u001b[0meta\u001b[0m \u001b[1;33m=\u001b[0m \u001b[0mnumpy\u001b[0m\u001b[1;33m.\u001b[0m\u001b[0mmin\u001b[0m\u001b[1;33m(\u001b[0m\u001b[1;33m[\u001b[0m\u001b[1;36m0.5\u001b[0m\u001b[1;33m,\u001b[0m \u001b[0mnumpy\u001b[0m\u001b[1;33m.\u001b[0m\u001b[0msqrt\u001b[0m\u001b[1;33m(\u001b[0m\u001b[0mmaggrad\u001b[0m\u001b[1;33m)\u001b[0m\u001b[1;33m]\u001b[0m\u001b[1;33m)\u001b[0m\u001b[1;33m\u001b[0m\u001b[0m\n",
      "\u001b[1;32mc:\\python37\\lib\\site-packages\\scipy\\optimize\\optimize.py\u001b[0m in \u001b[0;36mfunction_wrapper\u001b[1;34m(*wrapper_args)\u001b[0m\n\u001b[0;32m    325\u001b[0m     \u001b[1;32mdef\u001b[0m \u001b[0mfunction_wrapper\u001b[0m\u001b[1;33m(\u001b[0m\u001b[1;33m*\u001b[0m\u001b[0mwrapper_args\u001b[0m\u001b[1;33m)\u001b[0m\u001b[1;33m:\u001b[0m\u001b[1;33m\u001b[0m\u001b[0m\n\u001b[0;32m    326\u001b[0m         \u001b[0mncalls\u001b[0m\u001b[1;33m[\u001b[0m\u001b[1;36m0\u001b[0m\u001b[1;33m]\u001b[0m \u001b[1;33m+=\u001b[0m \u001b[1;36m1\u001b[0m\u001b[1;33m\u001b[0m\u001b[0m\n\u001b[1;32m--> 327\u001b[1;33m         \u001b[1;32mreturn\u001b[0m \u001b[0mfunction\u001b[0m\u001b[1;33m(\u001b[0m\u001b[1;33m*\u001b[0m\u001b[1;33m(\u001b[0m\u001b[0mwrapper_args\u001b[0m \u001b[1;33m+\u001b[0m \u001b[0margs\u001b[0m\u001b[1;33m)\u001b[0m\u001b[1;33m)\u001b[0m\u001b[1;33m\u001b[0m\u001b[0m\n\u001b[0m\u001b[0;32m    328\u001b[0m \u001b[1;33m\u001b[0m\u001b[0m\n\u001b[0;32m    329\u001b[0m     \u001b[1;32mreturn\u001b[0m \u001b[0mncalls\u001b[0m\u001b[1;33m,\u001b[0m \u001b[0mfunction_wrapper\u001b[0m\u001b[1;33m\u001b[0m\u001b[0m\n",
      "\u001b[1;32m<ipython-input-3-35bfde87c099>\u001b[0m in \u001b[0;36mlinRegGrad\u001b[1;34m(w, *args)\u001b[0m\n\u001b[0;32m     22\u001b[0m     \u001b[0mw_0\u001b[0m\u001b[1;33m[\u001b[0m\u001b[1;36m0\u001b[0m\u001b[1;33m]\u001b[0m \u001b[1;33m=\u001b[0m \u001b[1;36m0\u001b[0m\u001b[1;33m\u001b[0m\u001b[0m\n\u001b[0;32m     23\u001b[0m \u001b[1;33m\u001b[0m\u001b[0m\n\u001b[1;32m---> 24\u001b[1;33m     \u001b[0mw\u001b[0m \u001b[1;33m=\u001b[0m \u001b[0mw\u001b[0m\u001b[1;33m.\u001b[0m\u001b[0mreshape\u001b[0m\u001b[1;33m(\u001b[0m\u001b[1;36m2\u001b[0m\u001b[1;33m,\u001b[0m\u001b[1;36m1\u001b[0m\u001b[1;33m)\u001b[0m\u001b[1;33m\u001b[0m\u001b[0m\n\u001b[0m\u001b[0;32m     25\u001b[0m     \u001b[0mgrad\u001b[0m \u001b[1;33m=\u001b[0m \u001b[1;33m(\u001b[0m\u001b[1;36m1\u001b[0m \u001b[1;33m/\u001b[0m \u001b[0mm\u001b[0m\u001b[1;33m)\u001b[0m \u001b[1;33m*\u001b[0m \u001b[0mnp\u001b[0m\u001b[1;33m.\u001b[0m\u001b[0msum\u001b[0m\u001b[1;33m(\u001b[0m\u001b[1;33m(\u001b[0m\u001b[1;33m(\u001b[0m\u001b[1;33m(\u001b[0m\u001b[0mX\u001b[0m \u001b[1;33m@\u001b[0m \u001b[0mw\u001b[0m\u001b[1;33m)\u001b[0m \u001b[1;33m-\u001b[0m \u001b[0my\u001b[0m\u001b[1;33m)\u001b[0m \u001b[1;33m*\u001b[0m \u001b[0mX\u001b[0m\u001b[1;33m)\u001b[0m\u001b[1;33m,\u001b[0m \u001b[1;36m0\u001b[0m\u001b[1;33m)\u001b[0m \u001b[1;33m+\u001b[0m \u001b[1;33m(\u001b[0m\u001b[1;33m(\u001b[0m\u001b[0mLambda\u001b[0m \u001b[1;33m/\u001b[0m \u001b[0mm\u001b[0m\u001b[1;33m)\u001b[0m \u001b[1;33m*\u001b[0m \u001b[0mw_0\u001b[0m\u001b[1;33m.\u001b[0m\u001b[0mT\u001b[0m\u001b[1;33m)\u001b[0m\u001b[1;33m\u001b[0m\u001b[0m\n\u001b[0;32m     26\u001b[0m \u001b[1;33m\u001b[0m\u001b[0m\n",
      "\u001b[1;31mValueError\u001b[0m: cannot reshape array of size 9 into shape (2,1)"
     ]
    }
   ],
   "source": [
    "def toPlotFit(min_x,max_x,mu,sigma,w,p=8):\n",
    "    \n",
    "    x = np.asmatrix(np.arange(min_x-15,max_x+25,0.05)).T\n",
    "    m = x.shape[0]\n",
    "    \n",
    "    x_poly = polyFeatures(x)\n",
    "    x_poly = (x_poly-mu)/sigma\n",
    "    x_poly = np.column_stack((np.ones((m,1)),x_poly))\n",
    "    \n",
    "    yfitted = x_poly@w\n",
    "    \n",
    "    return yfitted,x\n",
    "\n",
    "\n",
    "w = trainLinearReg(X_p,Y,0)\n",
    "\n",
    "plt.plot(X,Y, 'rx')\n",
    "fittedY,xplot = toPlotFit(np.min(X),np.max(X),mu,sigma,w)\n",
    "plt.plot(xplot,fittedY, '--')\n",
    "plt.show()\n"
   ]
  },
  {
   "cell_type": "code",
   "execution_count": null,
   "metadata": {},
   "outputs": [],
   "source": [
    "ww = np.loadtxt(\"w_final.txt\")"
   ]
  },
  {
   "cell_type": "code",
   "execution_count": null,
   "metadata": {},
   "outputs": [],
   "source": []
  },
  {
   "cell_type": "code",
   "execution_count": null,
   "metadata": {},
   "outputs": [],
   "source": []
  }
 ],
 "metadata": {
  "kernelspec": {
   "display_name": "Python 3",
   "language": "python",
   "name": "python3"
  },
  "language_info": {
   "codemirror_mode": {
    "name": "ipython",
    "version": 3
   },
   "file_extension": ".py",
   "mimetype": "text/x-python",
   "name": "python",
   "nbconvert_exporter": "python",
   "pygments_lexer": "ipython3",
   "version": "3.7.0"
  }
 },
 "nbformat": 4,
 "nbformat_minor": 2
}
