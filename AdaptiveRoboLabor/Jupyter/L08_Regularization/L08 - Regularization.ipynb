{
 "cells": [
  {
   "cell_type": "markdown",
   "metadata": {},
   "source": [
    "# Labor 08 - Lineáris regresszió regularizálása és Bias - Variancia\n",
    "### Vízfolyás\n",
    "A feladat első felében implementálásra kerül egy lineáris regresszió, hogy előre jelezhessük a kifolyt víz mennyiségét egy tartályból, annak alapján, hogy abban mennyi víz van. A feladat második felében megfigyeljük a tanulóalgoritmusok debuggolását és a bias illetve variancia típusú hibákat."
   ]
  },
  {
   "cell_type": "markdown",
   "metadata": {},
   "source": [
    "### 1: Importálás, adatok betöltése és vizualizálása"
   ]
  },
  {
   "cell_type": "code",
   "execution_count": 1,
   "metadata": {},
   "outputs": [
    {
     "name": "stderr",
     "output_type": "stream",
     "text": [
      "Using TensorFlow backend.\n"
     ]
    },
    {
     "name": "stdout",
     "output_type": "stream",
     "text": [
      "Shape of X: (21, 1)\n",
      "Shape of Y: (21, 1)\n"
     ]
    }
   ],
   "source": [
    "import numpy as np\n",
    "import matplotlib.pyplot as plt\n",
    "from scipy.io import loadmat\n",
    "import scipy.optimize as op\n",
    "\n",
    "# keras imports for the dataset and building our neural network\n",
    "from keras.models import Sequential\n",
    "from keras.layers.core import Dense, Activation\n",
    "from keras import regularizers\n",
    "from keras import optimizers\n",
    "\n",
    "\n",
    "from numpy.random import seed\n",
    "seed(1)\n",
    "\n",
    "data = loadmat(\"Lab8data.mat\")                          # adatok betöltése\n",
    "X_test = data[\"X\"]                                     # adatok szerkesztése változókba\n",
    "Y_test = data[\"y\"]\n",
    "X_val   = data[\"Xval\"]\n",
    "Y_val   = data[\"yval\"]\n",
    "X_train  = data[\"Xtest\"]\n",
    "Y_train  = data[\"ytest\"]\n",
    "\n",
    "del data\n",
    "m,n = X_train.shape\n",
    "print('Shape of X:', X_train.shape)\n",
    "print('Shape of Y:', Y_train.shape)"
   ]
  },
  {
   "cell_type": "code",
   "execution_count": 2,
   "metadata": {},
   "outputs": [
    {
     "data": {
      "image/png": "[encoded data removed]",
      "text/plain": [
       "<Figure size 432x288 with 1 Axes>"
      ]
     },
     "metadata": {
      "needs_background": "light"
     },
     "output_type": "display_data"
    }
   ],
   "source": [
    "plt.plot(X_train,Y_train,'x')   # adatok megjelenítése\n",
    "plt.title('Training data')\n",
    "plt.xlabel('Change in water level (X)')\n",
    "plt.ylabel('Water floeing out of the dam (Y)')\n",
    "plt.show()"
   ]
  },
  {
   "cell_type": "markdown",
   "metadata": {},
   "source": [
    "A machine learning addig tart, ahol a deep learning elkezdődik. A határ az egy rétegű neurális háló."
   ]
  },
  {
   "cell_type": "markdown",
   "metadata": {},
   "source": [
    "### Linearizált regresszió büntetéssel"
   ]
  },
  {
   "cell_type": "code",
   "execution_count": 3,
   "metadata": {},
   "outputs": [
    {
     "name": "stdout",
     "output_type": "stream",
     "text": [
      "WARNING:tensorflow:From C:\\Users\\Fortuz Legion\\.conda\\envs\\work\\lib\\site-packages\\tensorflow\\python\\framework\\op_def_library.py:263: colocate_with (from tensorflow.python.framework.ops) is deprecated and will be removed in a future version.\n",
      "Instructions for updating:\n",
      "Colocations handled automatically by placer.\n",
      "WARNING:tensorflow:From C:\\Users\\Fortuz Legion\\.conda\\envs\\work\\lib\\site-packages\\tensorflow\\python\\ops\\math_ops.py:3066: to_int32 (from tensorflow.python.ops.math_ops) is deprecated and will be removed in a future version.\n",
      "Instructions for updating:\n",
      "Use tf.cast instead.\n",
      "Train on 21 samples, validate on 21 samples\n",
      "Epoch 1/40\n",
      " - 0s - loss: 765.3959 - val_loss: 556.5465\n",
      "Epoch 2/40\n",
      " - 0s - loss: 643.2556 - val_loss: 551.4390\n",
      "Epoch 3/40\n",
      " - 0s - loss: 551.8754 - val_loss: 414.8636\n",
      "Epoch 4/40\n",
      " - 0s - loss: 483.4542 - val_loss: 427.2555\n",
      "Epoch 5/40\n",
      " - 0s - loss: 432.1689 - val_loss: 337.3401\n",
      "Epoch 6/40\n",
      " - 0s - loss: 393.6738 - val_loss: 355.5286\n",
      "Epoch 7/40\n",
      " - 0s - loss: 364.7252 - val_loss: 295.0230\n",
      "Epoch 8/40\n",
      " - 0s - loss: 342.9024 - val_loss: 313.4912\n",
      "Epoch 9/40\n",
      " - 0s - loss: 326.3987 - val_loss: 271.9208\n",
      "Epoch 10/40\n",
      " - 0s - loss: 313.8658 - val_loss: 288.3442\n",
      "Epoch 11/40\n",
      " - 0s - loss: 304.2971 - val_loss: 259.2280\n",
      "Epoch 12/40\n",
      " - 0s - loss: 296.9418 - val_loss: 272.8700\n",
      "Epoch 13/40\n",
      " - 0s - loss: 291.2390 - val_loss: 252.1154\n",
      "Epoch 14/40\n",
      " - 0s - loss: 286.7706 - val_loss: 262.9828\n",
      "Epoch 15/40\n",
      " - 0s - loss: 283.2242 - val_loss: 247.9496\n",
      "Epoch 16/40\n",
      " - 0s - loss: 280.3667 - val_loss: 256.3576\n",
      "Epoch 17/40\n",
      " - 0s - loss: 278.0243 - val_loss: 245.3063\n",
      "Epoch 18/40\n",
      " - 0s - loss: 276.0670 - val_loss: 251.6626\n",
      "Epoch 19/40\n",
      " - 0s - loss: 274.3981 - val_loss: 243.4235\n",
      "Epoch 20/40\n",
      " - 0s - loss: 272.9452 - val_loss: 248.1288\n",
      "Epoch 21/40\n",
      " - 0s - loss: 271.6542 - val_loss: 241.9003\n",
      "Epoch 22/40\n",
      " - 0s - loss: 270.4850 - val_loss: 245.3073\n",
      "Epoch 23/40\n",
      " - 0s - loss: 269.4075 - val_loss: 240.5311\n",
      "Epoch 24/40\n",
      " - 0s - loss: 268.3991 - val_loss: 242.9328\n",
      "Epoch 25/40\n",
      " - 0s - loss: 267.4431 - val_loss: 239.2143\n",
      "Epoch 26/40\n",
      " - 0s - loss: 266.5272 - val_loss: 240.8461\n",
      "Epoch 27/40\n",
      " - 0s - loss: 265.6418 - val_loss: 237.9032\n",
      "Epoch 28/40\n",
      " - 0s - loss: 264.7800 - val_loss: 238.9502\n",
      "Epoch 29/40\n",
      " - 0s - loss: 263.9367 - val_loss: 236.5790\n",
      "Epoch 30/40\n",
      " - 0s - loss: 263.1078 - val_loss: 237.1844\n",
      "Epoch 31/40\n",
      " - 0s - loss: 262.2907 - val_loss: 235.2367\n",
      "Epoch 32/40\n",
      " - 0s - loss: 261.4829 - val_loss: 235.5103\n",
      "Epoch 33/40\n",
      " - 0s - loss: 260.6830 - val_loss: 233.8776\n",
      "Epoch 34/40\n",
      " - 0s - loss: 259.8897 - val_loss: 233.9030\n",
      "Epoch 35/40\n",
      " - 0s - loss: 259.1021 - val_loss: 232.5053\n",
      "Epoch 36/40\n",
      " - 0s - loss: 258.3195 - val_loss: 232.3457\n",
      "Epoch 37/40\n",
      " - 0s - loss: 257.5414 - val_loss: 231.1241\n",
      "Epoch 38/40\n",
      " - 0s - loss: 256.7675 - val_loss: 230.8273\n",
      "Epoch 39/40\n",
      " - 0s - loss: 255.9973 - val_loss: 229.7382\n",
      "Epoch 40/40\n",
      " - 0s - loss: 255.2308 - val_loss: 229.3400\n"
     ]
    }
   ],
   "source": [
    "Lambda = 0\n",
    "lr_rate = 0.001\n",
    "epoch = 40\n",
    "\n",
    "# building a linear stack of layers with the sequential model\n",
    "model = Sequential()\n",
    "model.add(Dense(1, input_shape=(1,), use_bias=True, kernel_regularizer=regularizers.l2(Lambda)))\n",
    "\n",
    "# compiling the sequential model\n",
    "sgd = optimizers.SGD(lr=lr_rate)\n",
    "model.compile(loss='MSE', optimizer=sgd)\n",
    "\n",
    "# training the model and saving metrics in history\n",
    "history = model.fit(X_train, Y_train, epochs=epoch, validation_data=(X_val, Y_val), verbose = 2)"
   ]
  },
  {
   "cell_type": "code",
   "execution_count": 4,
   "metadata": {},
   "outputs": [
    {
     "data": {
      "text/plain": [
       "<matplotlib.legend.Legend at 0x16f3b407978>"
      ]
     },
     "execution_count": 4,
     "metadata": {},
     "output_type": "execute_result"
    },
    {
     "data": {
      "image/png": "[encoded data removed]",
      "text/plain": [
       "<Figure size 432x288 with 1 Axes>"
      ]
     },
     "metadata": {
      "needs_background": "light"
     },
     "output_type": "display_data"
    }
   ],
   "source": [
    "# plotting the metrics\n",
    "fig = plt.figure()\n",
    "plt.plot(history.history['loss'])\n",
    "plt.plot(history.history['val_loss'])\n",
    "plt.title('Loss functions')\n",
    "plt.ylabel('loss')\n",
    "plt.xlabel('epoch')\n",
    "plt.legend(['Training loss', 'Validation loss'])"
   ]
  },
  {
   "cell_type": "code",
   "execution_count": 5,
   "metadata": {},
   "outputs": [
    {
     "data": {
      "image/png": "[encoded data removed]",
      "text/plain": [
       "<Figure size 432x288 with 1 Axes>"
      ]
     },
     "metadata": {
      "needs_background": "light"
     },
     "output_type": "display_data"
    }
   ],
   "source": [
    "Y_pred = model.predict(X_test)\n",
    "\n",
    "plt.plot(X_train,Y_train,'x')   # adatok megjelenítése\n",
    "plt.plot(X_test,Y_pred,'x')   # adatok megjelenítése\n",
    "plt.title('Training data')\n",
    "plt.xlabel('Change in water level (X)')\n",
    "plt.ylabel('Water floeing out of the dam (Y)')\n",
    "plt.legend(['Training data', 'Prediction (on Test data)'])\n",
    "plt.show()"
   ]
  },
  {
   "cell_type": "markdown",
   "metadata": {},
   "source": [
    "# Poly Feature"
   ]
  },
  {
   "cell_type": "code",
   "execution_count": 6,
   "metadata": {},
   "outputs": [],
   "source": [
    "def polyFeatures(X,p =9):\n",
    "    \n",
    "    m=X.shape[0]\n",
    "    X_poly = np.zeros((m,p))\n",
    "    \n",
    "    for i in range(1,m+1):\n",
    "        for j in range(1,p+1):\n",
    "            X_poly[i-1,j-1] = X[i-1]**j\n",
    "    \n",
    "    return X_poly\n",
    "\n",
    "def featureNormalize(X):\n",
    "    \n",
    "    avg = np.mean(X, axis = 0)\n",
    "    X_norm = X-avg\n",
    "    std = np.std(X_norm, axis = 0,ddof = 1)\n",
    "    X_norm = X_norm/std\n",
    "    \n",
    "    return X_norm,avg,std"
   ]
  },
  {
   "cell_type": "code",
   "execution_count": 7,
   "metadata": {},
   "outputs": [],
   "source": [
    "Lambda = 0.001\n",
    "lr_rate = 0.01\n",
    "epoch = 30\n",
    "order=9"
   ]
  },
  {
   "cell_type": "code",
   "execution_count": 8,
   "metadata": {},
   "outputs": [
    {
     "name": "stdout",
     "output_type": "stream",
     "text": [
      "Expected Normalized Training Example for order=3 (approx.):\n",
      "[-0.362 -0.755  0.182 ]\n",
      "Normalized Training Example 1:\n",
      " [-0.9296276   0.19880974 -0.4045469  -0.15939636 -0.01312719 -0.29085343\n",
      "  0.16671663 -0.31824532  0.23591308]\n"
     ]
    }
   ],
   "source": [
    "# X:\n",
    "X_train_p = polyFeatures(X_train, order)                                # polynomial features\n",
    "X_train_pn, mu, sigma = featureNormalize(X_train_p)                     # feature normalization\n",
    "\n",
    "# X_val:\n",
    "X_val_p = polyFeatures(X_val, order)\n",
    "X_val_pn = (X_val_p-mu)/sigma\n",
    "\n",
    "# X_TESZT:\n",
    "X_test_p = polyFeatures(X_test, order)\n",
    "X_test_pn = (X_test_p-mu)/sigma\n",
    "\n",
    "print(\"\"\"Expected Normalized Training Example for order=3 (approx.):\n",
    "[-0.362 -0.755  0.182 ]\"\"\")\n",
    "print('Normalized Training Example 1:\\n',X_train_pn[0,:])"
   ]
  },
  {
   "cell_type": "code",
   "execution_count": 9,
   "metadata": {},
   "outputs": [
    {
     "name": "stdout",
     "output_type": "stream",
     "text": [
      "Train on 21 samples, validate on 21 samples\n",
      "Epoch 1/30\n",
      " - 0s - loss: 378.6748 - val_loss: 276.5738\n",
      "Epoch 2/30\n",
      " - 0s - loss: 330.1140 - val_loss: 226.6941\n",
      "Epoch 3/30\n",
      " - 0s - loss: 279.4474 - val_loss: 166.3671\n",
      "Epoch 4/30\n",
      " - 0s - loss: 216.8239 - val_loss: 102.5317\n",
      "Epoch 5/30\n",
      " - 0s - loss: 144.4882 - val_loss: 48.7700\n",
      "Epoch 6/30\n",
      " - 0s - loss: 74.4172 - val_loss: 17.8389\n",
      "Epoch 7/30\n",
      " - 0s - loss: 27.4460 - val_loss: 10.1262\n",
      "Epoch 8/30\n",
      " - 0s - loss: 9.2740 - val_loss: 10.9021\n",
      "Epoch 9/30\n",
      " - 0s - loss: 5.3337 - val_loss: 11.9654\n",
      "Epoch 10/30\n",
      " - 0s - loss: 4.5923 - val_loss: 11.7476\n",
      "Epoch 11/30\n",
      " - 0s - loss: 4.3317 - val_loss: 12.4536\n",
      "Epoch 12/30\n",
      " - 0s - loss: 4.2073 - val_loss: 11.2869\n",
      "Epoch 13/30\n",
      " - 0s - loss: 4.2144 - val_loss: 13.3685\n",
      "Epoch 14/30\n",
      " - 0s - loss: 4.4486 - val_loss: 10.4730\n",
      "Epoch 15/30\n",
      " - 0s - loss: 5.1994 - val_loss: 16.5053\n",
      "Epoch 16/30\n",
      " - 0s - loss: 7.1038 - val_loss: 10.1197\n",
      "Epoch 17/30\n",
      " - 0s - loss: 11.9826 - val_loss: 27.4015\n",
      "Epoch 18/30\n",
      " - 0s - loss: 22.5848 - val_loss: 18.1381\n",
      "Epoch 19/30\n",
      " - 0s - loss: 47.5356 - val_loss: 55.5309\n",
      "Epoch 20/30\n",
      " - 0s - loss: 79.2406 - val_loss: 46.4026\n",
      "Epoch 21/30\n",
      " - 0s - loss: 121.5187 - val_loss: 40.1752\n",
      "Epoch 22/30\n",
      " - 0s - loss: 66.8053 - val_loss: 17.7463\n",
      "Epoch 23/30\n",
      " - 0s - loss: 36.8978 - val_loss: 14.8114\n",
      "Epoch 24/30\n",
      " - 0s - loss: 9.8731 - val_loss: 8.7339\n",
      "Epoch 25/30\n",
      " - 0s - loss: 6.0928 - val_loss: 14.2328\n",
      "Epoch 26/30\n",
      " - 0s - loss: 4.7479 - val_loss: 10.3106\n",
      "Epoch 27/30\n",
      " - 0s - loss: 4.3254 - val_loss: 13.5035\n",
      "Epoch 28/30\n",
      " - 0s - loss: 4.0365 - val_loss: 10.9926\n",
      "Epoch 29/30\n",
      " - 0s - loss: 3.8928 - val_loss: 12.9504\n",
      "Epoch 30/30\n",
      " - 0s - loss: 3.7927 - val_loss: 11.4100\n"
     ]
    }
   ],
   "source": [
    "# building a linear stack of layers with the sequential model\n",
    "model2 = Sequential()\n",
    "model2.add(Dense(order, input_shape=(order,), use_bias=True, kernel_regularizer=regularizers.l2(Lambda)))\n",
    "model2.add(Dense(1))\n",
    "\n",
    "# compiling the sequential model\n",
    "sgd = optimizers.SGD(lr=lr_rate)\n",
    "model2.compile(loss='MSE', optimizer=sgd)\n",
    "\n",
    "# training the model and saving metrics in history\n",
    "history2 = model2.fit(X_train_pn, Y_train, epochs=epoch, validation_data=(X_val_pn, Y_val), verbose = 2)"
   ]
  },
  {
   "cell_type": "code",
   "execution_count": 10,
   "metadata": {},
   "outputs": [
    {
     "data": {
      "text/plain": [
       "<matplotlib.legend.Legend at 0x16f3b742780>"
      ]
     },
     "execution_count": 10,
     "metadata": {},
     "output_type": "execute_result"
    },
    {
     "data": {
      "image/png": "[encoded data removed]",
      "text/plain": [
       "<Figure size 432x288 with 1 Axes>"
      ]
     },
     "metadata": {
      "needs_background": "light"
     },
     "output_type": "display_data"
    }
   ],
   "source": [
    "# plotting the metrics\n",
    "fig = plt.figure()\n",
    "plt.plot(history2.history['loss'])\n",
    "plt.plot(history2.history['val_loss'])\n",
    "plt.title('Loss functions')\n",
    "plt.ylabel('loss')\n",
    "plt.xlabel('epoch')\n",
    "plt.legend(['Train loss', 'Validation loss'])"
   ]
  },
  {
   "cell_type": "code",
   "execution_count": 13,
   "metadata": {},
   "outputs": [
    {
     "data": {
      "image/png": "[encoded data removed]",
      "text/plain": [
       "<Figure size 432x288 with 1 Axes>"
      ]
     },
     "metadata": {
      "needs_background": "light"
     },
     "output_type": "display_data"
    }
   ],
   "source": [
    "Y_pred2 = model2.predict(X_test_pn)\n",
    "\n",
    "#plt.plot(X_train,Y_train,'x')   # adatok megjelenítése\n",
    "plt.plot(X_test,Y_pred2,'x', color=\"black\") \n",
    "plt.plot(X_test,Y_test,'x', color=\"green\") \n",
    "plt.title('Training data')\n",
    "plt.xlabel('Change in water level (X)')\n",
    "plt.ylabel('Water floeing out of the dam (Y)')\n",
    "plt.legend(['Prediction', 'Test'])\n",
    "plt.show()"
   ]
  }
 ],
 "metadata": {
  "kernelspec": {
   "display_name": "Python 3",
   "language": "python",
   "name": "python3"
  },
  "language_info": {
   "codemirror_mode": {
    "name": "ipython",
    "version": 3
   },
   "file_extension": ".py",
   "mimetype": "text/x-python",
   "name": "python",
   "nbconvert_exporter": "python",
   "pygments_lexer": "ipython3",
   "version": "3.6.9"
  }
 },
 "nbformat": 4,
 "nbformat_minor": 2
}
