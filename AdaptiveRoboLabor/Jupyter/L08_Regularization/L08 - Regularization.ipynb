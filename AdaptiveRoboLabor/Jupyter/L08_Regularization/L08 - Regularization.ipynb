{
 "cells": [
  {
   "cell_type": "markdown",
   "metadata": {},
   "source": [
    "# Gykorlat 08\n",
    "## Lineáris regresszió regularizálása és Bias - Variancia\n",
    "### Vízfolyás\n",
    "A feladat első felében implementálásra kerül egy lineáris regresszi, hogy előrejelezhessük a kifolyt víz mennyiségét egy tartályból, annak alapján, hogy abban mennyi víz van. A feladat második felében megfigyeljük a tanulóalgoritmusok debuggolását és a bias v.s. variancia hatását."
   ]
  },
  {
   "cell_type": "markdown",
   "metadata": {},
   "source": [
    "### 1: Importálás, adatok betöltése"
   ]
  },
  {
   "cell_type": "code",
   "execution_count": 1,
   "metadata": {},
   "outputs": [
    {
     "name": "stdout",
     "output_type": "stream",
     "text": [
      "Shape of X: (12, 1)\n",
      "Shape of Y: (12, 1)\n"
     ]
    }
   ],
   "source": [
    "import numpy as np\n",
    "import matplotlib.pyplot as plt\n",
    "from scipy.io import loadmat\n",
    "import scipy.optimize as op\n",
    "\n",
    "data = loadmat(\"Lab8data.mat\")                          # adatok betöltése\n",
    "X = data[\"X\"]                                           # adatok szerkesztése változókba\n",
    "Y = data[\"y\"]\n",
    "X_test = data[\"Xtest\"]\n",
    "Y_test = data[\"ytest\"]\n",
    "X_val = data[\"Xval\"]\n",
    "Y_val = data[\"yval\"]\n",
    "\n",
    "del data\n",
    "m,n = X.shape\n",
    "print('Shape of X:', X.shape)\n",
    "print('Shape of Y:', Y.shape)"
   ]
  },
  {
   "cell_type": "markdown",
   "metadata": {},
   "source": [
    "### 2: Adatok vizualiálása"
   ]
  },
  {
   "cell_type": "code",
   "execution_count": 2,
   "metadata": {},
   "outputs": [
    {
     "data": {
      "image/png": "[encoded data removed]",
      "text/plain": [
       "<Figure size 432x288 with 1 Axes>"
      ]
     },
     "metadata": {
      "needs_background": "light"
     },
     "output_type": "display_data"
    }
   ],
   "source": [
    "plt.plot(X,Y,'x')                                       # adatok megjelenítése\n",
    "plt.title('Training data')\n",
    "plt.xlabel('Change in water level (X)')\n",
    "plt.ylabel('Water floeing out of the dam (Y)')\n",
    "plt.show()"
   ]
  },
  {
   "cell_type": "markdown",
   "metadata": {},
   "source": [
    "### 3: Regularizált lineáris regresszió"
   ]
  },
  {
   "cell_type": "code",
   "execution_count": 3,
   "metadata": {
    "scrolled": true
   },
   "outputs": [
    {
     "name": "stdout",
     "output_type": "stream",
     "text": [
      "Cost at weight (1;1):\n",
      "Expected (approx.): 303.993\n",
      "Computed: 303.9931922202643 \n",
      "Gradient expected (approx.): [-15.303015 598.2507]\n",
      "Gradient computed: [[-15.30301567 598.25074417]]\n"
     ]
    }
   ],
   "source": [
    "def linearRegCostFunction(w,*args):\n",
    "    X,y,Lambda = args\n",
    "    m,n = X.shape\n",
    "    y=y.reshape(m,1)\n",
    "    C=0;\n",
    "\n",
    "    w_0 = w.copy().reshape(n,1)\n",
    "    w_0[0] = 0\n",
    "\n",
    "    penalty = (Lambda/(2*m))*np.sum(w_0**2)\n",
    "    C = (1/(2*m)) * (np.sum(((X @ w)-y)**2)) + penalty\n",
    "\n",
    "    return C\n",
    "\n",
    "def linRegGrad(w,*args):\n",
    "    X,y,Lambda = args\n",
    "\n",
    "    m,n = X.shape\n",
    "    y=y.reshape(m,1)\n",
    "\n",
    "    w_0 = w.copy()\n",
    "    w_0[0] = 0\n",
    "\n",
    "    w = w.reshape(n,1)\n",
    "    grad = (1 / m) * np.sum((((X @ w) - y) * X), 0) + ((Lambda / m) * w_0.T)\n",
    "\n",
    "    return grad\n",
    "\n",
    "\n",
    "w = np.array([[1],[1]])\n",
    "C = linearRegCostFunction(w,np.column_stack((np.ones((m,1)),X)),Y,1)\n",
    "grad = linRegGrad(w,np.column_stack((np.ones((m,1)),X)),Y,1)\n",
    "print('''Cost at weight (1;1):\n",
    "Expected (approx.): 303.993\n",
    "Computed:''',C, '''\n",
    "Gradient expected (approx.): [-15.303015 598.2507]\n",
    "Gradient computed:''', grad)"
   ]
  },
  {
   "cell_type": "markdown",
   "metadata": {},
   "source": [
    "### 4: Lineáris regresszió tanítása"
   ]
  },
  {
   "cell_type": "code",
   "execution_count": 9,
   "metadata": {},
   "outputs": [
    {
     "name": "stdout",
     "output_type": "stream",
     "text": [
      "Weights with the optimization: [[13.0879035 ]\n",
      " [ 0.36777923]]\n"
     ]
    },
    {
     "data": {
      "image/png": "[encoded data removed]",
      "text/plain": [
       "<Figure size 432x288 with 1 Axes>"
      ]
     },
     "metadata": {
      "needs_background": "light"
     },
     "output_type": "display_data"
    }
   ],
   "source": [
    "def trainLinearReg(X,y,Lambda):\n",
    "    args = (X,y.flatten(),Lambda)\n",
    "    init_w = np.ones((X.shape[1],1))\n",
    "    \n",
    "    res1 = op.fmin_ncg(linearRegCostFunction,init_w.flatten(),fprime=linRegGrad, args=args, disp=0)\n",
    "    \n",
    "    return np.array(res1).reshape(n+1,1)\n",
    "\n",
    "\n",
    "Lambda = 0\n",
    "w = trainLinearReg(np.column_stack((np.ones((m,1)),X)),Y,Lambda)\n",
    "print('Weights with the optimization:',w)\n",
    "\n",
    "plt.plot(X,Y,'x',label='Training data')\n",
    "plt.plot(X,np.column_stack((np.ones((m,1)),X)) @ w,'--', label='Trained LR with lambda 0')\n",
    "plt.xlabel('Change in water level (X)')\n",
    "plt.ylabel('water flowing out of the dam (Y)')\n",
    "plt.legend()\n",
    "plt.show()"
   ]
  },
  {
   "cell_type": "code",
   "execution_count": 10,
   "metadata": {},
   "outputs": [
    {
     "data": {
      "image/png": "[encoded data removed]",
      "text/plain": [
       "<Figure size 432x288 with 1 Axes>"
      ]
     },
     "metadata": {
      "needs_background": "light"
     },
     "output_type": "display_data"
    }
   ],
   "source": [
    "def linearRegCostFunction1(w,*args):\n",
    "    X,y,Lambda = args\n",
    "    m,n = X.shape\n",
    "    y=y.reshape(m,1)\n",
    "    C=0;\n",
    "\n",
    "    w_0 = w.copy().reshape(n,1)\n",
    "    w_0[0] = 0\n",
    "\n",
    "    penalty = (Lambda/(2*m))*np.sum(w_0**2)\n",
    "    C = (1/(2*m)) * (np.sum(((X @ w)-y)**2)) + penalty\n",
    "\n",
    "    return C\n",
    "\n",
    "def learningCurve(X,Y,X_val,Y_val,Lambda):\n",
    "    m = X.shape[0]\n",
    "\n",
    "    error_train = np.zeros((m,1))\n",
    "    error_val = np.zeros((m,1))\n",
    "\n",
    "    for i in range (1,m+1):\n",
    "        w = trainLinearReg(X[0:i,:],Y[0:i],Lambda)\n",
    "        error_train[i-1] = linearRegCostFunction1(w,X[0:i,:],Y[0:i],Lambda)\n",
    "        error_val[i-1] = linearRegCostFunction(w,X_val,Y_val,Lambda)\n",
    "            \n",
    "    return error_train, error_val\n",
    "\n",
    "\n",
    "Lambda = 0\n",
    "error_train, error_val = learningCurve(np.column_stack((np.ones((m,1)),X)),Y,\\\n",
    "                                       np.column_stack((np.ones((X_val.shape[0],1)),X_val)),Y_val,0)\n",
    "\n",
    "plt.plot(error_train, label = \"Train error\")\n",
    "plt.plot(error_val, label = \"Cross validation error\")\n",
    "plt.legend()\n",
    "plt.show()"
   ]
  },
  {
   "cell_type": "code",
   "execution_count": null,
   "metadata": {},
   "outputs": [],
   "source": []
  }
 ],
 "metadata": {
  "kernelspec": {
   "display_name": "Python 3",
   "language": "python",
   "name": "python3"
  },
  "language_info": {
   "codemirror_mode": {
    "name": "ipython",
    "version": 3
   },
   "file_extension": ".py",
   "mimetype": "text/x-python",
   "name": "python",
   "nbconvert_exporter": "python",
   "pygments_lexer": "ipython3",
   "version": "3.7.0"
  }
 },
 "nbformat": 4,
 "nbformat_minor": 2
}
