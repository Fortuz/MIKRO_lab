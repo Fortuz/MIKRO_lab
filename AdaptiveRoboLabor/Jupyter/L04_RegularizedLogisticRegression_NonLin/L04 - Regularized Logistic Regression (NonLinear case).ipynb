{
 "cells": [
  {
   "cell_type": "markdown",
   "metadata": {},
   "source": [
    "# Gyakorlat 4\n",
    "## Regulariált Logisztikus Regresszió (NemLineáris eset):\n",
    "### Microchip Anomália:\n",
    "\n",
    "A feladatunk meghatározni, hogy a mikrocsippek közül a mérési eredmények alapján melyik hibás és melyik nem.\n",
    "\n",
    "Jelen gyakorlat során kapunk egy adathalmazt, ami nem lineárisan szeparálható. Ennek ellenére így is szeretnénk használni a logisztikus regressziót a klasszifikáció során. Ennek céljából bevezetünk több tulajdonságot (feature-t), sőt polinomiális tulajdonságokat is az adatmátixunkhoz (polinomiális regresszióhoz hasonlóan).\n",
    "\n",
    "Ebben a feladatban kipróbálásra kerülnek különböző regularizációs paraméterek az adathalmazon, hogy jobban megérthessük miként  hatnak a túltanulás (overfit) jelenségére. Figyeljük meg a változásokat a döntési határon, ahogy a lamdbát változtatjuk majd. Egy kis lambdával észrevehető lesz, hogy a klaszifikáció során szinte nem hibázik, azonban cserébe nagyon bönyolult görbét kapunk. Ez nem a egy jó döntési görbe, vegyük észre, hogy a (-0,25; 1,5) -öt elfogadja, ami egy inkorrekt döntésnek tűnik az adathalmazunk alapján.\n",
    "\n",
    "Egy nagyobb lambda segítségével azt láthatjuk, hogy egy egyszerűbb döntési határ jön létre, ami nem követi annyira az egyes adatokat így ez alultanult (underfitted)."
   ]
  },
  {
   "cell_type": "markdown",
   "metadata": {},
   "source": [
    "### 1: Importáljuk be a megfelelő csomagokat majd alakítsuk ki a megfelelő változókat (X,Y,m,n)"
   ]
  },
  {
   "cell_type": "code",
   "execution_count": 1,
   "metadata": {},
   "outputs": [],
   "source": [
    "import numpy as np\n",
    "import matplotlib.pyplot as plt\n",
    "import pandas as pd"
   ]
  },
  {
   "cell_type": "code",
   "execution_count": 30,
   "metadata": {},
   "outputs": [
    {
     "name": "stdout",
     "output_type": "stream",
     "text": [
      "X: (118, 2)\n",
      "Y: (118, 1)\n",
      "Adatok száma: 118\n",
      "Feature-ök száma: 2\n"
     ]
    }
   ],
   "source": [
    "data = pd.read_csv('Lab4data.txt', header = None).to_numpy()        # adatok beolvasása a data változóba NumPy tömbként\n",
    "X = data[:,0:2]                                                     # X rendezése\n",
    "m,n = X.shape                                                       # adatok száma / feature-k száma\n",
    "Y = data[:,2].reshape(m,1)                                          # Y rendezése\n",
    "del data                                                            # felesleges változó törlése\n",
    "\n",
    "print('X:', X.shape)                    # adattömbök méretének / adatok számának / feature-k számának kiírása\n",
    "print('Y:', Y.shape)\n",
    "print('Adatok száma:',m)\n",
    "print('Feature-ök száma:',n)"
   ]
  },
  {
   "cell_type": "markdown",
   "metadata": {},
   "source": [
    "### 2: Szedjük ki az elemeket az alapján, hogy átmentek e a vizsgálaton és rajzoltassuk is ki őket"
   ]
  },
  {
   "cell_type": "code",
   "execution_count": 34,
   "metadata": {},
   "outputs": [
    {
     "data": {
      "image/png": "[encoded data removed]",
      "text/plain": [
       "<Figure size 432x288 with 1 Axes>"
      ]
     },
     "metadata": {
      "needs_background": "light"
     },
     "output_type": "display_data"
    }
   ],
   "source": [
    "def plotData(X,Y):\n",
    "    pos = []                                                        # jó elemek listája \n",
    "    neg = []                                                        # rossz elemek listája\n",
    "\n",
    "    for i in range(0,Y.size):                                       # végig megyünk az Y elemein\n",
    "        if Y[i]==1:                                                 # ha Y értéke 1, akkor X azonos sora megy a pos -ba\n",
    "            pos.append(X[i,:])\n",
    "        elif Y[i]==0:                                               # ha Y értéke 0, akkor X azonos sora megy a neg -be\n",
    "            neg.append(X[i,:])\n",
    "\n",
    "    pos = np.array(pos)                                             # pos legyen NumPy tömb\n",
    "    neg = np.array(neg)                                             # neg legyen NumPy tömb\n",
    "\n",
    "    plt.scatter(pos[:, 0], pos[:, 1], c=\"g\", marker=\"o\", label=\"OK\")        # pos kirajzolása\n",
    "    plt.scatter(neg[:, 0], neg[:, 1], c=\"r\", marker=\"x\", label=\"Not OK\")    # neg kirajzolása\n",
    "    plt.title(\"Training data\")\n",
    "    plt.xlabel(\"Test 1\")\n",
    "    plt.ylabel(\"Test 2\")\n",
    "    plt.legend()\n",
    "    plt.show()\n",
    "\n",
    "    return pos,neg                                                  # visszaadjuk pos és neg -et a későbbi használatra\n",
    "\n",
    "pos, neg = plotData(X,Y)                                            # függvény meghívása az adatainkra"
   ]
  },
  {
   "cell_type": "markdown",
   "metadata": {},
   "source": [
    "Láthatjuk, hogy az adataink nem szeparálhatók lineárisan."
   ]
  },
  {
   "cell_type": "markdown",
   "metadata": {},
   "source": [
    "### 3: mapFeature készítése"
   ]
  },
  {
   "cell_type": "code",
   "execution_count": 35,
   "metadata": {},
   "outputs": [
    {
     "name": "stdout",
     "output_type": "stream",
     "text": [
      "0.69225\n"
     ]
    }
   ],
   "source": [
    "def mapFeature(X1,X2,deg=6):\n",
    "\n",
    "    out = np.ones((m,1))\n",
    "\n",
    "    for i in range(1,deg+1):\n",
    "        for j in range(i+1):\n",
    "            terms = (X1**(i-j)*X2**j).reshape(m,1)\n",
    "            out = np.column_stack((out,terms))\n",
    "            \n",
    "    return out\n",
    "\n",
    "X=mapFeature(X[:,0],X[:,1])"
   ]
  },
  {
   "cell_type": "code",
   "execution_count": null,
   "metadata": {},
   "outputs": [],
   "source": []
  }
 ],
 "metadata": {
  "kernelspec": {
   "display_name": "Python 3",
   "language": "python",
   "name": "python3"
  },
  "language_info": {
   "codemirror_mode": {
    "name": "ipython",
    "version": 3
   },
   "file_extension": ".py",
   "mimetype": "text/x-python",
   "name": "python",
   "nbconvert_exporter": "python",
   "pygments_lexer": "ipython3",
   "version": "3.7.0"
  }
 },
 "nbformat": 4,
 "nbformat_minor": 2
}
