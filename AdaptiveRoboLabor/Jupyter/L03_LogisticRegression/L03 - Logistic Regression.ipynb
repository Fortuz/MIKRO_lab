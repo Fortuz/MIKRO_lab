{
 "cells": [
  {
   "cell_type": "markdown",
   "metadata": {},
   "source": [
    "# Gyakorlat 3\n",
    "## Logisztikus regresszió:\n",
    "### Egyetemi felvételi:\n",
    "\n",
    "Ebben a feladatban logisztikus regressziót fogunk használni, hogy megjósoljuk egy adott hallgató felvételének tényét az egyetemre.\n",
    "\n",
    "Tegyük fel, hogy egyetemi adminisztrátorok vagyunk és meg szeretnénk határozni,  egy adott jelentkezőnek az esélyét a sikeres felvételire a két felvételi teszt eredménye alapján. Rendelkezésünkre állnak az eddigi eredmények címkézve, hogy az adott hallgató jelentkezése sikeres volt vagy nem.\n",
    "\n",
    "Ezt az adathallmazt tudjuk használni a logisztikus regressziónkra."
   ]
  },
  {
   "cell_type": "markdown",
   "metadata": {},
   "source": [
    "### Importáljuk be a megfelelő csomagokat:\n",
    "Szükségünk lesz:\n",
    "- NumPy\n",
    "- MatPlotLib pyplopt csomagjára\n",
    "- Pandas csomagot"
   ]
  },
  {
   "cell_type": "code",
   "execution_count": 1,
   "metadata": {},
   "outputs": [],
   "source": [
    "import numpy as np\n",
    "import matplotlib.pyplot as plt\n",
    "import pandas as pd"
   ]
  },
  {
   "cell_type": "markdown",
   "metadata": {},
   "source": [
    "### Olvassuk be az adatainkat!"
   ]
  },
  {
   "cell_type": "code",
   "execution_count": 2,
   "metadata": {},
   "outputs": [
    {
     "name": "stdout",
     "output_type": "stream",
     "text": [
      "X: (100, 2)\n",
      "Y: (100, 1)\n",
      "Adatok száma: 100\n",
      "Feature-ök száma: 2\n"
     ]
    }
   ],
   "source": [
    "data = pd.read_csv('Lab3data.txt', header = None).to_numpy()\n",
    "X = data[:,0:2]\n",
    "m,n = X.shape                         # m adatok száma / n feature-k száma\n",
    "Y = data[:,2].reshape(m,1)\n",
    "del data\n",
    "\n",
    "print('X:', X.shape)\n",
    "print('Y:', Y.shape)\n",
    "print('Adatok száma:',m)\n",
    "print('Feature-ök száma:',n)"
   ]
  },
  {
   "cell_type": "markdown",
   "metadata": {},
   "source": [
    "### Jelenítsük meg az adatainkat!"
   ]
  },
  {
   "cell_type": "code",
   "execution_count": 3,
   "metadata": {},
   "outputs": [
    {
     "data": {
      "image/png": "[encoded data removed]",
      "text/plain": [
       "<Figure size 432x288 with 1 Axes>"
      ]
     },
     "metadata": {
      "needs_background": "light"
     },
     "output_type": "display_data"
    }
   ],
   "source": [
    "def plotData(X,Y):\n",
    "    pos=[]\n",
    "    neg=[]\n",
    "\n",
    "    for i in range(0,Y.size):\n",
    "        if Y[i] ==0:\n",
    "            neg.append(X[i,:])\n",
    "        elif Y[i] ==1:\n",
    "            pos.append(X[i,:])\n",
    "\n",
    "    neg = np.array(neg)\n",
    "    pos = np.array(pos)\n",
    "\n",
    "    plt.scatter(neg[:,0],neg[:,1],marker='x',c=\"r\", label=\"Not admitted\")\n",
    "    plt.scatter(pos[:,0],pos[:,1],marker='o',c=\"g\", label=\"Admitted\")\n",
    "    plt.title(\"Training data\")\n",
    "    plt.xlabel(\"Exam 1 score\")\n",
    "    plt.ylabel(\"Exam 2 score\")\n",
    "    plt.legend(loc='lower left')\n",
    "    plt.show()\n",
    "\n",
    "    return pos, neg\n",
    "\n",
    "pos,neg=plotData(X,Y)"
   ]
  },
  {
   "cell_type": "markdown",
   "metadata": {},
   "source": [
    "Láthatjuk, hogy a két kategória elválasztható megközelítőleg egy egyenessel.\n",
    "\n",
    "### Bias hozzáadása az X mátrixhoz:"
   ]
  },
  {
   "cell_type": "code",
   "execution_count": 4,
   "metadata": {},
   "outputs": [],
   "source": [
    "if (X.shape[1]==2):\n",
    "    X=np.column_stack((np.ones((m,1)),X))       # bias\n",
    "#EZT CSAK EGYSZER SZABAD LEFUTTATNI! VAGY ÚJRA KELL A KERNELT INDÍTANI"
   ]
  },
  {
   "cell_type": "markdown",
   "metadata": {},
   "source": [
    "## A model:\n",
    "\n",
    "A hipotézisünkre használjuk az alábbi modelt:\n",
    "$ h_w(x) = g(XW) $ , ahol $ g(z) = \\frac{1}{1+e^{-z}} $\n",
    "\n",
    "Ehhez szükségünk lesz egy szigmoid függvény definiálására.\n",
    "\n",
    "# IDE MÉG ELMÉLETI RIZSA!!!!"
   ]
  },
  {
   "cell_type": "markdown",
   "metadata": {},
   "source": [
    "### Sigmoid függvény definíció:\n",
    "A szigmoid függvény definíciója: $ g(z) = \\frac{1}{1+e^{-z}} $ \\\n",
    "Hozzuk létre a sigmoid nevű függvényt, majd teszteljük is az eredményt 0, 0.5, 1 értékekre!"
   ]
  },
  {
   "cell_type": "code",
   "execution_count": 5,
   "metadata": {},
   "outputs": [
    {
     "name": "stdout",
     "output_type": "stream",
     "text": [
      "Függvény érték 0 bemenőértékre 0.5\n",
      "Függvény érték 0.5 bemenőértékre 0.6224593312018546\n",
      "Függvény érték 1 bemenőértékre 0.7310585786300049\n"
     ]
    }
   ],
   "source": [
    "def sigmoid(z):\n",
    "    # calculates the sigmoid function value\n",
    "    return 1/(1 + np.exp(-z))\n",
    "\n",
    "print('Függvény érték 0 bemenőértékre',sigmoid(0))\n",
    "print('Függvény érték 0.5 bemenőértékre',sigmoid(0.5))\n",
    "print('Függvény érték 1 bemenőértékre',sigmoid(1))"
   ]
  },
  {
   "cell_type": "markdown",
   "metadata": {},
   "source": [
    "### A költségfüggvény:\n",
    "\n",
    "Költségfüggvényként használjuk az alábbi összefüggést:\n",
    "\n",
    "$ C(w) = -\\frac{1}{m} \\sum{y^i\\cdot\\log(h_w(x^i))-(1-y^i)\\cdot\\log(1-h_w(x^i))} $\n",
    "\n",
    "Azért kell változtatnunk a költségfüggvényen, hogy az szép konvex legyen. Ez által az optimalizálás is gyorsabb lesz.\n",
    "\n",
    "### A gárdiens függvény:\n",
    "A költségfüggvényt lederiválva itt is a grádiens függvényét kapjuk:\n",
    "$grad = \\frac{X^T \\cdot (h_w(X)-Y)}{m}$\n",
    "\n",
    "# ELMÉLETI RIZSA IDE!!!!!\n",
    "\n",
    "\n",
    "### costFunction definiálása:\n",
    "Írjuk meg a costFunction definícióját, majd teszteljük le két w értékkel!\\\n",
    "Az inital_w legyen [0; 0; 0], míg test_w legyen [-24; 0.2; 0.2]!"
   ]
  },
  {
   "cell_type": "code",
   "execution_count": null,
   "metadata": {},
   "outputs": [],
   "source": [
    "def costFunction(w,X,Y):\n",
    "    prediction = np.array(sigmoid(X@w))\n",
    "    error = ((-Y) * np.log(prediction)) - ((1-Y)*(np.log(1-prediction)))\n",
    "    C = (1/m) * np.sum(error)\n",
    "\n",
    "    grad = (X.transpose())@(prediction-Y)/m\n",
    "\n",
    "    return C, grad\n",
    "\n",
    "initial_w = np.zeros(((n+1),1))\n",
    "C,grad = costFunction(initial_w,X,Y)\n",
    "\n",
    "print('''Cost and Gradient  at initial weights (zeros):\n",
    "Expected cost (approx.): 0.693\n",
    "Computed:''',C)\n",
    "print('''Expected gradient(approx.):\n",
    " [[-0.1]\n",
    " [-12.0092]\n",
    " [-11.2628]]\n",
    "Computed:\\n''',grad)\n",
    "\n",
    "test_w = np.array([[-24], [0.2], [0.2]])\n",
    "C, grad = costFunction(test_w,X,Y)\n",
    "\n",
    "print('\\nTest weights:',test_w.transpose())\n",
    "print('''Cost and Gradient  at test weights:\n",
    "Expected cost (approx.): 0.218\n",
    "Computed:''',C)\n",
    "print('''Expected gradient(approx.):\n",
    " [[0.043]\n",
    " [2.566]\n",
    " [2.647]]\n",
    "Computed:\\n''',grad)\n",
    "print('\\n')"
   ]
  },
  {
   "cell_type": "markdown",
   "metadata": {},
   "source": [
    "### Feature normalization:"
   ]
  },
  {
   "cell_type": "code",
   "execution_count": null,
   "metadata": {},
   "outputs": [],
   "source": [
    "def featureNormalization(X):\n",
    "    mean = np.mean(X,axis=0)\n",
    "    std = np.std(X, axis=0,ddof=1)\n",
    "    X_temp = X.copy()\n",
    "\n",
    "    if std[0] == 0:\n",
    "        X_temp=np.delete(X_temp,0,1)\n",
    "        X_norm = (X_temp - mean[1:3]) / std[1:3]\n",
    "        X_norm=np.column_stack((np.ones((m,1)),X_norm))\n",
    "    else:\n",
    "        X_norm = (X_temp - mean) / std\n",
    "\n",
    "    return X_norm,mean,std\n",
    "\n",
    "X_norm,mean,std=featureNormalization(X)"
   ]
  },
  {
   "cell_type": "markdown",
   "metadata": {},
   "source": [
    "### Grádiens módszer definiálása:"
   ]
  },
  {
   "cell_type": "code",
   "execution_count": null,
   "metadata": {},
   "outputs": [],
   "source": [
    "def gradientDescent(X,Y,w,alpha,num_iters=400):\n",
    "    C_history = []\n",
    "\n",
    "    for i in range(num_iters):\n",
    "        C, grad = costFunction(w,X,Y)\n",
    "        w = w - (alpha*grad)\n",
    "        C_history.append(C)\n",
    "\n",
    "    return w, np.array(C_history)"
   ]
  },
  {
   "cell_type": "markdown",
   "metadata": {},
   "source": [
    "### Grádiens módszer kirpóbálása több tanulási rátára:"
   ]
  },
  {
   "cell_type": "code",
   "execution_count": null,
   "metadata": {},
   "outputs": [],
   "source": [
    "w = np.array([[0],[0],[0]])\n",
    "w, C_history = gradientDescent(X_norm,Y,w,0.01)\n",
    "plt.plot(range(C_history.size), C_history, label= \"learning r.:0.01 / iters.: 400\")\n",
    "\n",
    "w = np.array([[0],[0],[0]])\n",
    "w, C_history = gradientDescent(X_norm,Y,w,0.1)\n",
    "plt.plot(range(C_history.size), C_history, label= \"learning r.:0.1 / iters.: 400\")\n",
    "\n",
    "w = np.array([[0],[0],[0]])\n",
    "w, C_history = gradientDescent(X_norm,Y,w,1)\n",
    "plt.plot(range(C_history.size), C_history, label= \"learning r.:1 / iters.: 400\")\n",
    "plt.title(\"Effect of the different constants on the cost function\")\n",
    "plt.xlabel(\"Iteration\")\n",
    "plt.ylabel(\"Cost function value\")\n",
    "plt.legend()\n",
    "plt.show()"
   ]
  },
  {
   "cell_type": "code",
   "execution_count": null,
   "metadata": {},
   "outputs": [],
   "source": [
    "print('''The cost function at found weights by the gradient descent alg.:\n",
    "Expected (approx): 0.203\n",
    "Computed: ''', C_history[-1])\n",
    "print('''Weights expected (approx.):\n",
    "[1.659 3.867 3.603]\n",
    "Weights computed:\\n''', w.transpose())"
   ]
  },
  {
   "cell_type": "markdown",
   "metadata": {},
   "source": [
    "### Kirajzoljuk a döntési határt"
   ]
  },
  {
   "cell_type": "code",
   "execution_count": null,
   "metadata": {},
   "outputs": [],
   "source": [
    "pos_norm=(pos-mean[1:3])/std[1:3]\n",
    "neg_norm=(neg-mean[1:3])/std[1:3]\n",
    "\n",
    "plt.scatter(pos_norm[:,0],pos_norm[:,1],c=\"g\", marker=\"o\",label=\"Admitted\")\n",
    "plt.scatter(neg_norm[:,0],neg_nom[:,1],c=\"r\",marker=\"x\",label=\"Not admitted\")\n",
    "x_value = np.array([np.min(X_norm[:,1]),np.max(X_norm[:1])])\n",
    "y_value = -(w[0]+w[1]*x_value)/w[2]\n",
    "plt.plot(x_value,y_value,\"k\")\n",
    "plt.title(\"Decision boundary and the training data\")\n",
    "plt.xlabel(\"Exam 1 score\")\n",
    "plt.ylabel(\"Exam 2 score\")\n",
    "plt.legend(loc=0)\n",
    "plt.show()"
   ]
  },
  {
   "cell_type": "markdown",
   "metadata": {},
   "source": [
    "### Előrejelzés:"
   ]
  },
  {
   "cell_type": "code",
   "execution_count": null,
   "metadata": {},
   "outputs": [],
   "source": [
    "def predictionMaking(X):\n",
    "    X = (X-mean[1:3])/std[1:3]\n",
    "    X = np.append(np.ones((1)),X)\n",
    "    return sigmoid(X@w)\n",
    "\n",
    "prediction=predictionMaking(np.array([45,85]))\n",
    "print('''Expected result of the prediction with [45 , 85] (approx.):\n",
    "0.776291\n",
    "Calculated:\\n''',prediction)"
   ]
  },
  {
   "cell_type": "markdown",
   "metadata": {},
   "source": [
    "### Pontosság:"
   ]
  },
  {
   "cell_type": "code",
   "execution_count": null,
   "metadata": {},
   "outputs": [],
   "source": [
    "def calculateAccuracy(w,X,Y):\n",
    "    predictions= (sigmoid(X@w)>0.5)\n",
    "    percentage=(sum(predictions==Y)/m)*100\n",
    "    return percentage\n",
    "\n",
    "print(calculateAccuracy(w,X_norm,Y), '% accuracy (89 % expected)')"
   ]
  },
  {
   "cell_type": "code",
   "execution_count": null,
   "metadata": {},
   "outputs": [],
   "source": []
  }
 ],
 "metadata": {
  "kernelspec": {
   "display_name": "Python 3",
   "language": "python",
   "name": "python3"
  },
  "language_info": {
   "codemirror_mode": {
    "name": "ipython",
    "version": 3
   },
   "file_extension": ".py",
   "mimetype": "text/x-python",
   "name": "python",
   "nbconvert_exporter": "python",
   "pygments_lexer": "ipython3",
   "version": "3.7.0"
  }
 },
 "nbformat": 4,
 "nbformat_minor": 2
}
