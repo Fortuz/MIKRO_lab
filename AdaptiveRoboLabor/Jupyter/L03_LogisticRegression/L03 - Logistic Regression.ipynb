{
 "cells": [
  {
   "cell_type": "markdown",
   "metadata": {},
   "source": [
    "# Labor 03: Logisztikus regresszió:\n",
    "### Egyetemi felvételi:\n",
    "\n",
    "Ebben a feladatban logisztikus regressziót fogunk használni, hogy megjósoljuk egy adott hallgató felvételének tényét az egyetemre.\n",
    "\n",
    "Tegyük fel, hogy egyetemi adminisztrátorok vagyunk és meg szeretnénk határozni,  egy adott jelentkezőnek az esélyét a sikeres felvételire a két felvételi teszt eredménye alapján. Rendelkezésünkre állnak az eddigi eredmények címkézve, hogy az adott hallgató jelentkezése sikeres volt vagy nem.\n",
    "\n",
    "Ezt az adathallmazt tudjuk használni a logisztikus regressziónkra."
   ]
  },
  {
   "cell_type": "markdown",
   "metadata": {},
   "source": [
    "### 1: Importáljuk be a megfelelő csomagokat:\n",
    "Szükségünk lesz:\n",
    "- NumPy\n",
    "- MatPlotLib pyplopt csomagjára\n",
    "- Pandas csomagot"
   ]
  },
  {
   "cell_type": "code",
   "execution_count": 2,
   "metadata": {},
   "outputs": [],
   "source": [
    "import numpy as np\n",
    "import matplotlib.pyplot as plt\n",
    "import pandas as pd"
   ]
  },
  {
   "cell_type": "markdown",
   "metadata": {},
   "source": [
    "### 2: Olvassuk be az adatainkat!"
   ]
  },
  {
   "cell_type": "code",
   "execution_count": 3,
   "metadata": {},
   "outputs": [
    {
     "name": "stdout",
     "output_type": "stream",
     "text": [
      "X: (100, 2)\n",
      "Y: (100, 1)\n",
      "Adatok száma: 100\n",
      "Feature-ök száma: 2\n"
     ]
    }
   ],
   "source": [
    "data = pd.read_csv('Lab3data.txt', header = None).to_numpy()       # adatok beolvasása majd NumPy tömbbé alakítása\n",
    "X = data[:,0:2]                                                    # X rendezése\n",
    "m,n = X.shape                                                      # m adatok száma / n feature-k száma\n",
    "Y = data[:,2].reshape(m,1)                                         # Y rendezése\n",
    "del data                                                           # felesleges változó törlése\n",
    "\n",
    "print('X:', X.shape)                    # adattömbök méretének / adatok számának / feature-k számának kiírása\n",
    "print('Y:', Y.shape)\n",
    "print('Adatok száma:',m)\n",
    "print('Feature-ök száma:',n)"
   ]
  },
  {
   "cell_type": "markdown",
   "metadata": {},
   "source": [
    "### 3: Jelenítsük meg az adatainkat!"
   ]
  },
  {
   "cell_type": "code",
   "execution_count": 5,
   "metadata": {},
   "outputs": [
    {
     "data": {
      "image/png": "[encoded data removed]",
      "text/plain": [
       "<Figure size 432x288 with 1 Axes>"
      ]
     },
     "metadata": {
      "needs_background": "light"
     },
     "output_type": "display_data"
    }
   ],
   "source": [
    "def plotData(X,Y):\n",
    "    pos=[]                                                  # felvettek\n",
    "    neg=[]                                                  # elutasítottak\n",
    "\n",
    "    for i in range(0,Y.size):                               # Y alapján végignézzük, hogy felvették e az illetőt\n",
    "        if Y[i] ==0:                                        # ha nem akkor X adott elemei a neg -be mennek\n",
    "            neg.append(X[i,:])\n",
    "        elif Y[i] ==1:                                      # ha igen akkor X adott elemei a pos -ba mennek\n",
    "            pos.append(X[i,:])\n",
    "\n",
    "    neg = np.array(neg)                                     # neg -> NumPy tömb\n",
    "    pos = np.array(pos)                                     # pos -> NumPy tömb\n",
    "\n",
    "    plt.scatter(neg[:,0],neg[:,1],marker='x',c=\"r\", label=\"Not admitted\")   # nem felvettek kirakzolása, x-el, pirosan\n",
    "    plt.scatter(pos[:,0],pos[:,1],marker='o',c=\"g\", label=\"Admitted\")       # felvettek kirajzolása, körrel, zölddel\n",
    "    plt.title(\"Training data\")\n",
    "    plt.xlabel(\"Exam 1 score\")\n",
    "    plt.ylabel(\"Exam 2 score\")\n",
    "    plt.legend(loc='lower left')\n",
    "    plt.show()\n",
    "\n",
    "    return pos, neg                                          # két lista visszaadása\n",
    "\n",
    "pos,neg=plotData(X,Y)"
   ]
  },
  {
   "cell_type": "markdown",
   "metadata": {},
   "source": [
    "Láthatjuk, hogy a két kategória elválasztható megközelítőleg egy egyenessel.\n",
    "\n",
    "## 4: Bias hozzáadása az X mátrixhoz:\n",
    "Ahogy már az előzőekben is csináltuk hozzáadunk egy egyesekből álló oszlopot az X mátrixhoz, hogy a tengelymetszet megmaradjon a hipotézisünkben (Lásd. L01 - L02)."
   ]
  },
  {
   "cell_type": "code",
   "execution_count": 6,
   "metadata": {},
   "outputs": [
    {
     "name": "stdout",
     "output_type": "stream",
     "text": [
      "(100, 3)\n"
     ]
    }
   ],
   "source": [
    "if (X.shape[1]==n):                             # ha még nem végeztük el a biaszolást (X - mxn)\n",
    "    X=np.column_stack((np.ones((m,1)),X))       # bias\n",
    "print(X.shape)                                  # visszaellenőrizésnek kiírjuk a mátrix méreteit"
   ]
  },
  {
   "cell_type": "markdown",
   "metadata": {},
   "source": [
    "## 5: A model:\n",
    "\n",
    "Mivel osztályozási, vagyis klasszifikációs problémával állunk szemben az eddigi lineáris regressziós modellünk nem lesz teljesen megfelelő. Nézzünk egy egyszerű példát. Tumor méret alapján próbáljuk eldönteni, hogy a daganat halálos vagy nem.\n",
    "\n",
    "<img src=\"files/Pics/L03_Tumor.png\" width=\"400\">\n",
    "\n",
    "Ha az eddig bevezetett módszert alkalmazzuk és a\n",
    "\n",
    "$ h_w(x)=XW $ \n",
    "\n",
    "hipotézist használva illesztünk egy egyenest. Az egyenesünk viszont túllövi a korlátos [0,1] halmazt és nem is elég pontos. Elnanyoltan illesztett egyenesünkre ez után egy határértéket definiálva, legyen ez 0.5, el tudjuk dönteni, hogy mi lesz a predikciónk.\n",
    "\n",
    "Ha $h_w(x)\\geq 0.5$, akkor \"y=1\", vagyis halálos. <br>\n",
    "Ha $h_w(x)< 0.5$, akkor \"y=0\", vagyis nem halálos.  <br>\n",
    "\n",
    "A predikciónk viszont eshet 0 alá vagy 1 fölé, ami felesleges. Jobb lenne találni egy korlátos hipotézis függvényt,ami teljesíti, hogy:\n",
    "\n",
    "$0\\leq h_w(x) \\leq 1$\n",
    "\n",
    "Vezessük be a sigmoid függvényt, mely függvény teljesíti ezt a kritériumot, miszerint korlátos [0,1] tartományon.\n",
    "\n",
    "Szigmoid:\n",
    "\n",
    "$ g(z) = \\frac{1}{1+e^{-z}} $\n",
    "\n",
    "<img src= \"files\\Pics\\sigmoid.png\" width=450>\n",
    "\n",
    "A szigmoid függvény segítségével gyakorlatilag egy valószínűséget rendelünk minden egyes mintához, hogy mekkora annak az esélye, hogy halálos az a méretű tumor. \n",
    "\n",
    "$h_w(x)=P(y=1|X, W)$\n",
    "\n",
    "A hipotézisünket pedig az almábbi módon bővíthetjük: <br>\n",
    "\n",
    "$ h_w(x) = g(XW) $ , ahol $ g(XW) = \\frac{1}{1+e^{-XW}} $\n"
   ]
  },
  {
   "cell_type": "markdown",
   "metadata": {},
   "source": [
    "Hozzuk létre a sigmoid nevű függvényt, majd teszteljük is az eredményt -6, 0, 6 értékekre!"
   ]
  },
  {
   "cell_type": "code",
   "execution_count": 18,
   "metadata": {},
   "outputs": [
    {
     "name": "stdout",
     "output_type": "stream",
     "text": [
      "Függvény érték -6 bemenőértékre 0.002\n",
      "Függvény érték 0 bemenőértékre 0.500\n",
      "Függvény érték 6 bemenőértékre 0.998\n",
      "\n",
      " A sigmoid() függvény megfelelő. Tovább mehet.\n"
     ]
    }
   ],
   "source": [
    "def sigmoid(z):\n",
    "    return 1/(1 + np.exp(-z))                               # szigmoid függvény értékének visszaadása\n",
    "\n",
    "print('Függvény érték -6 bemenőértékre %.3f' % sigmoid(-6))          # teszt -6 -ra\n",
    "print('Függvény érték 0 bemenőértékre %.3f' % sigmoid(0))            # teszt 0 -ra\n",
    "print('Függvény érték 6 bemenőértékre %.3f' % sigmoid(6))            # teszt 6 -ra \n",
    "\n",
    "if sigmoid(-6) < 0.01 and sigmoid(0) == 0.5 and sigmoid(6) > 0.99:\n",
    "    print(\"\\n A sigmoid() függvény megfelelő. Tovább mehet.\")\n",
    "else:\n",
    "    print(\"\\n Valami nem stimmel. Korrekció szükséges!\")"
   ]
  },
  {
   "cell_type": "markdown",
   "metadata": {},
   "source": [
    "### 6 A költségfüggvény:\n",
    "Mivel változtattunk a hipotézis függvényünkkön az eddig használt költség függvényünkön is módosítanunk kell. A feladathoz igazítani. Korábbi példáink során megfelelően sima konvergenciát biztosított, a módosított hipotézisünkkel azonban sokkal nehezebb lenne a konvergencia. A kérdés az, tudunk-e találni egy olyan költség függvényt, amely osztályozási feladatok során konvex költség függvényt tud definiálni? Konvex függvényen a a gradiens módszerünk sokkal kisebb valószínűséggel fog beragadni lokális minimum pontba.\n",
    "\n",
    "<img src=\"files\\Pics\\L03_Costfunction.png\" width=600>\n",
    "\n",
    "\n",
    "Tehát a költségfüggvényként használjuk az alábbi összefüggést:\n",
    "\n",
    "$ C(w) = -\\frac{1}{m} \\sum{y^i\\cdot\\log(h_w(x^i))-(1-y^i)\\cdot\\log(1-h_w(x^i))} $\n",
    "\n",
    "\n",
    "### 7: A gárdiens függvény:\n",
    "A költségfüggvényt lederiválva itt is a grádiens függvényét kapjuk:\n",
    "$grad = \\frac{X^T \\cdot (h_w(X)-Y)}{m}$\n",
    "\n",
    "\n",
    "\n",
    "### costFunction definiálása:\n",
    "Írjuk meg a costFunction definícióját, majd teszteljük le két w értékkel!\\\n",
    "Az inital_w legyen [0; 0; 0], míg test_w legyen [-24; 0.2; 0.2]!"
   ]
  },
  {
   "cell_type": "code",
   "execution_count": 18,
   "metadata": {},
   "outputs": [
    {
     "name": "stdout",
     "output_type": "stream",
     "text": [
      "Cost and Gradient  at initial weights (zeros):\n",
      "Expected cost (approx.): 0.693\n",
      "Computed: 0.6931471805599453\n",
      "Expected gradient(approx.):\n",
      " [[-0.1]\n",
      " [-12.0092]\n",
      " [-11.2628]]\n",
      "Computed:\n",
      " [[ -0.1       ]\n",
      " [-12.00921659]\n",
      " [-11.26284221]]\n",
      "\n",
      "Test weights: [[-24.    0.2   0.2]]\n",
      "Cost and Gradient  at test weights:\n",
      "Expected cost (approx.): 0.218\n",
      "Computed: 0.21833019382659785\n",
      "Expected gradient(approx.):\n",
      " [[0.043]\n",
      " [2.566]\n",
      " [2.647]]\n",
      "Computed:\n",
      " [[0.04290299]\n",
      " [2.56623412]\n",
      " [2.64679737]]\n",
      "\n",
      "\n"
     ]
    }
   ],
   "source": [
    "def costFunction(w,X,Y):\n",
    "    prediction = np.array(sigmoid(X@w))                                     # predikció kiszámítása (részszámítás) \n",
    "    error = ((-Y) * np.log(prediction)) - ((1-Y)*(np.log(1-prediction)))    # hiba kiszámítása (résszámítás)\n",
    "    C = (1/m) * np.sum(error)                                               # költségfüggvény kiszámítása\n",
    "\n",
    "    grad = (X.transpose())@(prediction-Y)/m                                 # költségfüggvény értéke\n",
    "\n",
    "    return C, grad                                                          # eredmények visszaadása\n",
    "\n",
    "initial_w = np.zeros(((n+1),1))                                             # kezdeti súlyok (null vektor) létrehozása\n",
    "C,grad = costFunction(initial_w,X,Y)                                        # költségfüggvény tesztelése 1\n",
    "\n",
    "print('''Cost and Gradient  at initial weights (zeros):\n",
    "Expected cost (approx.): 0.693\n",
    "Computed:''',C)\n",
    "print('''Expected gradient(approx.):\n",
    " [[-0.1]\n",
    " [-12.0092]\n",
    " [-11.2628]]\n",
    "Computed:\\n''',grad)\n",
    "\n",
    "test_w = np.array([[-24], [0.2], [0.2]])                                    # teszt súlyok létrehozása [-24;0.2;0.2]\n",
    "C, grad = costFunction(test_w,X,Y)                                          # költségfüggvény tesztelése 2\n",
    "print('\\nTest weights:',test_w.transpose())\n",
    "print('''Cost and Gradient  at test weights:\n",
    "Expected cost (approx.): 0.218\n",
    "Computed:''',C)\n",
    "print('''Expected gradient(approx.):\n",
    " [[0.043]\n",
    " [2.566]\n",
    " [2.647]]\n",
    "Computed:\\n''',grad)\n",
    "print('\\n')"
   ]
  },
  {
   "cell_type": "markdown",
   "metadata": {},
   "source": [
    "### 7: Feature normalization:\n",
    "Ahogy az előzőekben itt is ajánlott a normalizálás. (Lásd L02 - 2)"
   ]
  },
  {
   "cell_type": "code",
   "execution_count": 19,
   "metadata": {},
   "outputs": [],
   "source": [
    "def featureNormalization(X):\n",
    "    mean = np.mean(X,axis=0)                                    # X oszlopainak átlagai\n",
    "    std = np.std(X, axis=0,ddof=1)                              # X oszlopainak szórásai (korrigált tapasztalati)\n",
    "    X_temp = X.copy()                                           # biasolás tesztelésére egy temp változó\n",
    "\n",
    "    if std[0] == 0:                                             # tesztelés (tiszta 1-es oszlop szórása 0)\n",
    "        X_temp=np.delete(X_temp,0,1)                            # ha van biasolva az X mátrix, akkor kivesszük az első\n",
    "        X_norm = (X_temp - mean[1:3]) / std[1:3]                # tiszta 1-es oszlopot, elvégezzük a normalizálást és\n",
    "        X_norm=np.column_stack((np.ones((m,1)),X_norm))         # visszaadjuk a tiszta 1-es oszlopot\n",
    "    else:\n",
    "        X_norm = (X_temp - mean) / std                          # a nem volt, akkor csak elvégezzük a normalizálást\n",
    "\n",
    "    return X_norm,mean,std                                      # visszaadjuk a normalizált X-et, átlagot, szórást\n",
    "\n",
    "X_norm,mean,std=featureNormalization(X)                         # el is végezzük a normalizálást"
   ]
  },
  {
   "cell_type": "markdown",
   "metadata": {},
   "source": [
    "### 8: Grádiens módszer definiálása:"
   ]
  },
  {
   "cell_type": "code",
   "execution_count": 20,
   "metadata": {},
   "outputs": [],
   "source": [
    "def gradientDescent(X,Y,w,alpha,num_iters=400):\n",
    "    C_history = []                                      # C_history változó létrehozása\n",
    "\n",
    "    for i in range(num_iters):                          # epoch számig folytatjuk a grádiens módszert\n",
    "        C, grad = costFunction(w,X,Y)                   # költségfüggvény értékének / grádiens meghatározása\n",
    "        w = w - (alpha*grad)                            # új súlyok beállítása\n",
    "        C_history.append(C)                             # költségfüggvény történet bővítése\n",
    "\n",
    "    return w, np.array(C_history)                       # visszaadjuk a számolt súlyokat és a kötlségfüggvény történetet"
   ]
  },
  {
   "cell_type": "markdown",
   "metadata": {},
   "source": [
    "### 9: Grádiens módszer kirpóbálása több tanulási rátára:"
   ]
  },
  {
   "cell_type": "code",
   "execution_count": 30,
   "metadata": {},
   "outputs": [
    {
     "data": {
      "image/png": "[encoded data removed]",
      "text/plain": [
       "<Figure size 432x288 with 1 Axes>"
      ]
     },
     "metadata": {
      "needs_background": "light"
     },
     "output_type": "display_data"
    }
   ],
   "source": [
    "w = np.array([[0],[0],[0]])                                                         # kezdeti súlyok (0;0;0)\n",
    "w, C_history = gradientDescent(X_norm,Y,w,0.01)                                     # gradiens módszer 0.01 tanulási ráta\n",
    "plt.plot(range(C_history.size), C_history, label= \"learning r.:0.01 / iters.: 400\")\n",
    "\n",
    "w = np.array([[0],[0],[0]])                                                         # kezdeti súlyok (0;0;0)\n",
    "w, C_history = gradientDescent(X_norm,Y,w,0.1)                                      # gradiens módszer 0.1 tanulási ráta\n",
    "plt.plot(range(C_history.size), C_history, label= \"learning r.:0.1 / iters.: 400\")\n",
    "\n",
    "w = np.array([[0],[0],[0]])                                                         # kezdeti súlyok (0;0;0)\n",
    "w, C_history = gradientDescent(X_norm,Y,w,25)                                        # gradiens módszer 25 tanulási ráta\n",
    "plt.plot(range(C_history.size), C_history, label= \"learning r.:25 / iters.: 400\")    # kirajzolás mind a három esetre\n",
    "\n",
    "w = np.array([[0],[0],[0]])                                                         # kezdeti súlyok (0;0;0)\n",
    "w, C_history = gradientDescent(X_norm,Y,w,1)                                        # gradiens módszer 1 tanulási ráta\n",
    "plt.plot(range(C_history.size), C_history, label= \"learning r.:1 / iters.: 400\")    # kirajzolás mind a három esetre\n",
    "\n",
    "plt.title(\"Effect of the different constants on the cost function\")\n",
    "plt.xlabel(\"Iteration\")\n",
    "plt.ylabel(\"Cost function value\")\n",
    "plt.legend()\n",
    "plt.show()"
   ]
  },
  {
   "cell_type": "markdown",
   "metadata": {},
   "source": [
    "A fenti ábrán láthatjuk, hogy a tanulási ráta miként befolyásolta az eredményünket:\\\n",
    "A 0.01 tanulási rátáról elmondhatjuk, hogy nem megfelelő, túlságosan is \"félénk\", ezért meg sem közelíti akár a sokkal jobb 0.1 -es értékkel vett tanulási ráta eredményét, akár az 1-est. Érdemes még egy kis figyelmet szentelnünk a nagyon is \"bátor\" 25 -ös értékre, ami mellett, mint láthatjuk, szintén nem sikerült megtalálnunk az \"arany középutat\" az ilyenkor fellépő osszcilláció tipikusan a nagy tanulási ráta eredménye. Elmondhatjuk tehát, hogy jelen esetünkben az 1-es értékű tanulási ráta egy jó közelítés."
   ]
  },
  {
   "cell_type": "code",
   "execution_count": 33,
   "metadata": {},
   "outputs": [
    {
     "name": "stdout",
     "output_type": "stream",
     "text": [
      "The cost function at found weights by the gradient descent alg.:\n",
      "Expected (approx): 0.203\n",
      "Computed:  0.2036051057163244\n",
      "Weights expected (approx.):\n",
      "[1.658 3.883 3.619]\n",
      "Weights computed:\n",
      " [[1.6582185  3.88371249 3.61890756]]\n"
     ]
    }
   ],
   "source": [
    "print('''The cost function at found weights by the gradient descent alg.:\n",
    "Expected (approx): 0.203\n",
    "Computed: ''', C_history[-1])\n",
    "print('''Weights expected (approx.):\n",
    "[1.658 3.883 3.619]\n",
    "Weights computed:\\n''', w.transpose())"
   ]
  },
  {
   "cell_type": "markdown",
   "metadata": {},
   "source": [
    "### 9: Kirajzoljuk a döntési határt"
   ]
  },
  {
   "cell_type": "code",
   "execution_count": 39,
   "metadata": {},
   "outputs": [
    {
     "data": {
      "image/png": "[encoded data removed]",
      "text/plain": [
       "<Figure size 432x288 with 1 Axes>"
      ]
     },
     "metadata": {
      "needs_background": "light"
     },
     "output_type": "display_data"
    }
   ],
   "source": [
    "pos_norm=(pos-mean[1:3])/std[1:3]                                               # normalizáljuk a pos értékeit\n",
    "neg_norm=(neg-mean[1:3])/std[1:3]                                               # normalizáljuk a neg értékeit\n",
    "\n",
    "plt.scatter(pos_norm[:,0],pos_norm[:,1],c=\"g\", marker=\"o\",label=\"Admitted\")     # pos kirajzolása, körökkel, zölddel\n",
    "plt.scatter(neg_norm[:,0],neg_norm[:,1],c=\"r\",marker=\"x\",label=\"Not admitted\")  # neg kirajzolása, x-ekkel, pirossal\n",
    "x_value = np.array([-2,2])                                  # döntési határhoz felvesszünk két x értéket\n",
    "y_value = -(w[0]+w[1]*x_value)/w[2]                         # kiszámoljuk a hozzájuk tartozó y -t\n",
    "plt.plot(x_value,y_value,\"k\")                               # feketével felrajzoljuk a döntési határt\n",
    "plt.title(\"Decision boundary and the training data\")        \n",
    "plt.xlabel(\"Exam 1 score\")\n",
    "plt.ylabel(\"Exam 2 score\")\n",
    "plt.legend(loc=0)\n",
    "plt.show()"
   ]
  },
  {
   "cell_type": "markdown",
   "metadata": {},
   "source": [
    "### 10: Előrejelzés:"
   ]
  },
  {
   "cell_type": "code",
   "execution_count": 41,
   "metadata": {},
   "outputs": [
    {
     "name": "stdout",
     "output_type": "stream",
     "text": [
      "Expected result of the prediction with [45 , 85] (approx.):\n",
      "0.767\n",
      "Calculated:\n",
      " [0.76758143]\n"
     ]
    }
   ],
   "source": [
    "def predictionMaking(X):                                    # predikciós függvény\n",
    "    X = (X-mean[1:3])/std[1:3]                              # a beadott eredmények normalizálása\n",
    "    X = np.append(np.ones((1)),X)                           # bias\n",
    "    return sigmoid(X@w)                                     # h= sigmoid(Xw)\n",
    "\n",
    "prediction=predictionMaking(np.array([45,85]))              # eredmény 45 és 85 pontra\n",
    "print('''Expected result of the prediction with [45 , 85] (approx.):\n",
    "0.767\n",
    "Calculated:\\n''',prediction)"
   ]
  },
  {
   "cell_type": "markdown",
   "metadata": {},
   "source": [
    "### 11: Pontosság:"
   ]
  },
  {
   "cell_type": "code",
   "execution_count": 46,
   "metadata": {},
   "outputs": [
    {
     "name": "stdout",
     "output_type": "stream",
     "text": [
      "89.0 % accuracy (approx. 89.0 % expected)\n"
     ]
    }
   ],
   "source": [
    "def calculateAccuracy(w,X,Y):                               # pontosság függvény\n",
    "    predictions= (sigmoid(X@w)>0.5)                         # minden eredeti X-re kiszámoljuk a predikciót\n",
    "    percentage=(sum(predictions==Y)/m)*100                  # ha nagyobb, mint 0.5 akkor pos ellenkező esetben neg\n",
    "    return percentage                                       # összehasonlítjuk az Y elemeivel az eredményt és százalékot\n",
    "                                                            # számolunk, ami tükrözi a pontosságot\n",
    "\n",
    "print(float(calculateAccuracy(w,X_norm,Y)), '% accuracy (approx. 89.0 % expected)')"
   ]
  },
  {
   "cell_type": "markdown",
   "metadata": {},
   "source": [
    "## Fejlettebb csomagokkal"
   ]
  },
  {
   "cell_type": "code",
   "execution_count": 55,
   "metadata": {},
   "outputs": [
    {
     "name": "stdout",
     "output_type": "stream",
     "text": [
      "Prediction for the approval: 1 \n",
      "The value of the probability: 0.7752856046030867\n",
      "Accuracy on the training data: 0.89\n"
     ]
    }
   ],
   "source": [
    "import pandas as pd\n",
    "import numpy as np\n",
    "from sklearn.linear_model import LogisticRegression\n",
    "import matplotlib.pyplot as plt                         \n",
    "\n",
    "data = pd.read_csv('Lab3data.txt', header = None)       # adatok beolvasása\n",
    "XX = data.iloc[:, 0:2].values.reshape(-1, 2)            # adatok szétválogatása\n",
    "YY = data.iloc[:, 2].values.reshape(-1,)                # adatok szétválogatása (LogReg fit-je egy 1d tömböt vár!)\n",
    "\n",
    "logReg = LogisticRegression().fit(XX,YY)\n",
    "test = np.array([[45, 85]])                             # mivel egy mintánk van ezért (1,2) array kell ezért a dupla []\n",
    "pred = logReg.predict(test)                             # sima predikció\n",
    "pred_p = logReg.predict_proba(test)                     # a teszteset valszínűségi predikciója\n",
    "\n",
    "print(\"\"\"Prediction for the approval:\"\"\",int(pred),\"\"\"\n",
    "The value of the probability:\"\"\",pred_p[0,1])\n",
    "\n",
    "acc = logReg.score(XX,YY)                               # pontosság kiszámolása \n",
    "print('Accuracy on the training data:',acc)"
   ]
  },
  {
   "cell_type": "code",
   "execution_count": null,
   "metadata": {},
   "outputs": [],
   "source": []
  }
 ],
 "metadata": {
  "kernelspec": {
   "display_name": "Python 3",
   "language": "python",
   "name": "python3"
  },
  "language_info": {
   "codemirror_mode": {
    "name": "ipython",
    "version": 3
   },
   "file_extension": ".py",
   "mimetype": "text/x-python",
   "name": "python",
   "nbconvert_exporter": "python",
   "pygments_lexer": "ipython3",
   "version": "3.7.3"
  }
 },
 "nbformat": 4,
 "nbformat_minor": 2
}
