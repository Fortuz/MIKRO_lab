{
 "cells": [
  {
   "cell_type": "markdown",
   "metadata": {},
   "source": [
    "# L00 - Python alapok\n",
    "## Hasznos Python alap ismeretek\n",
    "\n",
    "\n",
    "Ebben a gyakorlatban bemutatunk néhány Pythonban a tárgy során használt elemet, mit hasznosnak tartunk a teljesség igénye nélkül."
   ]
  },
  {
   "cell_type": "markdown",
   "metadata": {},
   "source": [
    "A Phyton erősen típus orientált, dinamikusan tipusdefiniált (nem kell a változókat declarálni, hozzá rendeli magától), case sensitive (var és VAR két különböző változó) és objektum orientált programnyelv (minden egy objectum)."
   ]
  },
  {
   "cell_type": "markdown",
   "metadata": {},
   "source": [
    "Egy változót létrehozva a megfelelő típusú objektum jön létre."
   ]
  },
  {
   "cell_type": "markdown",
   "metadata": {},
   "source": [
    "### 1. Help "
   ]
  },
  {
   "cell_type": "markdown",
   "metadata": {},
   "source": [
    "Segítséghez használhatjuka help() függvényt, vagy a dir() függvényt, ami az objektumra alkalmazható függvnyeket listáza ki."
   ]
  },
  {
   "cell_type": "code",
   "execution_count": 1,
   "metadata": {},
   "outputs": [],
   "source": [
    "a = -5"
   ]
  },
  {
   "cell_type": "code",
   "execution_count": 2,
   "metadata": {},
   "outputs": [
    {
     "name": "stdout",
     "output_type": "stream",
     "text": [
      "Help on int object:\n",
      "\n",
      "class int(object)\n",
      " |  int([x]) -> integer\n",
      " |  int(x, base=10) -> integer\n",
      " |  \n",
      " |  Convert a number or string to an integer, or return 0 if no arguments\n",
      " |  are given.  If x is a number, return x.__int__().  For floating point\n",
      " |  numbers, this truncates towards zero.\n",
      " |  \n",
      " |  If x is not a number or if base is given, then x must be a string,\n",
      " |  bytes, or bytearray instance representing an integer literal in the\n",
      " |  given base.  The literal can be preceded by '+' or '-' and be surrounded\n",
      " |  by whitespace.  The base defaults to 10.  Valid bases are 0 and 2-36.\n",
      " |  Base 0 means to interpret the base from the string as an integer literal.\n",
      " |  >>> int('0b100', base=0)\n",
      " |  4\n",
      " |  \n",
      " |  Methods defined here:\n",
      " |  \n",
      " |  __abs__(self, /)\n",
      " |      abs(self)\n",
      " |  \n",
      " |  __add__(self, value, /)\n",
      " |      Return self+value.\n",
      " |  \n",
      " |  __and__(self, value, /)\n",
      " |      Return self&value.\n",
      " |  \n",
      " |  __bool__(self, /)\n",
      " |      self != 0\n",
      " |  \n",
      " |  __ceil__(...)\n",
      " |      Ceiling of an Integral returns itself.\n",
      " |  \n",
      " |  __divmod__(self, value, /)\n",
      " |      Return divmod(self, value).\n",
      " |  \n",
      " |  __eq__(self, value, /)\n",
      " |      Return self==value.\n",
      " |  \n",
      " |  __float__(self, /)\n",
      " |      float(self)\n",
      " |  \n",
      " |  __floor__(...)\n",
      " |      Flooring an Integral returns itself.\n",
      " |  \n",
      " |  __floordiv__(self, value, /)\n",
      " |      Return self//value.\n",
      " |  \n",
      " |  __format__(self, format_spec, /)\n",
      " |      Default object formatter.\n",
      " |  \n",
      " |  __ge__(self, value, /)\n",
      " |      Return self>=value.\n",
      " |  \n",
      " |  __getattribute__(self, name, /)\n",
      " |      Return getattr(self, name).\n",
      " |  \n",
      " |  __getnewargs__(self, /)\n",
      " |  \n",
      " |  __gt__(self, value, /)\n",
      " |      Return self>value.\n",
      " |  \n",
      " |  __hash__(self, /)\n",
      " |      Return hash(self).\n",
      " |  \n",
      " |  __index__(self, /)\n",
      " |      Return self converted to an integer, if self is suitable for use as an index into a list.\n",
      " |  \n",
      " |  __int__(self, /)\n",
      " |      int(self)\n",
      " |  \n",
      " |  __invert__(self, /)\n",
      " |      ~self\n",
      " |  \n",
      " |  __le__(self, value, /)\n",
      " |      Return self<=value.\n",
      " |  \n",
      " |  __lshift__(self, value, /)\n",
      " |      Return self<<value.\n",
      " |  \n",
      " |  __lt__(self, value, /)\n",
      " |      Return self<value.\n",
      " |  \n",
      " |  __mod__(self, value, /)\n",
      " |      Return self%value.\n",
      " |  \n",
      " |  __mul__(self, value, /)\n",
      " |      Return self*value.\n",
      " |  \n",
      " |  __ne__(self, value, /)\n",
      " |      Return self!=value.\n",
      " |  \n",
      " |  __neg__(self, /)\n",
      " |      -self\n",
      " |  \n",
      " |  __or__(self, value, /)\n",
      " |      Return self|value.\n",
      " |  \n",
      " |  __pos__(self, /)\n",
      " |      +self\n",
      " |  \n",
      " |  __pow__(self, value, mod=None, /)\n",
      " |      Return pow(self, value, mod).\n",
      " |  \n",
      " |  __radd__(self, value, /)\n",
      " |      Return value+self.\n",
      " |  \n",
      " |  __rand__(self, value, /)\n",
      " |      Return value&self.\n",
      " |  \n",
      " |  __rdivmod__(self, value, /)\n",
      " |      Return divmod(value, self).\n",
      " |  \n",
      " |  __repr__(self, /)\n",
      " |      Return repr(self).\n",
      " |  \n",
      " |  __rfloordiv__(self, value, /)\n",
      " |      Return value//self.\n",
      " |  \n",
      " |  __rlshift__(self, value, /)\n",
      " |      Return value<<self.\n",
      " |  \n",
      " |  __rmod__(self, value, /)\n",
      " |      Return value%self.\n",
      " |  \n",
      " |  __rmul__(self, value, /)\n",
      " |      Return value*self.\n",
      " |  \n",
      " |  __ror__(self, value, /)\n",
      " |      Return value|self.\n",
      " |  \n",
      " |  __round__(...)\n",
      " |      Rounding an Integral returns itself.\n",
      " |      Rounding with an ndigits argument also returns an integer.\n",
      " |  \n",
      " |  __rpow__(self, value, mod=None, /)\n",
      " |      Return pow(value, self, mod).\n",
      " |  \n",
      " |  __rrshift__(self, value, /)\n",
      " |      Return value>>self.\n",
      " |  \n",
      " |  __rshift__(self, value, /)\n",
      " |      Return self>>value.\n",
      " |  \n",
      " |  __rsub__(self, value, /)\n",
      " |      Return value-self.\n",
      " |  \n",
      " |  __rtruediv__(self, value, /)\n",
      " |      Return value/self.\n",
      " |  \n",
      " |  __rxor__(self, value, /)\n",
      " |      Return value^self.\n",
      " |  \n",
      " |  __sizeof__(self, /)\n",
      " |      Returns size in memory, in bytes.\n",
      " |  \n",
      " |  __str__(self, /)\n",
      " |      Return str(self).\n",
      " |  \n",
      " |  __sub__(self, value, /)\n",
      " |      Return self-value.\n",
      " |  \n",
      " |  __truediv__(self, value, /)\n",
      " |      Return self/value.\n",
      " |  \n",
      " |  __trunc__(...)\n",
      " |      Truncating an Integral returns itself.\n",
      " |  \n",
      " |  __xor__(self, value, /)\n",
      " |      Return self^value.\n",
      " |  \n",
      " |  bit_length(self, /)\n",
      " |      Number of bits necessary to represent self in binary.\n",
      " |      \n",
      " |      >>> bin(37)\n",
      " |      '0b100101'\n",
      " |      >>> (37).bit_length()\n",
      " |      6\n",
      " |  \n",
      " |  conjugate(...)\n",
      " |      Returns self, the complex conjugate of any int.\n",
      " |  \n",
      " |  to_bytes(self, /, length, byteorder, *, signed=False)\n",
      " |      Return an array of bytes representing an integer.\n",
      " |      \n",
      " |      length\n",
      " |        Length of bytes object to use.  An OverflowError is raised if the\n",
      " |        integer is not representable with the given number of bytes.\n",
      " |      byteorder\n",
      " |        The byte order used to represent the integer.  If byteorder is 'big',\n",
      " |        the most significant byte is at the beginning of the byte array.  If\n",
      " |        byteorder is 'little', the most significant byte is at the end of the\n",
      " |        byte array.  To request the native byte order of the host system, use\n",
      " |        `sys.byteorder' as the byte order value.\n",
      " |      signed\n",
      " |        Determines whether two's complement is used to represent the integer.\n",
      " |        If signed is False and a negative integer is given, an OverflowError\n",
      " |        is raised.\n",
      " |  \n",
      " |  ----------------------------------------------------------------------\n",
      " |  Class methods defined here:\n",
      " |  \n",
      " |  from_bytes(bytes, byteorder, *, signed=False) from builtins.type\n",
      " |      Return the integer represented by the given array of bytes.\n",
      " |      \n",
      " |      bytes\n",
      " |        Holds the array of bytes to convert.  The argument must either\n",
      " |        support the buffer protocol or be an iterable object producing bytes.\n",
      " |        Bytes and bytearray are examples of built-in objects that support the\n",
      " |        buffer protocol.\n",
      " |      byteorder\n",
      " |        The byte order used to represent the integer.  If byteorder is 'big',\n",
      " |        the most significant byte is at the beginning of the byte array.  If\n",
      " |        byteorder is 'little', the most significant byte is at the end of the\n",
      " |        byte array.  To request the native byte order of the host system, use\n",
      " |        `sys.byteorder' as the byte order value.\n",
      " |      signed\n",
      " |        Indicates whether two's complement is used to represent the integer.\n",
      " |  \n",
      " |  ----------------------------------------------------------------------\n",
      " |  Static methods defined here:\n",
      " |  \n",
      " |  __new__(*args, **kwargs) from builtins.type\n",
      " |      Create and return a new object.  See help(type) for accurate signature.\n",
      " |  \n",
      " |  ----------------------------------------------------------------------\n",
      " |  Data descriptors defined here:\n",
      " |  \n",
      " |  denominator\n",
      " |      the denominator of a rational number in lowest terms\n",
      " |  \n",
      " |  imag\n",
      " |      the imaginary part of a complex number\n",
      " |  \n",
      " |  numerator\n",
      " |      the numerator of a rational number in lowest terms\n",
      " |  \n",
      " |  real\n",
      " |      the real part of a complex number\n",
      "\n"
     ]
    }
   ],
   "source": [
    "help(a)"
   ]
  },
  {
   "cell_type": "code",
   "execution_count": 3,
   "metadata": {},
   "outputs": [
    {
     "data": {
      "text/plain": [
       "['__abs__',\n",
       " '__add__',\n",
       " '__and__',\n",
       " '__bool__',\n",
       " '__ceil__',\n",
       " '__class__',\n",
       " '__delattr__',\n",
       " '__dir__',\n",
       " '__divmod__',\n",
       " '__doc__',\n",
       " '__eq__',\n",
       " '__float__',\n",
       " '__floor__',\n",
       " '__floordiv__',\n",
       " '__format__',\n",
       " '__ge__',\n",
       " '__getattribute__',\n",
       " '__getnewargs__',\n",
       " '__gt__',\n",
       " '__hash__',\n",
       " '__index__',\n",
       " '__init__',\n",
       " '__init_subclass__',\n",
       " '__int__',\n",
       " '__invert__',\n",
       " '__le__',\n",
       " '__lshift__',\n",
       " '__lt__',\n",
       " '__mod__',\n",
       " '__mul__',\n",
       " '__ne__',\n",
       " '__neg__',\n",
       " '__new__',\n",
       " '__or__',\n",
       " '__pos__',\n",
       " '__pow__',\n",
       " '__radd__',\n",
       " '__rand__',\n",
       " '__rdivmod__',\n",
       " '__reduce__',\n",
       " '__reduce_ex__',\n",
       " '__repr__',\n",
       " '__rfloordiv__',\n",
       " '__rlshift__',\n",
       " '__rmod__',\n",
       " '__rmul__',\n",
       " '__ror__',\n",
       " '__round__',\n",
       " '__rpow__',\n",
       " '__rrshift__',\n",
       " '__rshift__',\n",
       " '__rsub__',\n",
       " '__rtruediv__',\n",
       " '__rxor__',\n",
       " '__setattr__',\n",
       " '__sizeof__',\n",
       " '__str__',\n",
       " '__sub__',\n",
       " '__subclasshook__',\n",
       " '__truediv__',\n",
       " '__trunc__',\n",
       " '__xor__',\n",
       " 'bit_length',\n",
       " 'conjugate',\n",
       " 'denominator',\n",
       " 'from_bytes',\n",
       " 'imag',\n",
       " 'numerator',\n",
       " 'real',\n",
       " 'to_bytes']"
      ]
     },
     "execution_count": 3,
     "metadata": {},
     "output_type": "execute_result"
    }
   ],
   "source": [
    "dir(a)"
   ]
  },
  {
   "cell_type": "markdown",
   "metadata": {},
   "source": [
    "A __doc__ függvény meghívásával egy kiválasztott method dukumentációs stringjét hívhatjuk elő."
   ]
  },
  {
   "cell_type": "code",
   "execution_count": 4,
   "metadata": {},
   "outputs": [
    {
     "data": {
      "text/plain": [
       "'Return the absolute value of the argument.'"
      ]
     },
     "execution_count": 4,
     "metadata": {},
     "output_type": "execute_result"
    }
   ],
   "source": [
    "abs.__doc__"
   ]
  },
  {
   "cell_type": "code",
   "execution_count": 5,
   "metadata": {},
   "outputs": [
    {
     "data": {
      "text/plain": [
       "5"
      ]
     },
     "execution_count": 5,
     "metadata": {},
     "output_type": "execute_result"
    }
   ],
   "source": [
    "abs(a)"
   ]
  },
  {
   "cell_type": "markdown",
   "metadata": {},
   "source": [
    "### 2. Syntax"
   ]
  },
  {
   "cell_type": "markdown",
   "metadata": {},
   "source": [
    "A Phython nem használ blokk elválasztó karaktert, mindent behúzásokkal tagol. Minden block első sora, ami behúzást vár, :-ra végződik.\n",
    "Egy soros komment a # karakter használatával lehetséges, több soros komment a \"\"\" \"\"\" köz írva. Értéket a = operátorral adunk meg, amellyel tulajdon képpen nevet rendelünk az objektumhoz. Egyenlőség teszt a == operátorral lehetséges. Incrementálni és decrementálni a += és -= operátorokkal lehetséges. Ez többéle adattípuson is működik. "
   ]
  },
  {
   "cell_type": "code",
   "execution_count": 6,
   "metadata": {},
   "outputs": [
    {
     "data": {
      "text/plain": [
       "5"
      ]
     },
     "execution_count": 6,
     "metadata": {},
     "output_type": "execute_result"
    }
   ],
   "source": [
    "myvar = 3\n",
    "myvar += 2\n",
    "myvar"
   ]
  },
  {
   "cell_type": "code",
   "execution_count": 7,
   "metadata": {},
   "outputs": [
    {
     "data": {
      "text/plain": [
       "4"
      ]
     },
     "execution_count": 7,
     "metadata": {},
     "output_type": "execute_result"
    }
   ],
   "source": [
    "myvar -= 1\n",
    "myvar"
   ]
  },
  {
   "cell_type": "code",
   "execution_count": 8,
   "metadata": {},
   "outputs": [
    {
     "name": "stdout",
     "output_type": "stream",
     "text": [
      "Hello world.\n"
     ]
    }
   ],
   "source": [
    "\"\"\"Ez egy többsoros komment\n",
    "A következő sorok két stringet adnak össze.\"\"\"\n",
    "mystring = \"Hello\"\n",
    "mystring += \" world.\"\n",
    "print(mystring)"
   ]
  },
  {
   "cell_type": "code",
   "execution_count": 9,
   "metadata": {},
   "outputs": [],
   "source": [
    "# A következő kód egy sorban(!) cseréli ki két változó értékét.\n",
    "# Ez nem sérti meg az erős típusdefiniáltságot, mivel nem értéket \n",
    "# rendelünk hozzá, hanem új objektumokat rendelünk a régi nevekhez. \n",
    "myvar, mystring = mystring, myvar"
   ]
  },
  {
   "cell_type": "code",
   "execution_count": 10,
   "metadata": {},
   "outputs": [
    {
     "data": {
      "text/plain": [
       "'Hello world.'"
      ]
     },
     "execution_count": 10,
     "metadata": {},
     "output_type": "execute_result"
    }
   ],
   "source": [
    "myvar"
   ]
  },
  {
   "cell_type": "code",
   "execution_count": 11,
   "metadata": {},
   "outputs": [
    {
     "data": {
      "text/plain": [
       "4"
      ]
     },
     "execution_count": 11,
     "metadata": {},
     "output_type": "execute_result"
    }
   ],
   "source": [
    "mystring"
   ]
  },
  {
   "cell_type": "markdown",
   "metadata": {},
   "source": [
    "### 3. Adattípusok"
   ]
  },
  {
   "cell_type": "markdown",
   "metadata": {},
   "source": [
    "A Pythonban elérhető adattípusok a listák (list), tupleök (tuple) és szótárak (dictionariy). \n",
    "- A listák gyakorlatilag egydimenziós vektorok (de listák lehetnek lista elemek is).<br>\n",
    "- A szótárak (dictionary) kulcsszó érték párokat tartalmaznak. <br>\n",
    "- A tuples olyan Python objektumok listája, mely nem változtatható a deklarációját követően. A hagyományos listától annyiban különbözik, hogy ennek elemeit nem módosíthatjuk, de a többi listaműveletet végre lehet velük hajtani.\n",
    "\n",
    "Phyton tömbök tartalmazhatnak bármilyen adattípust, így egyazon tömb tartalmazhat akár integert, stringet, listát, dictionary-t stb. <br>\n",
    "Az indexelés minden tömb típusnál 0-tól indul. Negítív számokkal hátulról címezhetünk meg elemet, így a -1 az utolsó elemet jelöli."
   ]
  },
  {
   "cell_type": "code",
   "execution_count": 12,
   "metadata": {},
   "outputs": [],
   "source": [
    "sample = [1, [\"another\", \"list\"], (\"a\", \"tuple\")]\n",
    "# ennek a listának első eleme egy integer, második eleme egy két elemű lista, harmadik eleme pedig egy 2 elemű tuple."
   ]
  },
  {
   "cell_type": "code",
   "execution_count": 13,
   "metadata": {},
   "outputs": [],
   "source": [
    "mylist = [\"List item 1\", 2, 3.14]\n",
    "# a mylist egy olyan lista mely tartalmaz strig, integer és float értéket is"
   ]
  },
  {
   "cell_type": "code",
   "execution_count": 14,
   "metadata": {},
   "outputs": [
    {
     "data": {
      "text/plain": [
       "'List item 1'"
      ]
     },
     "execution_count": 14,
     "metadata": {},
     "output_type": "execute_result"
    }
   ],
   "source": [
    "# lista első (azaz 0.) elemének kiíratása\n",
    "mylist[0]"
   ]
  },
  {
   "cell_type": "code",
   "execution_count": 15,
   "metadata": {},
   "outputs": [],
   "source": [
    "# Listaelem megváltoztatása\n",
    "mylist[0] = \"List item 1 again\""
   ]
  },
  {
   "cell_type": "code",
   "execution_count": 16,
   "metadata": {},
   "outputs": [
    {
     "data": {
      "text/plain": [
       "'List item 1 again'"
      ]
     },
     "execution_count": 16,
     "metadata": {},
     "output_type": "execute_result"
    }
   ],
   "source": [
    "mylist[0]"
   ]
  },
  {
   "cell_type": "code",
   "execution_count": 17,
   "metadata": {},
   "outputs": [
    {
     "data": {
      "text/plain": [
       "3.14"
      ]
     },
     "execution_count": 17,
     "metadata": {},
     "output_type": "execute_result"
    }
   ],
   "source": [
    "# Lista utolsó eleme\n",
    "mylist[-1]"
   ]
  },
  {
   "cell_type": "code",
   "execution_count": 18,
   "metadata": {},
   "outputs": [],
   "source": [
    "mydict = {\"Key 1\": \"Value 1\", 2: 3, \"pi\": 3.14}"
   ]
  },
  {
   "cell_type": "code",
   "execution_count": 19,
   "metadata": {},
   "outputs": [
    {
     "data": {
      "text/plain": [
       "3.14"
      ]
     },
     "execution_count": 19,
     "metadata": {},
     "output_type": "execute_result"
    }
   ],
   "source": [
    "mydict[\"pi\"]"
   ]
  },
  {
   "cell_type": "code",
   "execution_count": 20,
   "metadata": {},
   "outputs": [],
   "source": [
    "# Szótár \"pi\" nevű elemének értékének megváltoztatása\n",
    "mydict[\"pi\"] = 3.15"
   ]
  },
  {
   "cell_type": "code",
   "execution_count": 21,
   "metadata": {},
   "outputs": [],
   "source": [
    "# Tuple létrehozása\n",
    "mytuple = (1, 2, 3)"
   ]
  },
  {
   "cell_type": "code",
   "execution_count": 22,
   "metadata": {},
   "outputs": [
    {
     "data": {
      "text/plain": [
       "3"
      ]
     },
     "execution_count": 22,
     "metadata": {},
     "output_type": "execute_result"
    }
   ],
   "source": [
    "# Tuple hosszának kiíratása\n",
    "len(mytuple) "
   ]
  },
  {
   "cell_type": "code",
   "execution_count": 23,
   "metadata": {},
   "outputs": [],
   "source": [
    "# Új hosszfüggvny megadása\n",
    "myfunction = len"
   ]
  },
  {
   "cell_type": "code",
   "execution_count": 24,
   "metadata": {},
   "outputs": [
    {
     "name": "stdout",
     "output_type": "stream",
     "text": [
      "3\n"
     ]
    }
   ],
   "source": [
    "print(myfunction(mylist))"
   ]
  },
  {
   "cell_type": "code",
   "execution_count": 25,
   "metadata": {},
   "outputs": [
    {
     "name": "stdout",
     "output_type": "stream",
     "text": [
      "['List item 1 again', 2, 3.14]\n"
     ]
    }
   ],
   "source": [
    "print(mylist)"
   ]
  },
  {
   "cell_type": "markdown",
   "metadata": {},
   "source": [
    "Tömb bizonyos elemeihez való hozzáféréshez egy intervallumot is megadhatuk a : karakterrel elválasztva. Üresen hagyva a kezdő sorszámot automatikusan a tömb legelejéről indul a számozás. Az intervallum végét üresen hagyva pedig automatikusan az utolsó elemig nézzük a tömböt."
   ]
  },
  {
   "cell_type": "code",
   "execution_count": 26,
   "metadata": {},
   "outputs": [
    {
     "name": "stdout",
     "output_type": "stream",
     "text": [
      "['List item 1 again', 2, 3.14]\n"
     ]
    }
   ],
   "source": [
    "print(mylist[:])"
   ]
  },
  {
   "cell_type": "code",
   "execution_count": 27,
   "metadata": {},
   "outputs": [
    {
     "name": "stdout",
     "output_type": "stream",
     "text": [
      "['List item 1 again', 2, 3.14]\n"
     ]
    }
   ],
   "source": [
    "print(mylist[:])"
   ]
  },
  {
   "cell_type": "code",
   "execution_count": 28,
   "metadata": {},
   "outputs": [
    {
     "name": "stdout",
     "output_type": "stream",
     "text": [
      "['List item 1 again', 2]\n"
     ]
    }
   ],
   "source": [
    "print(mylist[0:2])"
   ]
  },
  {
   "cell_type": "code",
   "execution_count": 29,
   "metadata": {},
   "outputs": [
    {
     "name": "stdout",
     "output_type": "stream",
     "text": [
      "['List item 1 again', 2]\n"
     ]
    }
   ],
   "source": [
    "print(mylist[-3:-1])"
   ]
  },
  {
   "cell_type": "code",
   "execution_count": 30,
   "metadata": {},
   "outputs": [
    {
     "name": "stdout",
     "output_type": "stream",
     "text": [
      "[2, 3.14]\n"
     ]
    }
   ],
   "source": [
    "print(mylist[1:])"
   ]
  },
  {
   "cell_type": "markdown",
   "metadata": {},
   "source": [
    "Az intervallumot kiegészíthetjük egy harmadik elmmel is, a lépésközzel. Ezzel a paraméterrel kiírathatjuk mondjuk minden másodiket elemet."
   ]
  },
  {
   "cell_type": "code",
   "execution_count": 31,
   "metadata": {},
   "outputs": [
    {
     "name": "stdout",
     "output_type": "stream",
     "text": [
      "['List item 1 again', 3.14]\n"
     ]
    }
   ],
   "source": [
    "print(mylist[::2])"
   ]
  },
  {
   "cell_type": "markdown",
   "metadata": {},
   "source": [
    "### 4. Stringek"
   ]
  },
  {
   "cell_type": "markdown",
   "metadata": {},
   "source": [
    "Stringek kiíratásakor használhatunk ' vagy \" idézőjelet. A két különbőző idézőjel egymásba is ágyazható kiíratáskor. "
   ]
  },
  {
   "cell_type": "code",
   "execution_count": 32,
   "metadata": {},
   "outputs": [
    {
     "name": "stdout",
     "output_type": "stream",
     "text": [
      "He said 'Hello'\n"
     ]
    }
   ],
   "source": [
    "print(\"He said 'Hello'\")"
   ]
  },
  {
   "cell_type": "code",
   "execution_count": 33,
   "metadata": {},
   "outputs": [
    {
     "name": "stdout",
     "output_type": "stream",
     "text": [
      "He also said \"How are you?\"\n"
     ]
    }
   ],
   "source": [
    "print('He also said \"How are you?\"')"
   ]
  },
  {
   "cell_type": "markdown",
   "metadata": {},
   "source": [
    "Stringek kitöltéséhez használjuk a % operátort és egy tuple-t. Minden %s egy tuple elemmel lesz helyettesítve balról jobbra haladva. Dictionary megfogalmazás szintén használható. "
   ]
  },
  {
   "cell_type": "code",
   "execution_count": 34,
   "metadata": {},
   "outputs": [
    {
     "name": "stdout",
     "output_type": "stream",
     "text": [
      "This is a test.\n"
     ]
    }
   ],
   "source": [
    "# Vigyázat: Figyeljünk az s végződésre \"%(key)s\".\n",
    "print(\"This %(verb)s a %(noun)s.\" % {\"noun\": \"test\", \"verb\": \"is\"})"
   ]
  },
  {
   "cell_type": "code",
   "execution_count": 35,
   "metadata": {},
   "outputs": [
    {
     "name": "stdout",
     "output_type": "stream",
     "text": [
      "Hello, Groot!\n"
     ]
    }
   ],
   "source": [
    "# Adaptálódó kiiratása\n",
    "name = \"Groot\"\n",
    "print(\"Hello, {}!\".format(name))"
   ]
  },
  {
   "cell_type": "code",
   "execution_count": 36,
   "metadata": {},
   "outputs": [
    {
     "name": "stdout",
     "output_type": "stream",
     "text": [
      "I am Groot!\n"
     ]
    }
   ],
   "source": [
    "print(f\"I am {name}!\")"
   ]
  },
  {
   "cell_type": "markdown",
   "metadata": {},
   "source": [
    "### 5. Ciklusok, elágazások"
   ]
  },
  {
   "cell_type": "markdown",
   "metadata": {},
   "source": [
    "Használható kifejezések az if, for és while. Pythonban nincs switch. Iterációk során használhatjuk még a range(<szám>) kifejezést."
   ]
  },
  {
   "cell_type": "code",
   "execution_count": 37,
   "metadata": {},
   "outputs": [
    {
     "name": "stdout",
     "output_type": "stream",
     "text": [
      "range(0, 10)\n"
     ]
    }
   ],
   "source": [
    "print(range(10)) # magában kiíratva nem tűnik hasznosnak, de..."
   ]
  },
  {
   "cell_type": "code",
   "execution_count": 38,
   "metadata": {},
   "outputs": [
    {
     "name": "stdout",
     "output_type": "stream",
     "text": [
      "[0, 1, 2, 3, 4, 5, 6, 7, 8, 9]\n"
     ]
    }
   ],
   "source": [
    "rangelist = list(range(10))\n",
    "print(rangelist)"
   ]
  },
  {
   "cell_type": "code",
   "execution_count": 39,
   "metadata": {},
   "outputs": [
    {
     "name": "stdout",
     "output_type": "stream",
     "text": [
      "3\n"
     ]
    }
   ],
   "source": [
    "for number in range(10):\n",
    "    # Ellenőrizzük, hogy az aktuális szám\n",
    "    # része-e a tuplenek.\n",
    "    if number in (3, 4, 7, 9):\n",
    "        # A 'Break' parancs kilép a for ciklusból\n",
    "        # mielőtt végrehajtaná az else ágat\n",
    "        print(number)\n",
    "        break\n",
    "    else:\n",
    "        # A \"Continue\" a következő iterációt kezdeni. \n",
    "        # a loopban. Elég haszontalan itt, mivel\n",
    "        # ez az utolsó utasítás.\n",
    "        continue\n",
    "else:\n",
    "    # Az else ág csak opcionális, mivel csak akkor\n",
    "    # fut le, ha a loop nem break-el.\n",
    "    pass # Nem csinál semmit."
   ]
  },
  {
   "cell_type": "code",
   "execution_count": 40,
   "metadata": {},
   "outputs": [
    {
     "name": "stdout",
     "output_type": "stream",
     "text": [
      "Dunno\n"
     ]
    }
   ],
   "source": [
    "if rangelist[1] == 2:\n",
    "    print(\"The second item (lists are 0-based) is 2\")\n",
    "elif rangelist[1] == 3:\n",
    "    print(\"The second item (lists are 0-based) is 3\")\n",
    "else:\n",
    "    print(\"Dunno\")"
   ]
  },
  {
   "cell_type": "markdown",
   "metadata": {},
   "source": [
    "Ha sikerülne egy végtelen loopba kergetni a programot a Jupyter Notebook menüsávján az \"interrupt kernel\" gombra kattintva tudjuk csak megállítani a program futását.\n",
    "A kipróbálásához először aktiváljuk a következő cella kommentjét."
   ]
  },
  {
   "cell_type": "code",
   "execution_count": 41,
   "metadata": {},
   "outputs": [],
   "source": [
    "#while rangelist[1] == 1:\n",
    "#    print(\"We are trapped in an infinite loop!\")"
   ]
  },
  {
   "cell_type": "markdown",
   "metadata": {},
   "source": [
    "### 6. Függvények"
   ]
  },
  {
   "cell_type": "markdown",
   "metadata": {},
   "source": [
    "Függvényeket a def kulcsszóval deklarálunk. A deklarációban adhatjuk meg az argumentumokat is, ahol alap értékeket is beállíthatunk az egyes szükséges változóknak. A föggvények visszatérési értéke lehet egy tuple, így könnyedén vissza lehet adni több változót is. <br>\n",
    "A lambda függvény egy ad hoc függvény, ami egy utasítást tömörít. A paramétere referenciaként adható meg, nem modosítható tipusban (tuple, int, string). Nem módosítható a hívóban. Ennek magyarázata, hogy csak a memória helyének címét adjuk át és ha egy sorban egy új objektumot is hozzárendelnénk a régi értéket eldobnánk. "
   ]
  },
  {
   "cell_type": "code",
   "execution_count": 42,
   "metadata": {
    "scrolled": true
   },
   "outputs": [
    {
     "name": "stdout",
     "output_type": "stream",
     "text": [
      "2\n"
     ]
    }
   ],
   "source": [
    "# Ugyan az mint a def funcvar(x): return x + 1\n",
    "funcvar = lambda x: x + 1\n",
    "print(funcvar(1))"
   ]
  },
  {
   "cell_type": "code",
   "execution_count": 43,
   "metadata": {},
   "outputs": [],
   "source": [
    "# Az an_int és a_string megadása opcionális, mivel rendelkeznek default értékkel,\n",
    "# ha valamelyiket nem adnánk meg a fügvénynek meghíváskor.\n",
    "def passing_example(a_list, an_int=2, a_string=\"A default string\"):\n",
    "    a_list.append(\"A new item\")\n",
    "    an_int = 4\n",
    "    return a_list, an_int, a_string"
   ]
  },
  {
   "cell_type": "code",
   "execution_count": 44,
   "metadata": {},
   "outputs": [
    {
     "name": "stdout",
     "output_type": "stream",
     "text": [
      "([1, 2, 3, 'A new item'], 4, 'A default string')\n"
     ]
    }
   ],
   "source": [
    "my_list = [1, 2, 3]\n",
    "my_int = 10\n",
    "print(passing_example(my_list, my_int))"
   ]
  },
  {
   "cell_type": "code",
   "execution_count": 45,
   "metadata": {},
   "outputs": [
    {
     "data": {
      "text/plain": [
       "[1, 2, 3, 'A new item']"
      ]
     },
     "execution_count": 45,
     "metadata": {},
     "output_type": "execute_result"
    }
   ],
   "source": [
    "my_list"
   ]
  },
  {
   "cell_type": "code",
   "execution_count": 46,
   "metadata": {},
   "outputs": [
    {
     "data": {
      "text/plain": [
       "10"
      ]
     },
     "execution_count": 46,
     "metadata": {},
     "output_type": "execute_result"
    }
   ],
   "source": [
    "my_int"
   ]
  },
  {
   "cell_type": "markdown",
   "metadata": {},
   "source": [
    "### 7. Kivétel kezelés"
   ]
  },
  {
   "cell_type": "markdown",
   "metadata": {},
   "source": [
    "A kivételek kezelése a Pythonban a try-except blokkal lehetséges."
   ]
  },
  {
   "cell_type": "code",
   "execution_count": 47,
   "metadata": {},
   "outputs": [],
   "source": [
    "def some_function():\n",
    "    try:\n",
    "        # Nullával osztás hibát dob\n",
    "        10 / 0\n",
    "    except ZeroDivisionError:\n",
    "        print(\"Oops, invalid.\")\n",
    "    else:\n",
    "        # Nincs hiba, eddig jók vagyunk.\n",
    "        pass\n",
    "    finally:\n",
    "        # Ez a code block után fut le, miután az az összes\n",
    "        # hibát lekezelte. Még akkor is, ha a hibakezelés\n",
    "        # közbe új hiba lép fel.\n",
    "        print(\"We're done with that.\")"
   ]
  },
  {
   "cell_type": "code",
   "execution_count": 48,
   "metadata": {},
   "outputs": [
    {
     "name": "stdout",
     "output_type": "stream",
     "text": [
      "Oops, invalid.\n",
      "We're done with that.\n"
     ]
    }
   ],
   "source": [
    "some_function()"
   ]
  },
  {
   "cell_type": "markdown",
   "metadata": {},
   "source": [
    "### 9. Importing"
   ]
  },
  {
   "cell_type": "markdown",
   "metadata": {},
   "source": [
    "Külső könyvtárak használata a könyvtár beinportálása után lehetséges. Importálhatunk egész könyvtárat <br>\n",
    "import [könyvtár]  <br>\n",
    ", vagy könyvtárak egyes részeit, függvényeit. <br>\n",
    "from [könyvtár] import [függvény] <br>\n",
    "Az as paranccsal egy rövidebb kifejezést is társíthatunk a gyakran használt csomagok mellé. <br>\n",
    "import [könyvtár] as [kulcsszó]"
   ]
  },
  {
   "cell_type": "code",
   "execution_count": 49,
   "metadata": {},
   "outputs": [
    {
     "name": "stdout",
     "output_type": "stream",
     "text": [
      "96\n"
     ]
    }
   ],
   "source": [
    "import random\n",
    "from time import clock\n",
    "\n",
    "randomint = random.randint(1, 100)\n",
    "print(randomint)"
   ]
  },
  {
   "cell_type": "markdown",
   "metadata": {},
   "source": [
    "### 10. File I/O"
   ]
  },
  {
   "cell_type": "markdown",
   "metadata": {},
   "source": [
    "Python has a wide array of libraries built in. As an example, here is how serializing (converting data structures to strings using the pickle library) with file I/O is used:"
   ]
  },
  {
   "cell_type": "code",
   "execution_count": 50,
   "metadata": {},
   "outputs": [],
   "source": [
    "# Fálj megnyitása írásra (w). Az open utáni r betű a fájlnév speciális \n",
    "# karakterek okozta kilépést hivatott megelőzni.\n",
    "myfile = open(r\".\\Test.txt\", \"w\")\n",
    "myfile.write(\"This is a sample string\")\n",
    "myfile.close()"
   ]
  },
  {
   "cell_type": "code",
   "execution_count": 51,
   "metadata": {},
   "outputs": [
    {
     "name": "stdout",
     "output_type": "stream",
     "text": [
      "This is a sample string\n"
     ]
    }
   ],
   "source": [
    "# Kiolvassuk mi van a fájlba.\n",
    "myfile = open(r\".\\Test.txt\")\n",
    "print(myfile.read())\n",
    "myfile.close()"
   ]
  },
  {
   "cell_type": "markdown",
   "metadata": {},
   "source": [
    "### 11. Globális változók kezelése "
   ]
  },
  {
   "cell_type": "markdown",
   "metadata": {},
   "source": [
    "A globális változók deklarálása a függvényen kívül történik és további definiálás nélkül használható a függvényen belül. Ha módosítani szeretnénk a függvényen belül (nem csak olvasni), akkor a fügvényen belül kell deklarálni a global kulcsszó használatával különben a Python egy új lokális változót fog létrehozni azzal a névvel."
   ]
  },
  {
   "cell_type": "code",
   "execution_count": 52,
   "metadata": {},
   "outputs": [],
   "source": [
    "number = 5\n",
    "\n",
    "def myfunc():\n",
    "    # This will print 5.\n",
    "    print(number)\n",
    "\n",
    "def anotherfunc():\n",
    "    # This raises an exception because the variable has not\n",
    "    # been bound before printing. Python knows that it an\n",
    "    # object will be bound to it later and creates a new, local\n",
    "    # object instead of accessing the global one.\n",
    "    print(number)\n",
    "    number = 3\n",
    "\n",
    "def yetanotherfunc():\n",
    "    global number\n",
    "    # This will correctly change the global.\n",
    "    number = 3"
   ]
  },
  {
   "cell_type": "code",
   "execution_count": 53,
   "metadata": {},
   "outputs": [
    {
     "name": "stdout",
     "output_type": "stream",
     "text": [
      "5\n"
     ]
    }
   ],
   "source": [
    "myfunc()"
   ]
  },
  {
   "cell_type": "code",
   "execution_count": 54,
   "metadata": {},
   "outputs": [
    {
     "ename": "UnboundLocalError",
     "evalue": "local variable 'number' referenced before assignment",
     "output_type": "error",
     "traceback": [
      "\u001b[1;31m---------------------------------------------------------------------------\u001b[0m",
      "\u001b[1;31mUnboundLocalError\u001b[0m                         Traceback (most recent call last)",
      "\u001b[1;32m<ipython-input-54-0adbbc15ba14>\u001b[0m in \u001b[0;36m<module>\u001b[1;34m\u001b[0m\n\u001b[1;32m----> 1\u001b[1;33m \u001b[0manotherfunc\u001b[0m\u001b[1;33m(\u001b[0m\u001b[1;33m)\u001b[0m\u001b[1;33m\u001b[0m\u001b[1;33m\u001b[0m\u001b[0m\n\u001b[0m\u001b[0;32m      2\u001b[0m \u001b[1;31m# A hibaüzenet itt elvárt.\u001b[0m\u001b[1;33m\u001b[0m\u001b[1;33m\u001b[0m\u001b[1;33m\u001b[0m\u001b[0m\n",
      "\u001b[1;32m<ipython-input-52-db332fb6f8b4>\u001b[0m in \u001b[0;36manotherfunc\u001b[1;34m()\u001b[0m\n\u001b[0;32m     10\u001b[0m     \u001b[1;31m# object will be bound to it later and creates a new, local\u001b[0m\u001b[1;33m\u001b[0m\u001b[1;33m\u001b[0m\u001b[1;33m\u001b[0m\u001b[0m\n\u001b[0;32m     11\u001b[0m     \u001b[1;31m# object instead of accessing the global one.\u001b[0m\u001b[1;33m\u001b[0m\u001b[1;33m\u001b[0m\u001b[1;33m\u001b[0m\u001b[0m\n\u001b[1;32m---> 12\u001b[1;33m     \u001b[0mprint\u001b[0m\u001b[1;33m(\u001b[0m\u001b[0mnumber\u001b[0m\u001b[1;33m)\u001b[0m\u001b[1;33m\u001b[0m\u001b[1;33m\u001b[0m\u001b[0m\n\u001b[0m\u001b[0;32m     13\u001b[0m     \u001b[0mnumber\u001b[0m \u001b[1;33m=\u001b[0m \u001b[1;36m3\u001b[0m\u001b[1;33m\u001b[0m\u001b[1;33m\u001b[0m\u001b[0m\n\u001b[0;32m     14\u001b[0m \u001b[1;33m\u001b[0m\u001b[0m\n",
      "\u001b[1;31mUnboundLocalError\u001b[0m: local variable 'number' referenced before assignment"
     ]
    }
   ],
   "source": [
    "anotherfunc()\n",
    "# A hibaüzenet itt elvárt."
   ]
  },
  {
   "cell_type": "code",
   "execution_count": 55,
   "metadata": {},
   "outputs": [
    {
     "name": "stdout",
     "output_type": "stream",
     "text": [
      "3\n"
     ]
    }
   ],
   "source": [
    "yetanotherfunc()\n",
    "print(number)"
   ]
  },
  {
   "cell_type": "markdown",
   "metadata": {},
   "source": [
    "### 12 NumPy csomag:"
   ]
  },
  {
   "cell_type": "markdown",
   "metadata": {},
   "source": [
    "A gyakorlatok során leggyakrabban használt csomag a NymPy lesz. Importáljuk be a NumPy -t! Az importot követően az <font color='green'>$as$</font> parancsal megadható egy rövidebb forma az egyszerűbb használatért."
   ]
  },
  {
   "cell_type": "code",
   "execution_count": 56,
   "metadata": {},
   "outputs": [],
   "source": [
    "import numpy as np"
   ]
  },
  {
   "cell_type": "markdown",
   "metadata": {},
   "source": [
    "Hozzuk létre az alábbi tömböket: "
   ]
  },
  {
   "cell_type": "markdown",
   "metadata": {},
   "source": [
    "A = \n",
    "\\begin{array}{ccc}\n",
    "0 & 0 & 0\n",
    "\\end{array}\n",
    "\n",
    "B = \n",
    "\\begin{array}{c}\n",
    "1\\\\\n",
    "1\\\\\n",
    "1\n",
    "\\end{array}\n",
    "\n",
    "C = \n",
    "\\begin{array}{cc}\n",
    "1 & 2\\\\\n",
    "3 & 4\\\\\n",
    "5 & 6\n",
    "\\end{array}\n",
    "\n",
    "A szintaktika: a tömb sorainak elemeit [] között vesszővel elválasztva adhatjuk meg az egyes tagokat. Több dimenziós tömbök esetén a sorokat szintén , karakterrel választhatjuk el és a sorokat egy újabb [] párosba helyezzük."
   ]
  },
  {
   "cell_type": "code",
   "execution_count": 57,
   "metadata": {},
   "outputs": [
    {
     "name": "stdout",
     "output_type": "stream",
     "text": [
      "A:\n",
      " [0 0 0]\n",
      "B:\n",
      " [[1]\n",
      " [1]\n",
      " [1]]\n",
      "C:\n",
      " [[1 2]\n",
      " [3 4]\n",
      " [5 6]]\n",
      "D:\n",
      " [[ 0  1  2  3  4  5  6]\n",
      " [ 7  8  9 10 11 12 13]\n",
      " [14 15 16 17 18 19 20]\n",
      " [21 22 23 24 25 26 27]]\n"
     ]
    }
   ],
   "source": [
    "A = np.array([0,0,0,])\n",
    "B = np.array([[1],[1],[1]])\n",
    "C = np.array([[1,2],[3,4],[5,6]])\n",
    "D = np.array([[0,1,2,3,4,5,6],[7,8,9,10,11,12,13],[14,15,16,17,18,19,20],[21,22,23,24,25,26,27]])\n",
    "print('A:\\n',A)\n",
    "print('B:\\n',B)\n",
    "print('C:\\n',C)\n",
    "print('D:\\n',D)"
   ]
  },
  {
   "cell_type": "markdown",
   "metadata": {},
   "source": [
    "Visszaellenőrzés során a tömb dimenzióinak lekérdezése numpy.array().shape paranccsal történik.\\\n",
    "Feladat:\n",
    "- Írassuk ki az előző cellában létrehozott mátrixok alakját!\n",
    "- Írassuk ki az C mátrix első dimenziájának nagyságát!"
   ]
  },
  {
   "cell_type": "code",
   "execution_count": 58,
   "metadata": {},
   "outputs": [
    {
     "name": "stdout",
     "output_type": "stream",
     "text": [
      "(3,)\n",
      "(3, 1)\n",
      "(3, 2)\n",
      "(4, 7)\n",
      "3\n"
     ]
    }
   ],
   "source": [
    "print(A.shape)\n",
    "print(B.shape)\n",
    "print(C.shape)\n",
    "print(D.shape)\n",
    "print(C.shape[0])"
   ]
  },
  {
   "cell_type": "markdown",
   "metadata": {},
   "source": [
    "Érdemes megfigyelni, hogy a sorvektorok esetén 1 dimenziót jelez ki a függvény, míg oszlopvektorok esetén 2 dimenziót. "
   ]
  },
  {
   "cell_type": "markdown",
   "metadata": {},
   "source": [
    "Sokszor szükségünk lehet egy adott lista, tömb vagy mátrix elemeinek számára. Ilyenkor a [numpy.ndarray.size](https://docs.scipy.org/doc/numpy/reference/generated/numpy.ndarray.size.html \"dokumentáció\") -t használjuk. FONTOS, hogy ez nem azonos a shape-el, hanem a shape elemeinek szorzatával, azaz az összes elemmel.\n",
    "\n",
    "Feladat:\n",
    "- Határozzuk meg a A és D mátrixok nagyságát!"
   ]
  },
  {
   "cell_type": "code",
   "execution_count": 59,
   "metadata": {},
   "outputs": [
    {
     "name": "stdout",
     "output_type": "stream",
     "text": [
      "3\n",
      "28\n"
     ]
    }
   ],
   "source": [
    "print(A.size)\n",
    "print(D.size)"
   ]
  },
  {
   "cell_type": "markdown",
   "metadata": {},
   "source": [
    "Tömb elemére történő hivatkozás az elem sor és oszlop indexével történhet. Az indexelés 0-tól kezdődik.\\\n",
    "Szintaktika:\n",
    "\n",
    "<tömbnév>[sor, oszlop]\n",
    "\n",
    ",ahol az elemek helyére :-t írva az egész sor vagy oszlop behivatkozható, illetve x:y formában határ értékekkel használva megadott részleteket emelhetünk ki a matrixból."
   ]
  },
  {
   "cell_type": "code",
   "execution_count": 60,
   "metadata": {},
   "outputs": [
    {
     "name": "stdout",
     "output_type": "stream",
     "text": [
      "Egy elem\n",
      "1\n",
      "Egy sor\n",
      "[1 2]\n",
      "Egy oszlop\n",
      "[1 3 5]\n",
      "Submátrix\n",
      "[[ 9 10 11 12]\n",
      " [16 17 18 19]]\n"
     ]
    }
   ],
   "source": [
    "print(\"Egy elem\")\n",
    "print(C[0,0])\n",
    "print(\"Egy sor\")\n",
    "print(C[0,:])\n",
    "print(\"Egy oszlop\")\n",
    "print(C[:,0])\n",
    "print(\"Submátrix\")\n",
    "print(D[1:3,2:6])"
   ]
  },
  {
   "cell_type": "markdown",
   "metadata": {},
   "source": [
    "Nullákból álló tömb létrehozása: [numpy.zeros()](https://docs.scipy.org/doc/numpy/reference/generated/numpy.zeros.html \"adatlap\").\\\n",
    "Feladat:\n",
    "- hozzunk létre egy (1,5) teljesen zéró mátrixot!\n",
    "- hozznk létre egy a C mátrix nagyságának megfelelő zéró mátrixot!"
   ]
  },
  {
   "cell_type": "code",
   "execution_count": 61,
   "metadata": {},
   "outputs": [
    {
     "name": "stdout",
     "output_type": "stream",
     "text": [
      "[[0. 0. 0. 0. 0.]]\n",
      "[[0. 0.]\n",
      " [0. 0.]\n",
      " [0. 0.]]\n"
     ]
    }
   ],
   "source": [
    "Z1 = np.zeros((1,5))\n",
    "Z2 = np.zeros(C.shape)\n",
    "print(Z1)\n",
    "print(Z2)"
   ]
  },
  {
   "cell_type": "markdown",
   "metadata": {},
   "source": [
    "Hozzunk létre csupa egyesekből álló mátrixokat [numpy.ones()](https://docs.scipy.org/doc/numpy/reference/generated/numpy.ones.html#numpy.ones \"adatlap\") segítségével.\\\n",
    "Feladat:\n",
    "- hozzunk létre egy (1,5) tiszta egyes mátrixot!\n",
    "- hozzunk létre egy a C mátrixnak megfelelő tiszta egyes mátrixot!\n",
    "- hozzunk létre egy a C mátrix sorainak megfelelő \"sorvektor\"!"
   ]
  },
  {
   "cell_type": "code",
   "execution_count": 62,
   "metadata": {},
   "outputs": [
    {
     "name": "stdout",
     "output_type": "stream",
     "text": [
      "[[1. 1. 1. 1. 1.]]\n",
      "[[1. 1.]\n",
      " [1. 1.]\n",
      " [1. 1.]]\n",
      "[1. 1. 1.]\n"
     ]
    }
   ],
   "source": [
    "O1 = np.ones((1,5))\n",
    "O2 = np.ones(C.shape)\n",
    "O3 = np.ones(C.shape[0])\n",
    "print(O1)\n",
    "print(O2)\n",
    "print(O3)"
   ]
  },
  {
   "cell_type": "markdown",
   "metadata": {},
   "source": [
    "Sokszor előfordulhat, hogy szükségünk van a mátrixunk egy adott más formára alakítására. Ezt a [numpy.reshape()](https://docs.scipy.org/doc/numpy/reference/generated/numpy.reshape.html \"dokumentáció\") segítségével tudjuk elérni.\n",
    "Feladat:\n",
    "- hozzunk létre egy sorvektort a D mátrixból!\n",
    "- hozzunk létre a D mátrixból egy olyan mátrixot, ami a D mátrix dimenzióit cseréli meg! (NEM transzponáltját!)\n"
   ]
  },
  {
   "cell_type": "code",
   "execution_count": 63,
   "metadata": {},
   "outputs": [
    {
     "name": "stdout",
     "output_type": "stream",
     "text": [
      "[[ 0  1  2  3  4  5  6  7  8  9 10 11 12 13 14 15 16 17 18 19 20 21 22 23\n",
      "  24 25 26 27]]\n",
      "[[ 0  1  2  3]\n",
      " [ 4  5  6  7]\n",
      " [ 8  9 10 11]\n",
      " [12 13 14 15]\n",
      " [16 17 18 19]\n",
      " [20 21 22 23]\n",
      " [24 25 26 27]]\n"
     ]
    }
   ],
   "source": [
    "R1 = D.reshape(1,D.size)\n",
    "R2 = D.reshape((7,4))\n",
    "\n",
    "print(R1)\n",
    "print(R2)"
   ]
  },
  {
   "cell_type": "markdown",
   "metadata": {},
   "source": [
    "Mátrix transzponáltját a [numpy.ndarray.transpose()](https://docs.scipy.org/doc/numpy/reference/generated/numpy.transpose.html \"dokumentáció\") segítségével tudjuk létrehozni, vagy a $.T$ segítségéevel. Vigyáznunk kell itt, hogy a mátrix numpy mátrixként legyen értelmezve és ne numpy vektroként, azt ugyanis érintetlenül hagyja.\\\n",
    "Feladat:\n",
    "- transzponáljuk az A,B,C,D mátrixokat!"
   ]
  },
  {
   "cell_type": "code",
   "execution_count": 64,
   "metadata": {},
   "outputs": [
    {
     "name": "stdout",
     "output_type": "stream",
     "text": [
      "A:\n",
      " [0 0 0] \n",
      "A.T:\n",
      " [0 0 0] \n",
      "\n",
      "B:\n",
      " [[1]\n",
      " [1]\n",
      " [1]] \n",
      "B.T\n",
      " [[1 1 1]] \n",
      "\n",
      "C:\n",
      " [[1 2]\n",
      " [3 4]\n",
      " [5 6]] \n",
      "C.T\n",
      " [[1 3 5]\n",
      " [2 4 6]] \n",
      "\n",
      "D:\n",
      " [[ 0  1  2  3  4  5  6]\n",
      " [ 7  8  9 10 11 12 13]\n",
      " [14 15 16 17 18 19 20]\n",
      " [21 22 23 24 25 26 27]] \n",
      "D.T\n",
      " [[ 0  7 14 21]\n",
      " [ 1  8 15 22]\n",
      " [ 2  9 16 23]\n",
      " [ 3 10 17 24]\n",
      " [ 4 11 18 25]\n",
      " [ 5 12 19 26]\n",
      " [ 6 13 20 27]] \n",
      "\n"
     ]
    }
   ],
   "source": [
    "print('A:\\n',A,'\\nA.T:\\n',A.T,'\\n')\n",
    "print('B:\\n',B,'\\nB.T\\n',B.T,'\\n')\n",
    "print('C:\\n',C,'\\nC.T\\n',C.T,'\\n')\n",
    "print('D:\\n',D,'\\nD.T\\n',D.T,'\\n')"
   ]
  },
  {
   "cell_type": "markdown",
   "metadata": {},
   "source": [
    "Láthatjuk, hogy az A mátrixot nem transponáltuk. Ez azért van, mert az A mátrixunk egy NumPy vektor. Ezt legegyszerűbben úgy tudjuk ellenőrizni, ha a .shape paranccsal megnézzük. Ilyenkor az eredmény (x, ) alakú lesz a mátrixos (x, y) formátum helyett."
   ]
  },
  {
   "cell_type": "markdown",
   "metadata": {},
   "source": [
    "Néha szükségünk lehet arra, hogy egy mátrixot vektorként adjunk át egy függvénynek. Ilyenkor a [numpy.ndarray.flatten()](https://docs.scipy.org/doc/numpy/reference/generated/numpy.ndarray.flatten.html \"dokumentáció\") -t használhatjuk.\\\n",
    "Feladat:\n",
    "- \"terítsük ki\" a C és D mátrixokat!"
   ]
  },
  {
   "cell_type": "code",
   "execution_count": 65,
   "metadata": {},
   "outputs": [
    {
     "name": "stdout",
     "output_type": "stream",
     "text": [
      "C lapítva: [1 2 3 4 5 6]\n",
      "D lapítva: [ 0  1  2  3  4  5  6  7  8  9 10 11 12 13 14 15 16 17 18 19 20 21 22 23\n",
      " 24 25 26 27]\n"
     ]
    }
   ],
   "source": [
    "print('C lapítva:',C.flatten())\n",
    "print('D lapítva:',D.flatten())"
   ]
  },
  {
   "cell_type": "markdown",
   "metadata": {},
   "source": [
    "Ha egy mátrix elemeinek, sorainak, oszlopainak összegére vagyunk kíváncsiak, akkor a [numpy.sum()](https://docs.scipy.org/doc/numpy/reference/generated/numpy.sum.html \"dokumentáció\") használatos. Itt be tudjuk állítani hogy melyik tengely szerint szeretnénk összegezni.\\\n",
    "Feladat:\n",
    "- összegezzük a D sorait majd külön az oszlopait majd az összes elemét!"
   ]
  },
  {
   "cell_type": "code",
   "execution_count": 66,
   "metadata": {},
   "outputs": [
    {
     "name": "stdout",
     "output_type": "stream",
     "text": [
      "[42 46 50 54 58 62 66]\n",
      "[ 21  70 119 168]\n",
      "378\n"
     ]
    }
   ],
   "source": [
    "print(np.sum(D,axis=0))\n",
    "print(np.sum(D,axis=1))\n",
    "print(np.sum(D,axis=None))"
   ]
  },
  {
   "cell_type": "markdown",
   "metadata": {},
   "source": [
    "Ha egy mátrix elemeinek, sorainak, oszlopainak átlagára vagyunk kíváncsiak, akkor a [numpy.mean()](https://docs.scipy.org/doc/numpy/reference/generated/numpy.mean.html#numpy.mean \"dokumentáció\") használatos. Itt be tudjuk állítani hogy melyik tengely szerint szeretnénk összegezni.\\\n",
    "Feladat:\n",
    "- átlagoljuk a D sorait majd külön az oszlopait majd az összes elemét!"
   ]
  },
  {
   "cell_type": "code",
   "execution_count": 67,
   "metadata": {},
   "outputs": [
    {
     "name": "stdout",
     "output_type": "stream",
     "text": [
      "[10.5 11.5 12.5 13.5 14.5 15.5 16.5]\n",
      "[ 3. 10. 17. 24.]\n",
      "13.5\n"
     ]
    }
   ],
   "source": [
    "print(np.mean(D,axis=0))\n",
    "print(np.mean(D,axis=1))\n",
    "print(np.mean(D,axis=None))"
   ]
  },
  {
   "cell_type": "markdown",
   "metadata": {},
   "source": [
    "Ha egy mátrix elemeinek, sorainak, oszlopainak átlagára vagyunk kíváncsiak, akkor a [numpy.std()](https://docs.scipy.org/doc/numpy/reference/generated/numpy.mean.html#numpy.mean \"dokumentáció\") használatos. Itt be tudjuk állítani hogy melyik tengely szerint szeretnénk összegezni. Fontos még itt a ddof paraméter, melyet meg tudjuk határozni hogy milyen szórástípus szeretnénk (tapasztalati = 0 / korrigált tapasztalati = 1)\n",
    "\n",
    "Feladat:\n",
    "\n",
    "- számoljunk szórást a D sorait majd külön az oszlopait majd az összes elemét!\n",
    "- próbáljuk ki mi történik ha a ddof paramétert 1 -re állítjuk!"
   ]
  },
  {
   "cell_type": "code",
   "execution_count": 68,
   "metadata": {},
   "outputs": [
    {
     "name": "stdout",
     "output_type": "stream",
     "text": [
      "[9.03696114 9.03696114 9.03696114 9.03696114 9.03696114 9.03696114\n",
      " 9.03696114]\n",
      "[2.1602469 2.1602469 2.1602469 2.1602469]\n",
      "8.077747210701755\n",
      "8.225975119502044\n"
     ]
    }
   ],
   "source": [
    "print(np.std(D,axis=0,ddof=1))\n",
    "print(np.std(D,axis=1,ddof=1))\n",
    "print(np.std(D,axis=None,ddof=0))\n",
    "print(np.std(D,axis=None,ddof=1))"
   ]
  },
  {
   "cell_type": "markdown",
   "metadata": {},
   "source": [
    "### Gyakori mátrix műveletek\n",
    "\n",
    "Hozzunk létre két 2x2-es mátrixot."
   ]
  },
  {
   "cell_type": "code",
   "execution_count": 85,
   "metadata": {},
   "outputs": [],
   "source": [
    "x = np.array([[1,2],[3,4]], dtype=np.float64)\n",
    "y = np.array([[5,6],[7,8]], dtype=np.float64)"
   ]
  },
  {
   "cell_type": "code",
   "execution_count": 109,
   "metadata": {},
   "outputs": [
    {
     "name": "stdout",
     "output_type": "stream",
     "text": [
      "[[1. 2.]\n",
      " [3. 4.]]\n",
      "\n",
      "\n",
      "[[5. 6.]\n",
      " [7. 8.]]\n"
     ]
    }
   ],
   "source": [
    "print(x)\n",
    "print(\"\\n\")\n",
    "print(y)"
   ]
  },
  {
   "cell_type": "markdown",
   "metadata": {},
   "source": [
    "Vizsgáljuk meg, hogyan lehet a mátrixokat különböző módon összeilleszteni."
   ]
  },
  {
   "cell_type": "code",
   "execution_count": 108,
   "metadata": {},
   "outputs": [
    {
     "name": "stdout",
     "output_type": "stream",
     "text": [
      "[[1. 2.]\n",
      " [3. 4.]\n",
      " [5. 6.]\n",
      " [7. 8.]]\n",
      "\n",
      "\n",
      "(4, 2)\n",
      "\n",
      "\n",
      "[[1. 2. 5. 6.]\n",
      " [3. 4. 7. 8.]]\n",
      "\n",
      "\n",
      "(2, 4)\n",
      "\n",
      "\n",
      "[[[1. 2.]\n",
      "  [3. 4.]]\n",
      "\n",
      " [[5. 6.]\n",
      "  [7. 8.]]]\n",
      "\n",
      "\n",
      "(2, 2, 2)\n"
     ]
    }
   ],
   "source": [
    "# Mátrixok összefűzése\n",
    "v_stack = np.vstack((x,y))\n",
    "c_stack = np.column_stack((x,y))\n",
    "stack = np.stack((x,y))\n",
    "\n",
    "print(v_stack)\n",
    "print(\"\\n\")\n",
    "print(v_stack.shape)\n",
    "print(\"\\n\")\n",
    "print(c_stack)\n",
    "print(\"\\n\")\n",
    "print(c_stack.shape)\n",
    "print(\"\\n\")\n",
    "print(stack)\n",
    "print(\"\\n\")\n",
    "print(stack.shape)"
   ]
  },
  {
   "cell_type": "code",
   "execution_count": 104,
   "metadata": {},
   "outputs": [
    {
     "data": {
      "text/plain": [
       "(4, 2)"
      ]
     },
     "execution_count": 104,
     "metadata": {},
     "output_type": "execute_result"
    }
   ],
   "source": [
    "type(aa)\n",
    "aa.shape"
   ]
  },
  {
   "cell_type": "code",
   "execution_count": 70,
   "metadata": {},
   "outputs": [
    {
     "name": "stdout",
     "output_type": "stream",
     "text": [
      "[[ 6.  8.]\n",
      " [10. 12.]]\n",
      "[[ 6.  8.]\n",
      " [10. 12.]]\n"
     ]
    }
   ],
   "source": [
    "# Elemenkénti összeadás\n",
    "print(x + y)\n",
    "print(np.add(x, y))"
   ]
  },
  {
   "cell_type": "code",
   "execution_count": 71,
   "metadata": {},
   "outputs": [
    {
     "name": "stdout",
     "output_type": "stream",
     "text": [
      "[[-4. -4.]\n",
      " [-4. -4.]]\n",
      "[[-4. -4.]\n",
      " [-4. -4.]]\n"
     ]
    }
   ],
   "source": [
    "# Elemenkénti kivonás\n",
    "print(x - y)\n",
    "print(np.subtract(x, y))"
   ]
  },
  {
   "cell_type": "code",
   "execution_count": 72,
   "metadata": {},
   "outputs": [
    {
     "name": "stdout",
     "output_type": "stream",
     "text": [
      "[[ 5. 12.]\n",
      " [21. 32.]]\n",
      "[[ 5. 12.]\n",
      " [21. 32.]]\n"
     ]
    }
   ],
   "source": [
    "# Elemenkénti szorzás\n",
    "print(x * y)\n",
    "print(np.multiply(x, y))"
   ]
  },
  {
   "cell_type": "code",
   "execution_count": 73,
   "metadata": {},
   "outputs": [
    {
     "name": "stdout",
     "output_type": "stream",
     "text": [
      "[[0.2        0.33333333]\n",
      " [0.42857143 0.5       ]]\n",
      "[[0.2        0.33333333]\n",
      " [0.42857143 0.5       ]]\n"
     ]
    }
   ],
   "source": [
    "# Elemenkénti osztás\n",
    "print(x / y)\n",
    "print(np.divide(x, y))"
   ]
  },
  {
   "cell_type": "code",
   "execution_count": 74,
   "metadata": {},
   "outputs": [
    {
     "name": "stdout",
     "output_type": "stream",
     "text": [
      "[[ 1.  4.]\n",
      " [ 9. 16.]]\n",
      "[[ 1.  4.]\n",
      " [ 9. 16.]]\n"
     ]
    }
   ],
   "source": [
    "#Elemenkénti négyzetre emelés\n",
    "print(np.square(x))\n",
    "print(x ** 2)"
   ]
  },
  {
   "cell_type": "code",
   "execution_count": 75,
   "metadata": {},
   "outputs": [
    {
     "name": "stdout",
     "output_type": "stream",
     "text": [
      "[[1.         1.41421356]\n",
      " [1.73205081 2.        ]]\n"
     ]
    }
   ],
   "source": [
    "# Elemenkénti gyökvonás emelés\n",
    "print(np.sqrt(x))"
   ]
  },
  {
   "cell_type": "markdown",
   "metadata": {},
   "source": [
    "Megjegyezzük, hogy a * operátor elemenkénti szorzást jelent nem mátrix szorzást. Helyette a dot függvényt vagy a @ operátort használjuk. A dot függvény elérhető mint függvény a NumPy modulon belül vagy mint a tömb (array) osztály belső methódusa."
   ]
  },
  {
   "cell_type": "code",
   "execution_count": 76,
   "metadata": {},
   "outputs": [],
   "source": [
    "x = np.array([[1,2],[3,4]])\n",
    "y = np.array([[5,6],[7,8]])\n",
    "\n",
    "v = np.array([9,10])\n",
    "w = np.array([11, 12])"
   ]
  },
  {
   "cell_type": "code",
   "execution_count": 77,
   "metadata": {},
   "outputs": [
    {
     "name": "stdout",
     "output_type": "stream",
     "text": [
      "219\n",
      "219\n"
     ]
    }
   ],
   "source": [
    "# Vector vector szorzás\n",
    "print(v.dot(w))\n",
    "print(np.dot(v, w))"
   ]
  },
  {
   "cell_type": "code",
   "execution_count": 78,
   "metadata": {},
   "outputs": [
    {
     "name": "stdout",
     "output_type": "stream",
     "text": [
      "[29 67]\n",
      "[29 67]\n"
     ]
    }
   ],
   "source": [
    "# Mátrix vector szorzás\n",
    "print(x.dot(v))\n",
    "print(np.dot(x, v))"
   ]
  },
  {
   "cell_type": "code",
   "execution_count": 79,
   "metadata": {},
   "outputs": [
    {
     "name": "stdout",
     "output_type": "stream",
     "text": [
      "[[19 22]\n",
      " [43 50]]\n",
      "[[19 22]\n",
      " [43 50]]\n",
      "[[19 22]\n",
      " [43 50]]\n"
     ]
    }
   ],
   "source": [
    "#Mátrix mátrix szorzás\n",
    "# [[19 22]\n",
    "#  [43 50]]\n",
    "print(x.dot(y))\n",
    "print(np.dot(x, y))\n",
    "print(x@y)"
   ]
  },
  {
   "cell_type": "markdown",
   "metadata": {},
   "source": [
    "Szükségünk lehet a [numpy.log()](https://docs.scipy.org/doc/numpy/reference/generated/numpy.log.html \"adatlap\") függvényére is. Ez a NumPy tömbök elemein képes a természetes alapú logaritmus kiszámítására.\n",
    "\n",
    "Feladat:\n",
    "- Számoljuk ki az [1 2 3 4 5] vektor természetes alapú logaritmusát!"
   ]
  },
  {
   "cell_type": "code",
   "execution_count": 80,
   "metadata": {},
   "outputs": [
    {
     "name": "stdout",
     "output_type": "stream",
     "text": [
      "[0.         0.69314718 1.09861229 1.38629436 1.60943791]\n"
     ]
    }
   ],
   "source": [
    "a = np.array([1, 2, 3, 4, 5])\n",
    "LOG = np.log(a)\n",
    "print(LOG)"
   ]
  },
  {
   "cell_type": "markdown",
   "metadata": {},
   "source": [
    "### MatPlotLib elemek:"
   ]
  },
  {
   "cell_type": "markdown",
   "metadata": {},
   "source": [
    "MatPlotLib használata szintén nagyon hasonlatos a MATLAB -éhoz. Most a legegyszerűbb plot függvény használatát fogjuk átnézni. Először importáljuk be a csomagot, majd definiáljunk egy adathalmazt, amit szeretnénk kiíratni!"
   ]
  },
  {
   "cell_type": "code",
   "execution_count": 81,
   "metadata": {},
   "outputs": [],
   "source": [
    "import matplotlib.pyplot as plt\n",
    "x = np.array([0, 1, 2, 3, 4, 5, 6, 7, 8, 9])\n",
    "y = np.array([5, 6, 6, 7, 8, 3, 4, 4, 7, 10])"
   ]
  },
  {
   "cell_type": "markdown",
   "metadata": {},
   "source": [
    "Rajzoltassuk ki az y(x) függvény értékeit. Ehhez a [matplotlib.pyplot.plot()](https://matplotlib.org/3.1.1/api/_as_gen/matplotlib.pyplot.plot.html \"dokumentáció\") -t használjuk!\n",
    "Állítsuk be az tengelyeknek megfelelő tengelyfeliratot és adjunk címet is az ábrának. Ezeket rendre a [matplotlib.pyplot.xlabel()](https://matplotlib.org/3.1.1/api/_as_gen/matplotlib.pyplot.xlabel.html \"dokumentáció\") , [matplotlib.pyplot.ylabel()](https://matplotlib.org/3.1.1/api/_as_gen/matplotlib.pyplot.ylabel.html \"dokumentáció\") , [matplotlib.pyplot.title()](https://matplotlib.org/3.1.1/api/_as_gen/matplotlib.pyplot.title.html \"dokumentáció\") . Az eredményünket pedig a [matplotlib.pyplot.show()](https://matplotlib.org/3.1.1/api/_as_gen/matplotlib.pyplot.show.html \"dokumentáció\") segítségével jeleníthetjük meg."
   ]
  },
  {
   "cell_type": "code",
   "execution_count": 82,
   "metadata": {},
   "outputs": [
    {
     "data": {
      "image/png": "[encoded data removed]",
      "text/plain": [
       "<Figure size 432x288 with 1 Axes>"
      ]
     },
     "metadata": {
      "needs_background": "light"
     },
     "output_type": "display_data"
    }
   ],
   "source": [
    "plt.plot(x,y)\n",
    "plt.xlabel('x értékek')\n",
    "plt.ylabel('y értékek')\n",
    "plt.title('Ez egy ábra')\n",
    "plt.show()"
   ]
  },
  {
   "cell_type": "markdown",
   "metadata": {},
   "source": [
    "Tételezzük fel hogy szeretnénk kétféle értéket megjeleníteni az ábrán. Ezek elkülönítését szintén címkézéssel tehetjük meg, ami a plot parancson belül adható meg a label = '...' módon. Ha szeretnénk ezt megjeleníteni is az ábrán akkor a [matplotlib.pyplot.legend()](https://matplotlib.org/3.1.1/api/_as_gen/matplotlib.pyplot.legend.html \"dokumentáció\") segítségével tehetjük meg.\\\n",
    "Ennek bemutatására most definiáljunk egy yy változót és rajzoljuk szintén az ábrára!"
   ]
  },
  {
   "cell_type": "code",
   "execution_count": 83,
   "metadata": {},
   "outputs": [
    {
     "data": {
      "image/png": "[encoded data removed]",
      "text/plain": [
       "<Figure size 432x288 with 1 Axes>"
      ]
     },
     "metadata": {
      "needs_background": "light"
     },
     "output_type": "display_data"
    }
   ],
   "source": [
    "yy = np.array([ 0, 0, 0, 0, 1, 1, 2, 3, 4, 5])\n",
    "plt.plot(x,y, label = 'y értékek')\n",
    "plt.plot(x,yy, label = 'yy értékek')\n",
    "plt.xlabel('x értékek')\n",
    "plt.ylabel('y értékek')\n",
    "plt.title('Ez egy ábra')\n",
    "plt.legend()\n",
    "plt.show()"
   ]
  },
  {
   "cell_type": "code",
   "execution_count": null,
   "metadata": {},
   "outputs": [],
   "source": []
  }
 ],
 "metadata": {
  "kernelspec": {
   "display_name": "Python 3",
   "language": "python",
   "name": "python3"
  },
  "language_info": {
   "codemirror_mode": {
    "name": "ipython",
    "version": 3
   },
   "file_extension": ".py",
   "mimetype": "text/x-python",
   "name": "python",
   "nbconvert_exporter": "python",
   "pygments_lexer": "ipython3",
   "version": "3.7.6"
  }
 },
 "nbformat": 4,
 "nbformat_minor": 2
}
