{
 "cells": [
  {
   "cell_type": "markdown",
   "metadata": {},
   "source": [
    "# L00 - Python alapok\n",
    "## Hasznos Python alap ismeretek\n",
    "\n",
    "\n",
    "Ebben a gyakorlatban bemutatunk néhány Pythonban a tárgy során használt elemet, mit hasznosnak tartunk a teljesség igénye nélkül."
   ]
  },
  {
   "cell_type": "markdown",
   "metadata": {},
   "source": [
    "A Phyton erősen típus orientált, dinamikusan tipusdefiniált (nem kell a változókat declarálni, hozzá rendeli magától), case sensitive (var és VAR két különböző változó) és objektum orientált programnyelv (minden egy objectum)."
   ]
  },
  {
   "cell_type": "markdown",
   "metadata": {},
   "source": [
    "Egy változót létrehozva a megfelelő típusú objektum jön létre."
   ]
  },
  {
   "cell_type": "markdown",
   "metadata": {},
   "source": [
    "### 1. Help "
   ]
  },
  {
   "cell_type": "markdown",
   "metadata": {},
   "source": [
    "Segítséghez használhatjuka help() függvényt, vagy a dir() függvényt, ami az objektumra alkalmazható függvnyeket listáza ki."
   ]
  },
  {
   "cell_type": "code",
   "execution_count": null,
   "metadata": {},
   "outputs": [],
   "source": [
    "a = -5"
   ]
  },
  {
   "cell_type": "code",
   "execution_count": null,
   "metadata": {},
   "outputs": [],
   "source": [
    "help(a)"
   ]
  },
  {
   "cell_type": "code",
   "execution_count": null,
   "metadata": {},
   "outputs": [],
   "source": [
    "dir(a)"
   ]
  },
  {
   "cell_type": "markdown",
   "metadata": {},
   "source": [
    "A __doc__ függvény meghívásával egy kiválasztott method dukumentációs stringjét hívhatjuk elő."
   ]
  },
  {
   "cell_type": "code",
   "execution_count": null,
   "metadata": {},
   "outputs": [],
   "source": [
    "abs.__doc__"
   ]
  },
  {
   "cell_type": "code",
   "execution_count": null,
   "metadata": {},
   "outputs": [],
   "source": [
    "abs(a)"
   ]
  },
  {
   "cell_type": "markdown",
   "metadata": {},
   "source": [
    "### 2. Syntax"
   ]
  },
  {
   "cell_type": "markdown",
   "metadata": {},
   "source": [
    "A Phython nem használ blokk elválasztó karaktert, mindent behúzásokkal tagol. Minden block első sora, ami behúzást vár, :-ra végződik.\n",
    "Egy soros komment a # karakter használatával lehetséges, több soros komment a \"\"\" \"\"\" köz írva. Értéket a = operátorral adunk meg, amellyel tulajdon képpen nevet rendelünk az objektumhoz. Egyenlőség teszt a == operátorral lehetséges. Incrementálni és decrementálni a += és -= operátorokkal lehetséges. Ez többéle adattípuson is működik. "
   ]
  },
  {
   "cell_type": "code",
   "execution_count": null,
   "metadata": {},
   "outputs": [],
   "source": [
    "myvar = 3\n",
    "myvar += 2\n",
    "myvar"
   ]
  },
  {
   "cell_type": "code",
   "execution_count": null,
   "metadata": {},
   "outputs": [],
   "source": [
    "myvar -= 1\n",
    "myvar"
   ]
  },
  {
   "cell_type": "code",
   "execution_count": null,
   "metadata": {},
   "outputs": [],
   "source": [
    "\"\"\"Ez egy többsoros komment\n",
    "A következő sorok két stringet adnak össze.\"\"\"\n",
    "mystring = \"Hello\"\n",
    "mystring += \" world.\"\n",
    "print(mystring)"
   ]
  },
  {
   "cell_type": "code",
   "execution_count": null,
   "metadata": {},
   "outputs": [],
   "source": [
    "# A következő kód egy sorban(!) cseréli ki két változó értékét.\n",
    "# Ez nem sérti meg az erős típusdefiniáltságot, mivel nem értéket \n",
    "# rendelünk hozzá, hanem új objektumokat rendelünk a régi nevekhez. \n",
    "myvar, mystring = mystring, myvar"
   ]
  },
  {
   "cell_type": "code",
   "execution_count": null,
   "metadata": {},
   "outputs": [],
   "source": [
    "myvar"
   ]
  },
  {
   "cell_type": "code",
   "execution_count": null,
   "metadata": {},
   "outputs": [],
   "source": [
    "mystring"
   ]
  },
  {
   "cell_type": "markdown",
   "metadata": {},
   "source": [
    "### 3. Adattípusok"
   ]
  },
  {
   "cell_type": "markdown",
   "metadata": {},
   "source": [
    "A Pythonban elérhető adattípusok a listák (list), tupleök (tuple) és szótárak (dictionariy). \n",
    "- A listák gyakorlatilag egydimenziós vektorok (de listák lehetnek lista elemek is).<br>\n",
    "- A szótárak (dictionary) kulcsszó érték párokat tartalmaznak. <br>\n",
    "- A tuples olyan Python objektumok listája, mely nem változtatható a deklarációját követően. A hagyományos listától annyiban különbözik, hogy ennek elemeit nem módosíthatjuk, de a többi listaműveletet végre lehet velük hajtani.\n",
    "\n",
    "Phyton tömbök tartalmazhatnak bármilyen adattípust, így egyazon tömb tartalmazhat akár integert, stringet, listát, dictionary-t stb. <br>\n",
    "Az indexelés minden tömb típusnál 0-tól indul. Negítív számokkal hátulról címezhetünk meg elemet, így a -1 az utolsó elemet jelöli."
   ]
  },
  {
   "cell_type": "code",
   "execution_count": null,
   "metadata": {},
   "outputs": [],
   "source": [
    "sample = [1, [\"another\", \"list\"], (\"a\", \"tuple\")]\n",
    "# ennek a listának első eleme egy integer, második eleme egy két elemű lista, harmadik eleme pedig egy 2 elemű tuple."
   ]
  },
  {
   "cell_type": "code",
   "execution_count": null,
   "metadata": {},
   "outputs": [],
   "source": [
    "mylist = [\"List item 1\", 2, 3.14]\n",
    "# a mylist egy olyan lista mely tartalmaz strig, integer és float értéket is"
   ]
  },
  {
   "cell_type": "code",
   "execution_count": null,
   "metadata": {},
   "outputs": [],
   "source": [
    "# lista első (azaz 0.) elemének kiíratása\n",
    "mylist[0]"
   ]
  },
  {
   "cell_type": "code",
   "execution_count": null,
   "metadata": {},
   "outputs": [],
   "source": [
    "# Listaelem megváltoztatása\n",
    "mylist[0] = \"List item 1 again\""
   ]
  },
  {
   "cell_type": "code",
   "execution_count": null,
   "metadata": {},
   "outputs": [],
   "source": [
    "mylist[0]"
   ]
  },
  {
   "cell_type": "code",
   "execution_count": null,
   "metadata": {},
   "outputs": [],
   "source": [
    "# Lista utolsó eleme\n",
    "mylist[-1]"
   ]
  },
  {
   "cell_type": "code",
   "execution_count": null,
   "metadata": {},
   "outputs": [],
   "source": [
    "mydict = {\"Key 1\": \"Value 1\", 2: 3, \"pi\": 3.14}"
   ]
  },
  {
   "cell_type": "code",
   "execution_count": null,
   "metadata": {},
   "outputs": [],
   "source": [
    "mydict[\"pi\"]"
   ]
  },
  {
   "cell_type": "code",
   "execution_count": null,
   "metadata": {},
   "outputs": [],
   "source": [
    "# Szótár \"pi\" nevű elemének értékének megváltoztatása\n",
    "mydict[\"pi\"] = 3.15"
   ]
  },
  {
   "cell_type": "code",
   "execution_count": null,
   "metadata": {},
   "outputs": [],
   "source": [
    "# Tuple létrehozása\n",
    "mytuple = (1, 2, 3)"
   ]
  },
  {
   "cell_type": "code",
   "execution_count": null,
   "metadata": {},
   "outputs": [],
   "source": [
    "# Tuple hosszának kiíratása\n",
    "len(mytuple) "
   ]
  },
  {
   "cell_type": "code",
   "execution_count": null,
   "metadata": {},
   "outputs": [],
   "source": [
    "# Új hosszfüggvny megadása\n",
    "myfunction = len"
   ]
  },
  {
   "cell_type": "code",
   "execution_count": null,
   "metadata": {},
   "outputs": [],
   "source": [
    "print(myfunction(mylist))"
   ]
  },
  {
   "cell_type": "code",
   "execution_count": null,
   "metadata": {},
   "outputs": [],
   "source": [
    "print(mylist)"
   ]
  },
  {
   "cell_type": "markdown",
   "metadata": {},
   "source": [
    "Tömb bizonyos elemeihez való hozzáféréshez egy intervallumot is megadhatuk a : karakterrel elválasztva. Üresen hagyva a kezdő sorszámot automatikusan a tömb legelejéről indul a számozás. Az intervallum végét üresen hagyva pedig automatikusan az utolsó elemig nézzük a tömböt."
   ]
  },
  {
   "cell_type": "code",
   "execution_count": null,
   "metadata": {},
   "outputs": [],
   "source": [
    "print(mylist[:])"
   ]
  },
  {
   "cell_type": "code",
   "execution_count": null,
   "metadata": {},
   "outputs": [],
   "source": [
    "print(mylist[:])"
   ]
  },
  {
   "cell_type": "code",
   "execution_count": null,
   "metadata": {},
   "outputs": [],
   "source": [
    "print(mylist[0:2])"
   ]
  },
  {
   "cell_type": "code",
   "execution_count": null,
   "metadata": {},
   "outputs": [],
   "source": [
    "print(mylist[-3:-1])"
   ]
  },
  {
   "cell_type": "code",
   "execution_count": null,
   "metadata": {},
   "outputs": [],
   "source": [
    "print(mylist[1:])"
   ]
  },
  {
   "cell_type": "markdown",
   "metadata": {},
   "source": [
    "Az intervallumot kiegészíthetjük egy harmadik elmmel is, a lépésközzel. Ezzel a paraméterrel kiírathatjuk mondjuk minden másodiket elemet."
   ]
  },
  {
   "cell_type": "code",
   "execution_count": null,
   "metadata": {},
   "outputs": [],
   "source": [
    "print(mylist[::2])"
   ]
  },
  {
   "cell_type": "markdown",
   "metadata": {},
   "source": [
    "### 4. Stringek"
   ]
  },
  {
   "cell_type": "markdown",
   "metadata": {},
   "source": [
    "Stringek kiíratásakor használhatunk ' vagy \" idézőjelet. A két különbőző idézőjel egymásba is ágyazható kiíratáskor. "
   ]
  },
  {
   "cell_type": "code",
   "execution_count": null,
   "metadata": {},
   "outputs": [],
   "source": [
    "print(\"He said 'Hello'\")"
   ]
  },
  {
   "cell_type": "code",
   "execution_count": null,
   "metadata": {},
   "outputs": [],
   "source": [
    "print('He also said \"How are you?\"')"
   ]
  },
  {
   "cell_type": "markdown",
   "metadata": {},
   "source": [
    "Stringek kitöltéséhez használjuk a % operátort és egy tuple-t. Minden %s egy tuple elemmel lesz helyettesítve balról jobbra haladva. Dictionary megfogalmazás szintén használható. "
   ]
  },
  {
   "cell_type": "code",
   "execution_count": null,
   "metadata": {},
   "outputs": [],
   "source": [
    "# Vigyázat: Figyeljünk az s végződésre \"%(key)s\".\n",
    "print(\"This %(verb)s a %(noun)s.\" % {\"noun\": \"test\", \"verb\": \"is\"})"
   ]
  },
  {
   "cell_type": "code",
   "execution_count": null,
   "metadata": {},
   "outputs": [],
   "source": [
    "# Adaptálódó kiiratása\n",
    "name = \"Groot\"\n",
    "print(\"Hello, {}!\".format(name))"
   ]
  },
  {
   "cell_type": "code",
   "execution_count": null,
   "metadata": {},
   "outputs": [],
   "source": [
    "print(f\"I am {name}!\")"
   ]
  },
  {
   "cell_type": "markdown",
   "metadata": {},
   "source": [
    "### 5. Ciklusok, elágazások"
   ]
  },
  {
   "cell_type": "markdown",
   "metadata": {},
   "source": [
    "Használható kifejezések az if, for és while. Pythonban nincs switch. Iterációk során használhatjuk még a range(<szám>) kifejezést."
   ]
  },
  {
   "cell_type": "code",
   "execution_count": null,
   "metadata": {},
   "outputs": [],
   "source": [
    "print(range(10)) # magában kiíratva nem tűnik hasznosnak, de..."
   ]
  },
  {
   "cell_type": "code",
   "execution_count": null,
   "metadata": {},
   "outputs": [],
   "source": [
    "rangelist = list(range(10))\n",
    "print(rangelist)"
   ]
  },
  {
   "cell_type": "code",
   "execution_count": null,
   "metadata": {},
   "outputs": [],
   "source": [
    "for number in range(10):\n",
    "    # Ellenőrizzük, hogy az aktuális szám\n",
    "    # része-e a tuplenek.\n",
    "    if number in (3, 4, 7, 9):\n",
    "        # A 'Break' parancs kilép a for ciklusból\n",
    "        # mielőtt végrehajtaná az else ágat\n",
    "        print(number)\n",
    "        break\n",
    "    else:\n",
    "        # A \"Continue\" a következő iterációt kezdeni. \n",
    "        # a loopban. Elég haszontalan itt, mivel\n",
    "        # ez az utolsó utasítás.\n",
    "        continue\n",
    "else:\n",
    "    # Az else ág csak opcionális, mivel csak akkor\n",
    "    # fut le, ha a loop nem break-el.\n",
    "    pass # Nem csinál semmit."
   ]
  },
  {
   "cell_type": "code",
   "execution_count": null,
   "metadata": {},
   "outputs": [],
   "source": [
    "if rangelist[1] == 2:\n",
    "    print(\"The second item (lists are 0-based) is 2\")\n",
    "elif rangelist[1] == 3:\n",
    "    print(\"The second item (lists are 0-based) is 3\")\n",
    "else:\n",
    "    print(\"Dunno\")"
   ]
  },
  {
   "cell_type": "markdown",
   "metadata": {},
   "source": [
    "Ha sikerülne egy végtelen loopba kergetni a programot a Jupyter Notebook menüsávján az \"interrupt kernel\" gombra kattintva tudjuk csak megállítani a program futását.\n",
    "A kipróbálásához először aktiváljuk a következő cella kommentjét."
   ]
  },
  {
   "cell_type": "code",
   "execution_count": null,
   "metadata": {},
   "outputs": [],
   "source": [
    "#while rangelist[1] == 1:\n",
    "#    print(\"We are trapped in an infinite loop!\")"
   ]
  },
  {
   "cell_type": "markdown",
   "metadata": {},
   "source": [
    "### 6. Függvények"
   ]
  },
  {
   "cell_type": "markdown",
   "metadata": {},
   "source": [
    "Függvényeket a def kulcsszóval deklarálunk. A deklarációban adhatjuk meg az argumentumokat is, ahol alap értékeket is beállíthatunk az egyes szükséges változóknak. A föggvények visszatérési értéke lehet egy tuple, így könnyedén vissza lehet adni több változót is. <br>\n",
    "A lambda függvény egy ad hoc függvény, ami egy utasítást tömörít. A paramétere referenciaként adható meg, nem modosítható tipusban (tuple, int, string). Nem módosítható a hívóban. Ennek magyarázata, hogy csak a memória helyének címét adjuk át és ha egy sorban egy új objektumot is hozzárendelnénk a régi értéket eldobnánk. "
   ]
  },
  {
   "cell_type": "code",
   "execution_count": null,
   "metadata": {
    "scrolled": true
   },
   "outputs": [],
   "source": [
    "# Ugyan az mint a def funcvar(x): return x + 1\n",
    "funcvar = lambda x: x + 1\n",
    "print(funcvar(1))"
   ]
  },
  {
   "cell_type": "code",
   "execution_count": null,
   "metadata": {},
   "outputs": [],
   "source": [
    "# Az an_int és a_string megadása opcionális, mivel rendelkeznek default értékkel,\n",
    "# ha valamelyiket nem adnánk meg a fügvénynek meghíváskor.\n",
    "def passing_example(a_list, an_int=2, a_string=\"A default string\"):\n",
    "    a_list.append(\"A new item\")\n",
    "    an_int = 4\n",
    "    return a_list, an_int, a_string"
   ]
  },
  {
   "cell_type": "code",
   "execution_count": null,
   "metadata": {},
   "outputs": [],
   "source": [
    "my_list = [1, 2, 3]\n",
    "my_int = 10\n",
    "print(passing_example(my_list, my_int))"
   ]
  },
  {
   "cell_type": "code",
   "execution_count": null,
   "metadata": {},
   "outputs": [],
   "source": [
    "my_list"
   ]
  },
  {
   "cell_type": "code",
   "execution_count": null,
   "metadata": {},
   "outputs": [],
   "source": [
    "my_int"
   ]
  },
  {
   "cell_type": "markdown",
   "metadata": {},
   "source": [
    "### 7. Kivétel kezelés"
   ]
  },
  {
   "cell_type": "markdown",
   "metadata": {},
   "source": [
    "A kivételek kezelése a Pythonban a try-except blokkal lehetséges."
   ]
  },
  {
   "cell_type": "code",
   "execution_count": null,
   "metadata": {},
   "outputs": [],
   "source": [
    "def some_function():\n",
    "    try:\n",
    "        # Nullával osztás hibát dob\n",
    "        10 / 0\n",
    "    except ZeroDivisionError:\n",
    "        print(\"Oops, invalid.\")\n",
    "    else:\n",
    "        # Nincs hiba, eddig jók vagyunk.\n",
    "        pass\n",
    "    finally:\n",
    "        # Ez a code block után fut le, miután az az összes\n",
    "        # hibát lekezelte. Még akkor is, ha a hibakezelés\n",
    "        # közbe új hiba lép fel.\n",
    "        print(\"We're done with that.\")"
   ]
  },
  {
   "cell_type": "code",
   "execution_count": null,
   "metadata": {},
   "outputs": [],
   "source": [
    "some_function()"
   ]
  },
  {
   "cell_type": "markdown",
   "metadata": {},
   "source": [
    "### 9. Importing"
   ]
  },
  {
   "cell_type": "markdown",
   "metadata": {},
   "source": [
    "Külső könyvtárak használata a könyvtár beinportálása után lehetséges. Importálhatunk egész könyvtárat <br>\n",
    "import [könyvtár]  <br>\n",
    ", vagy könyvtárak egyes részeit, függvényeit. <br>\n",
    "from [könyvtár] import [függvény] <br>\n",
    "Az as paranccsal egy rövidebb kifejezést is társíthatunk a gyakran használt csomagok mellé. <br>\n",
    "import [könyvtár] as [kulcsszó]"
   ]
  },
  {
   "cell_type": "code",
   "execution_count": null,
   "metadata": {},
   "outputs": [],
   "source": [
    "import random\n",
    "from time import clock\n",
    "\n",
    "randomint = random.randint(1, 100)\n",
    "print(randomint)"
   ]
  },
  {
   "cell_type": "markdown",
   "metadata": {},
   "source": [
    "### 10. File I/O"
   ]
  },
  {
   "cell_type": "markdown",
   "metadata": {},
   "source": [
    "Python has a wide array of libraries built in. As an example, here is how serializing (converting data structures to strings using the pickle library) with file I/O is used:"
   ]
  },
  {
   "cell_type": "code",
   "execution_count": null,
   "metadata": {},
   "outputs": [],
   "source": [
    "# Fálj megnyitása írásra (w). Az open utáni r betű a fájlnév speciális \n",
    "# karakterek okozta kilépést hivatott megelőzni.\n",
    "myfile = open(r\".\\Test.txt\", \"w\")\n",
    "myfile.write(\"This is a sample string\")\n",
    "myfile.close()"
   ]
  },
  {
   "cell_type": "code",
   "execution_count": null,
   "metadata": {},
   "outputs": [],
   "source": [
    "# Kiolvassuk mi van a fájlba.\n",
    "myfile = open(r\".\\Test.txt\")\n",
    "print(myfile.read())\n",
    "myfile.close()"
   ]
  },
  {
   "cell_type": "markdown",
   "metadata": {},
   "source": [
    "### 11. Globális változók kezelése "
   ]
  },
  {
   "cell_type": "markdown",
   "metadata": {},
   "source": [
    "A globális változók deklarálása a függvényen kívül történik és további definiálás nélkül használható a függvényen belül. Ha módosítani szeretnénk a függvényen belül (nem csak olvasni), akkor a fügvényen belül kell deklarálni a global kulcsszó használatával különben a Python egy új lokális változót fog létrehozni azzal a névvel."
   ]
  },
  {
   "cell_type": "code",
   "execution_count": null,
   "metadata": {},
   "outputs": [],
   "source": [
    "number = 5\n",
    "\n",
    "def myfunc():\n",
    "    # This will print 5.\n",
    "    print(number)\n",
    "\n",
    "def anotherfunc():\n",
    "    # This raises an exception because the variable has not\n",
    "    # been bound before printing. Python knows that it an\n",
    "    # object will be bound to it later and creates a new, local\n",
    "    # object instead of accessing the global one.\n",
    "    print(number)\n",
    "    number = 3\n",
    "\n",
    "def yetanotherfunc():\n",
    "    global number\n",
    "    # This will correctly change the global.\n",
    "    number = 3"
   ]
  },
  {
   "cell_type": "code",
   "execution_count": null,
   "metadata": {},
   "outputs": [],
   "source": [
    "myfunc()"
   ]
  },
  {
   "cell_type": "code",
   "execution_count": null,
   "metadata": {},
   "outputs": [],
   "source": [
    "anotherfunc()\n",
    "# A hibaüzenet itt elvárt."
   ]
  },
  {
   "cell_type": "code",
   "execution_count": null,
   "metadata": {},
   "outputs": [],
   "source": [
    "yetanotherfunc()\n",
    "print(number)"
   ]
  },
  {
   "cell_type": "markdown",
   "metadata": {},
   "source": [
    "### 12 NumPy csomag:"
   ]
  },
  {
   "cell_type": "markdown",
   "metadata": {},
   "source": [
    "A gyakorlatok során leggyakrabban használt csomag a NymPy lesz. Importáljuk be a NumPy -t! Az importot követően az <font color='green'>$as$</font> parancsal megadható egy rövidebb forma az egyszerűbb használatért."
   ]
  },
  {
   "cell_type": "code",
   "execution_count": null,
   "metadata": {},
   "outputs": [],
   "source": [
    "import numpy as np"
   ]
  },
  {
   "cell_type": "markdown",
   "metadata": {},
   "source": [
    "Hozzuk létre az alábbi tömböket: "
   ]
  },
  {
   "cell_type": "markdown",
   "metadata": {},
   "source": [
    "A = \n",
    "\\begin{array}{ccc}\n",
    "0 & 0 & 0\n",
    "\\end{array}\n",
    "\n",
    "B = \n",
    "\\begin{array}{c}\n",
    "1\\\\\n",
    "1\\\\\n",
    "1\n",
    "\\end{array}\n",
    "\n",
    "C = \n",
    "\\begin{array}{cc}\n",
    "1 & 2\\\\\n",
    "3 & 4\\\\\n",
    "5 & 6\n",
    "\\end{array}\n",
    "\n",
    "A szintaktika: a tömb sorainak elemeit [] között vesszővel elválasztva adhatjuk meg az egyes tagokat. Több dimenziós tömbök esetén a sorokat szintén , karakterrel választhatjuk el és a sorokat egy újabb [] párosba helyezzük."
   ]
  },
  {
   "cell_type": "code",
   "execution_count": null,
   "metadata": {},
   "outputs": [],
   "source": [
    "A = np.array([0,0,0,])\n",
    "B = np.array([[1],[1],[1]])\n",
    "C = np.array([[1,2],[3,4],[5,6]])\n",
    "D = np.array([[0,1,2,3,4,5,6],[7,8,9,10,11,12,13],[14,15,16,17,18,19,20],[21,22,23,24,25,26,27]])\n",
    "print('A:\\n',A)\n",
    "print('B:\\n',B)\n",
    "print('C:\\n',C)\n",
    "print('D:\\n',D)"
   ]
  },
  {
   "cell_type": "markdown",
   "metadata": {},
   "source": [
    "Visszaellenőrzés során a tömb dimenzióinak lekérdezése numpy.array().shape paranccsal történik.\\\n",
    "Feladat:\n",
    "- Írassuk ki az előző cellában létrehozott mátrixok alakját!\n",
    "- Írassuk ki az C mátrix első dimenziájának nagyságát!"
   ]
  },
  {
   "cell_type": "code",
   "execution_count": null,
   "metadata": {},
   "outputs": [],
   "source": [
    "print(A.shape)\n",
    "print(B.shape)\n",
    "print(C.shape)\n",
    "print(D.shape)\n",
    "print(C.shape[0])"
   ]
  },
  {
   "cell_type": "markdown",
   "metadata": {},
   "source": [
    "Érdemes megfigyelni, hogy a sorvektorok esetén 1 dimenziót jelez ki a függvény, míg oszlopvektorok esetén 2 dimenziót. "
   ]
  },
  {
   "cell_type": "markdown",
   "metadata": {},
   "source": [
    "Sokszor szükségünk lehet egy adott lista, tömb vagy mátrix elemeinek számára. Ilyenkor a [numpy.ndarray.size](https://docs.scipy.org/doc/numpy/reference/generated/numpy.ndarray.size.html \"dokumentáció\") -t használjuk. FONTOS, hogy ez nem azonos a shape-el, hanem a shape elemeinek szorzatával, azaz az összes elemmel.\n",
    "\n",
    "Feladat:\n",
    "- Határozzuk meg a A és D mátrixok nagyságát!"
   ]
  },
  {
   "cell_type": "code",
   "execution_count": null,
   "metadata": {},
   "outputs": [],
   "source": [
    "print(A.size)\n",
    "print(D.size)"
   ]
  },
  {
   "cell_type": "markdown",
   "metadata": {},
   "source": [
    "Tömb elemére történő hivatkozás az elem sor és oszlop indexével történhet. Az indexelés 0-tól kezdődik.\\\n",
    "Szintaktika:\n",
    "\n",
    "<tömbnév>[sor, oszlop]\n",
    "\n",
    ",ahol az elemek helyére :-t írva az egész sor vagy oszlop behivatkozható, illetve x:y formában határ értékekkel használva megadott részleteket emelhetünk ki a matrixból."
   ]
  },
  {
   "cell_type": "code",
   "execution_count": null,
   "metadata": {},
   "outputs": [],
   "source": [
    "print(\"Egy elem\")\n",
    "print(C[0,0])\n",
    "print(\"Egy sor\")\n",
    "print(C[0,:])\n",
    "print(\"Egy oszlop\")\n",
    "print(C[:,0])\n",
    "print(\"Submátrix\")\n",
    "print(D[1:3,2:6])"
   ]
  },
  {
   "cell_type": "markdown",
   "metadata": {},
   "source": [
    "Nullákból álló tömb létrehozása: [numpy.zeros()](https://docs.scipy.org/doc/numpy/reference/generated/numpy.zeros.html \"adatlap\").\\\n",
    "Feladat:\n",
    "- hozzunk létre egy (1,5) teljesen zéró mátrixot!\n",
    "- hozznk létre egy a C mátrix nagyságának megfelelő zéró mátrixot!"
   ]
  },
  {
   "cell_type": "code",
   "execution_count": null,
   "metadata": {},
   "outputs": [],
   "source": [
    "Z1 = np.zeros((1,5))\n",
    "Z2 = np.zeros(C.shape)\n",
    "print(Z1)\n",
    "print(Z2)"
   ]
  },
  {
   "cell_type": "markdown",
   "metadata": {},
   "source": [
    "Hozzunk létre csupa egyesekből álló mátrixokat [numpy.ones()](https://docs.scipy.org/doc/numpy/reference/generated/numpy.ones.html#numpy.ones \"adatlap\") segítségével.\\\n",
    "Feladat:\n",
    "- hozzunk létre egy (1,5) tiszta egyes mátrixot!\n",
    "- hozzunk létre egy a C mátrixnak megfelelő tiszta egyes mátrixot!\n",
    "- hozzunk létre egy a C mátrix sorainak megfelelő \"sorvektor\"!"
   ]
  },
  {
   "cell_type": "code",
   "execution_count": null,
   "metadata": {},
   "outputs": [],
   "source": [
    "O1 = np.ones((1,5))\n",
    "O2 = np.ones(C.shape)\n",
    "O3 = np.ones(C.shape[0])\n",
    "print(O1)\n",
    "print(O2)\n",
    "print(O3)"
   ]
  },
  {
   "cell_type": "markdown",
   "metadata": {},
   "source": [
    "Sokszor előfordulhat, hogy szükségünk van a mátrixunk egy adott más formára alakítására. Ezt a [numpy.reshape()](https://docs.scipy.org/doc/numpy/reference/generated/numpy.reshape.html \"dokumentáció\") segítségével tudjuk elérni.\n",
    "Feladat:\n",
    "- hozzunk létre egy sorvektort a D mátrixból!\n",
    "- hozzunk létre a D mátrixból egy olyan mátrixot, ami a D mátrix dimenzióit cseréli meg! (NEM transzponáltját!)\n"
   ]
  },
  {
   "cell_type": "code",
   "execution_count": null,
   "metadata": {},
   "outputs": [],
   "source": [
    "R1 = D.reshape(1,D.size)\n",
    "R2 = D.reshape((7,4))\n",
    "\n",
    "print(R1)\n",
    "print(R2)"
   ]
  },
  {
   "cell_type": "markdown",
   "metadata": {},
   "source": [
    "Mátrix transzponáltját a [numpy.ndarray.transpose()](https://docs.scipy.org/doc/numpy/reference/generated/numpy.transpose.html \"dokumentáció\") segítségével tudjuk létrehozni, vagy a $.T$ segítségéevel. Vigyáznunk kell itt, hogy a mátrix numpy mátrixként legyen értelmezve és ne numpy vektroként, azt ugyanis érintetlenül hagyja.\\\n",
    "Feladat:\n",
    "- transzponáljuk az A,B,C,D mátrixokat!"
   ]
  },
  {
   "cell_type": "code",
   "execution_count": null,
   "metadata": {},
   "outputs": [],
   "source": [
    "print('A:\\n',A,'\\nA.T:\\n',A.T,'\\n')\n",
    "print('B:\\n',B,'\\nB.T\\n',B.T,'\\n')\n",
    "print('C:\\n',C,'\\nC.T\\n',C.T,'\\n')\n",
    "print('D:\\n',D,'\\nD.T\\n',D.T,'\\n')"
   ]
  },
  {
   "cell_type": "markdown",
   "metadata": {},
   "source": [
    "Láthatjuk, hogy az A mátrixot nem transponáltuk. Ez azért van, mert az A mátrixunk egy NumPy vektor. Ezt legegyszerűbben úgy tudjuk ellenőrizni, ha a .shape paranccsal megnézzük. Ilyenkor az eredmény (x, ) alakú lesz a mátrixos (x, y) formátum helyett."
   ]
  },
  {
   "cell_type": "markdown",
   "metadata": {},
   "source": [
    "Néha szükségünk lehet arra, hogy egy mátrixot vektorként adjunk át egy függvénynek. Ilyenkor a [numpy.ndarray.flatten()](https://docs.scipy.org/doc/numpy/reference/generated/numpy.ndarray.flatten.html \"dokumentáció\") -t használhatjuk.\\\n",
    "Feladat:\n",
    "- \"terítsük ki\" a C és D mátrixokat!"
   ]
  },
  {
   "cell_type": "code",
   "execution_count": null,
   "metadata": {},
   "outputs": [],
   "source": [
    "print('C lapítva:',C.flatten())\n",
    "print('D lapítva:',D.flatten())"
   ]
  },
  {
   "cell_type": "markdown",
   "metadata": {},
   "source": [
    "Ha egy mátrix elemeinek, sorainak, oszlopainak összegére vagyunk kíváncsiak, akkor a [numpy.sum()](https://docs.scipy.org/doc/numpy/reference/generated/numpy.sum.html \"dokumentáció\") használatos. Itt be tudjuk állítani hogy melyik tengely szerint szeretnénk összegezni.\\\n",
    "Feladat:\n",
    "- összegezzük a D sorait majd külön az oszlopait majd az összes elemét!"
   ]
  },
  {
   "cell_type": "code",
   "execution_count": null,
   "metadata": {},
   "outputs": [],
   "source": [
    "print(np.sum(D,axis=0))\n",
    "print(np.sum(D,axis=1))\n",
    "print(np.sum(D,axis=None))"
   ]
  },
  {
   "cell_type": "markdown",
   "metadata": {},
   "source": [
    "Ha egy mátrix elemeinek, sorainak, oszlopainak átlagára vagyunk kíváncsiak, akkor a [numpy.mean()](https://docs.scipy.org/doc/numpy/reference/generated/numpy.mean.html#numpy.mean \"dokumentáció\") használatos. Itt be tudjuk állítani hogy melyik tengely szerint szeretnénk összegezni.\\\n",
    "Feladat:\n",
    "- átlagoljuk a D sorait majd külön az oszlopait majd az összes elemét!"
   ]
  },
  {
   "cell_type": "code",
   "execution_count": null,
   "metadata": {},
   "outputs": [],
   "source": [
    "print(np.mean(D,axis=0))\n",
    "print(np.mean(D,axis=1))\n",
    "print(np.mean(D,axis=None))"
   ]
  },
  {
   "cell_type": "markdown",
   "metadata": {},
   "source": [
    "Ha egy mátrix elemeinek, sorainak, oszlopainak átlagára vagyunk kíváncsiak, akkor a [numpy.std()](https://docs.scipy.org/doc/numpy/reference/generated/numpy.mean.html#numpy.mean \"dokumentáció\") használatos. Itt be tudjuk állítani hogy melyik tengely szerint szeretnénk összegezni. Fontos még itt a ddof paraméter, melyet meg tudjuk határozni hogy milyen szórástípus szeretnénk (tapasztalati = 0 / korrigált tapasztalati = 1)\n",
    "\n",
    "Feladat:\n",
    "\n",
    "- számoljunk szórást a D sorait majd külön az oszlopait majd az összes elemét!\n",
    "- próbáljuk ki mi történik ha a ddof paramétert 1 -re állítjuk!"
   ]
  },
  {
   "cell_type": "code",
   "execution_count": null,
   "metadata": {},
   "outputs": [],
   "source": [
    "print(np.std(D,axis=0,ddof=1))\n",
    "print(np.std(D,axis=1,ddof=1))\n",
    "print(np.std(D,axis=None,ddof=0))\n",
    "print(np.std(D,axis=None,ddof=1))"
   ]
  },
  {
   "cell_type": "markdown",
   "metadata": {},
   "source": [
    "Szükségünk lehet a [numpy.log()](https://docs.scipy.org/doc/numpy/reference/generated/numpy.log.html \"adatlap\") függvényére is. Ez a NumPy tömbök elemein képes a természetes alapú logaritmus kiszámítására.\n",
    "\n",
    "Feladat:\n",
    "- Számoljuk ki az [1 2 3 4 5] vektor természetes alapú logaritmusát!"
   ]
  },
  {
   "cell_type": "code",
   "execution_count": null,
   "metadata": {},
   "outputs": [],
   "source": [
    "a = np.array([1, 2, 3, 4, 5])\n",
    "LOG = np.log(a)\n",
    "print(LOG)"
   ]
  },
  {
   "cell_type": "markdown",
   "metadata": {},
   "source": [
    "### MatPlotLib elemek:"
   ]
  },
  {
   "cell_type": "markdown",
   "metadata": {},
   "source": [
    "MatPlotLib használata szintén nagyon hasonlatos a MATLAB -éhoz. Most a legegyszerűbb plot függvény használatát fogjuk átnézni. Először importáljuk be a csomagot, majd definiáljunk egy adathalmazt, amit szeretnénk kiíratni!"
   ]
  },
  {
   "cell_type": "code",
   "execution_count": null,
   "metadata": {},
   "outputs": [],
   "source": [
    "import matplotlib.pyplot as plt\n",
    "x = np.array([0, 1, 2, 3, 4, 5, 6, 7, 8, 9])\n",
    "y = np.array([5, 6, 6, 7, 8, 3, 4, 4, 7, 10])"
   ]
  },
  {
   "cell_type": "markdown",
   "metadata": {},
   "source": [
    "Rajzoltassuk ki az y(x) függvény értékeit. Ehhez a [matplotlib.pyplot.plot()](https://matplotlib.org/3.1.1/api/_as_gen/matplotlib.pyplot.plot.html \"dokumentáció\") -t használjuk!\n",
    "Állítsuk be az tengelyeknek megfelelő tengelyfeliratot és adjunk címet is az ábrának. Ezeket rendre a [matplotlib.pyplot.xlabel()](https://matplotlib.org/3.1.1/api/_as_gen/matplotlib.pyplot.xlabel.html \"dokumentáció\") , [matplotlib.pyplot.ylabel()](https://matplotlib.org/3.1.1/api/_as_gen/matplotlib.pyplot.ylabel.html \"dokumentáció\") , [matplotlib.pyplot.title()](https://matplotlib.org/3.1.1/api/_as_gen/matplotlib.pyplot.title.html \"dokumentáció\") . Az eredményünket pedig a [matplotlib.pyplot.show()](https://matplotlib.org/3.1.1/api/_as_gen/matplotlib.pyplot.show.html \"dokumentáció\") segítségével jeleníthetjük meg."
   ]
  },
  {
   "cell_type": "code",
   "execution_count": null,
   "metadata": {},
   "outputs": [],
   "source": [
    "plt.plot(x,y)\n",
    "plt.xlabel('x értékek')\n",
    "plt.ylabel('y értékek')\n",
    "plt.title('Ez egy ábra')\n",
    "plt.show()"
   ]
  },
  {
   "cell_type": "markdown",
   "metadata": {},
   "source": [
    "Tételezzük fel hogy szeretnénk kétféle értéket megjeleníteni az ábrán. Ezek elkülönítését szintén címkézéssel tehetjük meg, ami a plot parancson belül adható meg a label = '...' módon. Ha szeretnénk ezt megjeleníteni is az ábrán akkor a [matplotlib.pyplot.legend()](https://matplotlib.org/3.1.1/api/_as_gen/matplotlib.pyplot.legend.html \"dokumentáció\") segítségével tehetjük meg.\\\n",
    "Ennek bemutatására most definiáljunk egy yy változót és rajzoljuk szintén az ábrára!"
   ]
  },
  {
   "cell_type": "code",
   "execution_count": null,
   "metadata": {},
   "outputs": [],
   "source": [
    "yy = np.array([ 0, 0, 0, 0, 1, 1, 2, 3, 4, 5])\n",
    "plt.plot(x,y, label = 'y értékek')\n",
    "plt.plot(x,yy, label = 'yy értékek')\n",
    "plt.xlabel('x értékek')\n",
    "plt.ylabel('y értékek')\n",
    "plt.title('Ez egy ábra')\n",
    "plt.legend()\n",
    "plt.show()"
   ]
  }
 ],
 "metadata": {
  "kernelspec": {
   "display_name": "Python 3",
   "language": "python",
   "name": "python3"
  },
  "language_info": {
   "codemirror_mode": {
    "name": "ipython",
    "version": 3
   },
   "file_extension": ".py",
   "mimetype": "text/x-python",
   "name": "python",
   "nbconvert_exporter": "python",
   "pygments_lexer": "ipython3",
   "version": "3.7.6"
  }
 },
 "nbformat": 4,
 "nbformat_minor": 2
}
