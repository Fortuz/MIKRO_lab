{
 "cells": [
  {
   "cell_type": "markdown",
   "metadata": {},
   "source": [
    "# Gyakorlat 1\n",
    "## Lineáris regresszió egy változóval:\n",
    "### Profit a városban:\n",
    "Ebben a feladatban egy egyváltozós lineáris regressziót fogunk implementálni, melynek segítségével képesek leszünk a profit predikciójára egy élelmiszerellátó egységnek.\n",
    "\n",
    "Képzeljük el, hogy CEO-k vagyunk egy élelmiszerláncnál és azon gondolkodunk, hogy vajon hol nyissunk egy új üzletet, melyik városokban érné meg ez nekünk. Az élelmiszerláncolatnak már megvan az ehhez szükséges feltételei csak el kéne dönteni, melyik városban bővüljön. Ehhez segítségünkre lesz a cég által begyűjtött adathalmaz a városok népességéről és a várható profitról."
   ]
  },
  {
   "cell_type": "markdown",
   "metadata": {},
   "source": [
    "### Első lépésként importáljuk be a fontos csomagokat.\n",
    "Szükségünk lesz a matplotlib bizonyos elemeire és a NumPy -ra."
   ]
  },
  {
   "cell_type": "code",
   "execution_count": 1,
   "metadata": {},
   "outputs": [],
   "source": [
    "import numpy as np\n",
    "from mpl_toolkits.mplot3d import Axes3D\n",
    "from matplotlib import cm\n",
    "import matplotlib.pyplot as plt"
   ]
  },
  {
   "cell_type": "markdown",
   "metadata": {},
   "source": [
    "### Második lépésként az adatainkat olvassuk be fileból:"
   ]
  },
  {
   "cell_type": "code",
   "execution_count": 2,
   "metadata": {},
   "outputs": [
    {
     "name": "stdout",
     "output_type": "stream",
     "text": [
      "['6.1101,17.592\\n', '5.5277,9.1302\\n', '8.5186,13.662\\n', '7.0032,11.854\\n', '5.8598,6.8233\\n', '8.3829,11.886\\n', '7.4764,4.3483\\n', '8.5781,12\\n', '6.4862,6.5987\\n', '5.0546,3.8166\\n', '5.7107,3.2522\\n', '14.164,15.505\\n', '5.734,3.1551\\n', '8.4084,7.2258\\n', '5.6407,0.71618\\n', '5.3794,3.5129\\n', '6.3654,5.3048\\n', '5.1301,0.56077\\n', '6.4296,3.6518\\n', '7.0708,5.3893\\n', '6.1891,3.1386\\n', '20.27,21.767\\n', '5.4901,4.263\\n', '6.3261,5.1875\\n', '5.5649,3.0825\\n', '18.945,22.638\\n', '12.828,13.501\\n', '10.957,7.0467\\n', '13.176,14.692\\n', '22.203,24.147\\n', '5.2524,-1.22\\n', '6.5894,5.9966\\n', '9.2482,12.134\\n', '5.8918,1.8495\\n', '8.2111,6.5426\\n', '7.9334,4.5623\\n', '8.0959,4.1164\\n', '5.6063,3.3928\\n', '12.836,10.117\\n', '6.3534,5.4974\\n', '5.4069,0.55657\\n', '6.8825,3.9115\\n', '11.708,5.3854\\n', '5.7737,2.4406\\n', '7.8247,6.7318\\n', '7.0931,1.0463\\n', '5.0702,5.1337\\n', '5.8014,1.844\\n', '11.7,8.0043\\n', '5.5416,1.0179\\n', '7.5402,6.7504\\n', '5.3077,1.8396\\n', '7.4239,4.2885\\n', '7.6031,4.9981\\n', '6.3328,1.4233\\n', '6.3589,-1.4211\\n', '6.2742,2.4756\\n', '5.6397,4.6042\\n', '9.3102,3.9624\\n', '9.4536,5.4141\\n', '8.8254,5.1694\\n', '5.1793,-0.74279\\n', '21.279,17.929\\n', '14.908,12.054\\n', '18.959,17.054\\n', '7.2182,4.8852\\n', '8.2951,5.7442\\n', '10.236,7.7754\\n', '5.4994,1.0173\\n', '20.341,20.992\\n', '10.136,6.6799\\n', '7.3345,4.0259\\n', '6.0062,1.2784\\n', '7.2259,3.3411\\n', '5.0269,-2.6807\\n', '6.5479,0.29678\\n', '7.5386,3.8845\\n', '5.0365,5.7014\\n', '10.274,6.7526\\n', '5.1077,2.0576\\n', '5.7292,0.47953\\n', '5.1884,0.20421\\n', '6.3557,0.67861\\n', '9.7687,7.5435\\n', '6.5159,5.3436\\n', '8.5172,4.2415\\n', '9.1802,6.7981\\n', '6.002,0.92695\\n', '5.5204,0.152\\n', '5.0594,2.8214\\n', '5.7077,1.8451\\n', '7.6366,4.2959\\n', '5.8707,7.2029\\n', '5.3054,1.9869\\n', '8.2934,0.14454\\n', '13.394,9.0551\\n', '5.4369,0.61705\\n']\n"
     ]
    }
   ],
   "source": [
    "file=open(\"Lab1data.txt\",'r')\n",
    "lines=file.readlines()\n",
    "file.close()                    \n",
    "# Fontos, hogy egy buborékba legyen a megnyitás és lezárás. Egyéb esetekben nem várt hibát okozhat.\n",
    "# Ha a data file a main file mellett van egyszerűen megy a beolvasás. \n",
    "# Bonyolultabb fájlstruktúra esetén az egész elérési utat meg kell adni\n",
    "# Irassuk is ki az eredményt, hogy lássuk mi legyen a következő lépés az adatok rendezésére\n",
    "print(lines)"
   ]
  },
  {
   "cell_type": "markdown",
   "metadata": {},
   "source": [
    "Rendezzük a adatainkat a megfelelő változókba:\n",
    "- $X$ és $Y$\n",
    "- soronként szedjük ki és formázzuk az adatokat\n",
    "- NumPy tömböt készítünk az $X$ és $Y$ -ból\n",
    "- $m$ -be mentsük el az adatok számát\n",
    "- irassuk is ki az eredményeket"
   ]
  },
  {
   "cell_type": "code",
   "execution_count": 3,
   "metadata": {},
   "outputs": [
    {
     "name": "stdout",
     "output_type": "stream",
     "text": [
      "X dimenziója: (97,) ; X értékei:\n",
      " [ 6.1101  5.5277  8.5186  7.0032  5.8598  8.3829  7.4764  8.5781  6.4862\n",
      "  5.0546  5.7107 14.164   5.734   8.4084  5.6407  5.3794  6.3654  5.1301\n",
      "  6.4296  7.0708  6.1891 20.27    5.4901  6.3261  5.5649 18.945  12.828\n",
      " 10.957  13.176  22.203   5.2524  6.5894  9.2482  5.8918  8.2111  7.9334\n",
      "  8.0959  5.6063 12.836   6.3534  5.4069  6.8825 11.708   5.7737  7.8247\n",
      "  7.0931  5.0702  5.8014 11.7     5.5416  7.5402  5.3077  7.4239  7.6031\n",
      "  6.3328  6.3589  6.2742  5.6397  9.3102  9.4536  8.8254  5.1793 21.279\n",
      " 14.908  18.959   7.2182  8.2951 10.236   5.4994 20.341  10.136   7.3345\n",
      "  6.0062  7.2259  5.0269  6.5479  7.5386  5.0365 10.274   5.1077  5.7292\n",
      "  5.1884  6.3557  9.7687  6.5159  8.5172  9.1802  6.002   5.5204  5.0594\n",
      "  5.7077  7.6366  5.8707  5.3054  8.2934 13.394   5.4369] \n",
      "\n",
      "Y dimenziója: (97, 1) ; Y értékei:\n",
      " [[17.592  ]\n",
      " [ 9.1302 ]\n",
      " [13.662  ]\n",
      " [11.854  ]\n",
      " [ 6.8233 ]\n",
      " [11.886  ]\n",
      " [ 4.3483 ]\n",
      " [12.     ]\n",
      " [ 6.5987 ]\n",
      " [ 3.8166 ]\n",
      " [ 3.2522 ]\n",
      " [15.505  ]\n",
      " [ 3.1551 ]\n",
      " [ 7.2258 ]\n",
      " [ 0.71618]\n",
      " [ 3.5129 ]\n",
      " [ 5.3048 ]\n",
      " [ 0.56077]\n",
      " [ 3.6518 ]\n",
      " [ 5.3893 ]\n",
      " [ 3.1386 ]\n",
      " [21.767  ]\n",
      " [ 4.263  ]\n",
      " [ 5.1875 ]\n",
      " [ 3.0825 ]\n",
      " [22.638  ]\n",
      " [13.501  ]\n",
      " [ 7.0467 ]\n",
      " [14.692  ]\n",
      " [24.147  ]\n",
      " [-1.22   ]\n",
      " [ 5.9966 ]\n",
      " [12.134  ]\n",
      " [ 1.8495 ]\n",
      " [ 6.5426 ]\n",
      " [ 4.5623 ]\n",
      " [ 4.1164 ]\n",
      " [ 3.3928 ]\n",
      " [10.117  ]\n",
      " [ 5.4974 ]\n",
      " [ 0.55657]\n",
      " [ 3.9115 ]\n",
      " [ 5.3854 ]\n",
      " [ 2.4406 ]\n",
      " [ 6.7318 ]\n",
      " [ 1.0463 ]\n",
      " [ 5.1337 ]\n",
      " [ 1.844  ]\n",
      " [ 8.0043 ]\n",
      " [ 1.0179 ]\n",
      " [ 6.7504 ]\n",
      " [ 1.8396 ]\n",
      " [ 4.2885 ]\n",
      " [ 4.9981 ]\n",
      " [ 1.4233 ]\n",
      " [-1.4211 ]\n",
      " [ 2.4756 ]\n",
      " [ 4.6042 ]\n",
      " [ 3.9624 ]\n",
      " [ 5.4141 ]\n",
      " [ 5.1694 ]\n",
      " [-0.74279]\n",
      " [17.929  ]\n",
      " [12.054  ]\n",
      " [17.054  ]\n",
      " [ 4.8852 ]\n",
      " [ 5.7442 ]\n",
      " [ 7.7754 ]\n",
      " [ 1.0173 ]\n",
      " [20.992  ]\n",
      " [ 6.6799 ]\n",
      " [ 4.0259 ]\n",
      " [ 1.2784 ]\n",
      " [ 3.3411 ]\n",
      " [-2.6807 ]\n",
      " [ 0.29678]\n",
      " [ 3.8845 ]\n",
      " [ 5.7014 ]\n",
      " [ 6.7526 ]\n",
      " [ 2.0576 ]\n",
      " [ 0.47953]\n",
      " [ 0.20421]\n",
      " [ 0.67861]\n",
      " [ 7.5435 ]\n",
      " [ 5.3436 ]\n",
      " [ 4.2415 ]\n",
      " [ 6.7981 ]\n",
      " [ 0.92695]\n",
      " [ 0.152  ]\n",
      " [ 2.8214 ]\n",
      " [ 1.8451 ]\n",
      " [ 4.2959 ]\n",
      " [ 7.2029 ]\n",
      " [ 1.9869 ]\n",
      " [ 0.14454]\n",
      " [ 9.0551 ]\n",
      " [ 0.61705]] \n",
      "\n",
      "Az adatok száma:  97\n"
     ]
    }
   ],
   "source": [
    "X=[]\n",
    "Y=[]\n",
    "for line in lines:\n",
    "  a,b = line.split(',')\n",
    "  X.append(float (a))\n",
    "  Y.append(float(b))\n",
    "\n",
    "X=np.array(X)\n",
    "Y=np.array(Y) \n",
    "m=Y.size\n",
    "Y=Y.reshape(m,1) \n",
    "\n",
    "print('X dimenziója:', X.shape, '; X értékei:\\n', X, '\\n')                \n",
    "print('Y dimenziója:', Y.shape, '; Y értékei:\\n', Y, '\\n')\n",
    "print('Az adatok száma: ', m)"
   ]
  },
  {
   "cell_type": "markdown",
   "metadata": {},
   "source": [
    "Rajzoltassuk ki az adatokat egy grafikonra, hogy láthassuk az adatok struktúráját!"
   ]
  },
  {
   "cell_type": "code",
   "execution_count": 4,
   "metadata": {},
   "outputs": [
    {
     "data": {
      "image/png": "[encoded data removed]",
      "text/plain": [
       "<Figure size 432x288 with 1 Axes>"
      ]
     },
     "metadata": {
      "needs_background": "light"
     },
     "output_type": "display_data"
    }
   ],
   "source": [
    "plt.plot(X,Y,'o', c= \"g\")   \n",
    "plt.title(\"Training data\")\n",
    "plt.xlabel(\"Population of a city in 10 000s\")\n",
    "plt.ylabel(\"Profit in $10 000s \")\n",
    "plt.show()"
   ]
  },
  {
   "cell_type": "markdown",
   "metadata": {},
   "source": [
    "### A hipotézis:\n",
    "A grafikonon látható, hogy az adatok nagyjából egy egyenesen találhatók. Próbáljuk így közelíteni az adatainkat!\n",
    "\n",
    "Jelen esetünkben használjuk az alábbbi modellt:\n",
    "\n",
    "$ h_{w}(x) = w_{0} + xw_{1} $\n",
    "\n",
    "Ilyenkor a költségfüggvényünk (Cost function) az alábbi módon kapható meg MSE (Mean Squared Error) segítségével:\n",
    "\n",
    "$ C(w_{0},w_{1})=\\frac{1}{2m} \\cdot \\sum(w_{0} + x^iw_{1} − y^{i})^2 $\n",
    " \n",
    "Itt a becslésünk hibáját négyzetre emelve összegeztük!\n",
    "\n",
    "Ha áttérünk a vektoros leírásmódra az alábbit kapjuk:\n",
    "\n",
    "$ C = \\frac{1}{2m} \\cdot \\sum(XW-Y)^2 $\n"
   ]
  },
  {
   "cell_type": "markdown",
   "metadata": {},
   "source": [
    "Az $X$ tömb jelen esetben egy 1 oszlop és m sorból álló tömb. Ha ezt használnánk a regresszió során, akkor elveszítenénk a tengelymetszet beállításának lehetőségét (bias). A fent említett hipotézisünk az alábbiként nézne ki szétírva:\n",
    "\n",
    "$ h_{w}(x) = 0 \\cdot w_{0} + xw_{1} $\n",
    "\n",
    "Ennek elkerülésére az $X$ tömbhöz hozzáfűzünk egy tiszta 1 -esekből álló oszlopot. Így a képlet az alábbiként változik:\n",
    "\n",
    "$ h_{w}(x) = 1\\cdot w_{0} + xw_{1} $\n",
    "\n",
    "Ezáltal visszakapjuk az eredeti hipotézisünket.\n",
    "\n",
    "Használjuk a hozzáfüzéshez a NumPy column_stack függvényét! [column_stack adatlap](https://docs.scipy.org/doc/numpy/reference/generated/numpy.column_stack.html \"klikk az adatlapért\")\\\n",
    "A teljesen 1 -esekből álló oszlop generálását pedig NumPy ones függvényét használjuk! [ones adatlap](https://docs.scipy.org/doc/numpy/reference/generated/numpy.ones.html \"klikk az adatlapért\")\\\n",
    "Be kell állítanunk továbbá:\n",
    "- kezdeti súlyok: [0;0] (NumPy zeros segítségével könnyen beállítható [zeros adatlap](https://docs.scipy.org/doc/numpy/reference/generated/numpy.zeros.html \"klikk az adatlapért\"))\n",
    "- epochok száma: 1500\n",
    "- tanulási ráta: 0.01"
   ]
  },
  {
   "cell_type": "code",
   "execution_count": 5,
   "metadata": {},
   "outputs": [],
   "source": [
    "X=np.column_stack((np.ones(m),X))  \n",
    "\n",
    "w=np.zeros((2,1))                 \n",
    "epochs= 1500                       \n",
    "learning_rate=0.01"
   ]
  },
  {
   "cell_type": "markdown",
   "metadata": {},
   "source": [
    "Ellenőrizzük le a tömbjeink dimenzióját a mátixműveletek előtt."
   ]
  },
  {
   "cell_type": "code",
   "execution_count": 6,
   "metadata": {},
   "outputs": [
    {
     "name": "stdout",
     "output_type": "stream",
     "text": [
      "X dimenziója:\n",
      " (97, 2)\n",
      "Y dimenziója:\n",
      " (97, 1)\n",
      "w dimenziója:\n",
      " (2, 1)\n"
     ]
    }
   ],
   "source": [
    "print('X dimenziója:\\n', X.shape)                \n",
    "print('Y dimenziója:\\n', Y.shape)\n",
    "print('w dimenziója:\\n', w.shape)"
   ]
  },
  {
   "cell_type": "markdown",
   "metadata": {},
   "source": [
    "### Költség függvény:\n",
    "Definiáljuk a költségfüggvény kiszámolására egy függvényt, amely bemenő paraméterként megkapja az $X$, $Y$ és $w$ mátrixokat és a kiszámolt skalár költséggel tér vissza.\n",
    "\n",
    "Hasznos operátorok lehetnek:\n",
    "- @  : element wise matrix multiplication [mátrix szorzás](https://docs.scipy.org/doc/numpy/reference/generated/numpy.dot.html#numpy.dot \"dot függvény adatlapja (egyenértékű a @ használatával)\")\n",
    "- ** : hatványozás\n",
    "- tömbelemek összegére használjuk a NumPy sum függvényét [sum](https://docs.scipy.org/doc/numpy/reference/generated/numpy.sum.html \"sum adatlapjáért klikk\")"
   ]
  },
  {
   "cell_type": "code",
   "execution_count": 9,
   "metadata": {},
   "outputs": [],
   "source": [
    "def computeCost(X,Y,w):\n",
    "    m = Y.shape[0]\n",
    "    C = np.sum((X@w - Y)**2, axis=None)/(2*m)\n",
    "    return C"
   ]
  },
  {
   "cell_type": "markdown",
   "metadata": {},
   "source": [
    "Próbáljuk ki két értékre!\n",
    "\n",
    "- [0;0]\n",
    "- [-1;2]"
   ]
  },
  {
   "cell_type": "code",
   "execution_count": 10,
   "metadata": {},
   "outputs": [
    {
     "name": "stdout",
     "output_type": "stream",
     "text": [
      "Testing the cost function (Error function):\n",
      "\tWith weights: w = [0;0]\n",
      "\tExpected value (approx.) = 32.07\n",
      "\tCost computed =  32.072733877455676\n",
      "\n",
      "\tWith weights: w = [-1;2]\n",
      "\tExpected value (approx.) = 54.24\n",
      "\tCost computed =  54.24245508201238\n"
     ]
    }
   ],
   "source": [
    "C=computeCost(X,Y,np.array([[0],[0]]).reshape((2,1)))\n",
    "print('''Testing the cost function (Error function):\n",
    "\\tWith weights: w = [0;0]\n",
    "\\tExpected value (approx.) = 32.07\n",
    "\\tCost computed = ''',C)\n",
    "C=computeCost(X,Y,np.array([[-1],[2]]))\n",
    "print('''\\n\\tWith weights: w = [-1;2]\n",
    "\\tExpected value (approx.) = 54.24\n",
    "\\tCost computed = ''',C)"
   ]
  },
  {
   "cell_type": "markdown",
   "metadata": {},
   "source": [
    "### Grádiens módszer:\n",
    "A költségfüggvényt deriválva megkapjuk a gradienst, amire a gradiensmódszer használatához lesz szükségünk. Itt fogjuk szimultán updatelni a megfelelő súlyainkat az alábbi módon:\n",
    "\n",
    "$ temp = \\frac{1}{m} \\cdot \\sum (h_{w}(x^{i}) - y^{i}) $\n",
    "\n",
    "$ w_1 = \\frac{1}{m} \\cdot \\sum(h_{w}(x^{i}) - y^{i} \\cdot x_{1}^{i}) $\n",
    "\n",
    "$ w_0 = temp $\n",
    "\n",
    "ezt addig folytatjuk, amíg konvergenciához nem érünk.\n",
    "\n",
    "Definiáljuk a grádiens módszeres függvényünket úgy, hogy elmentjük egy $C_history$ változóba a költségfüggvényünk előző értékeit, $w$ változóba pedig az eredményként kapott súlymátrixot!"
   ]
  },
  {
   "cell_type": "code",
   "execution_count": 11,
   "metadata": {},
   "outputs": [],
   "source": [
    "def gradientDescent(X, Y, w, learning_rate, epochs):\n",
    "    m = Y.size\n",
    "    C_history = np.zeros((epochs,1))\n",
    "\n",
    "    for i in range(0,epochs):\n",
    "        #VIGYÁZAT szimultán update!!!!!\n",
    "        new_w=np.zeros((2,1))\n",
    "        new_w[0] = w[0] - (learning_rate/m) * np.sum(X@w-Y, axis=None)\n",
    "        new_w[1] = w[1] - (learning_rate/m) * np.sum((X@w-Y)*(X[:,1].reshape(97,1)), axis=None)\n",
    "        w=new_w.copy()\n",
    "        C_history[i] =computeCost(X,Y,w)\n",
    "\n",
    "    return w,C_history"
   ]
  },
  {
   "cell_type": "markdown",
   "metadata": {},
   "source": [
    "Futtassuk le a grádiens módszert alkalmazó függvényünket!"
   ]
  },
  {
   "cell_type": "code",
   "execution_count": 13,
   "metadata": {},
   "outputs": [
    {
     "name": "stdout",
     "output_type": "stream",
     "text": [
      "\n",
      "Gradient descent:\n",
      "\tWeights expected (approx.): \n",
      "\t [-3.6303] [1.1664]\n",
      "\tWeights calculated:\n",
      "\t [-3.63029144] [1.16636235]\n"
     ]
    }
   ],
   "source": [
    "print('''\\nGradient descent:\n",
    "\\tWeights expected (approx.): \n",
    "\\t [-3.6303] [1.1664]''')\n",
    "w,C_history=gradientDescent(X,Y,w,learning_rate,epochs)\n",
    "print('\\tWeights calculated:\\n\\t',w[0],w[1])"
   ]
  },
  {
   "cell_type": "markdown",
   "metadata": {},
   "source": [
    "### Költségfüggvény megjelenítése az iterációk során:\n",
    "Rajzoljuk ki a költségfüggvény értékeit az iterációk során! Ezáltal láthatjk, hogy a függvényben meghatározott értékek, mint az epochok száma, a learning rate ténylegesen megfelelő volt."
   ]
  },
  {
   "cell_type": "code",
   "execution_count": 15,
   "metadata": {},
   "outputs": [
    {
     "data": {
      "image/png": "[encoded data removed]",
      "text/plain": [
       "<Figure size 432x288 with 1 Axes>"
      ]
     },
     "metadata": {
      "needs_background": "light"
     },
     "output_type": "display_data"
    }
   ],
   "source": [
    "plt.plot(C_history)\n",
    "plt.title(\"Gradient descent algorithms effect through the iterations\")\n",
    "plt.xlabel(\"Iteration\")\n",
    "plt.ylabel(\"Cost function value\")\n",
    "plt.show()"
   ]
  },
  {
   "cell_type": "markdown",
   "metadata": {},
   "source": [
    "### Az illesztett egyenes megjelenítése a bemeneti adatokra"
   ]
  },
  {
   "cell_type": "code",
   "execution_count": 16,
   "metadata": {},
   "outputs": [
    {
     "data": {
      "image/png": "[encoded data removed]",
      "text/plain": [
       "<Figure size 432x288 with 1 Axes>"
      ]
     },
     "metadata": {
      "needs_background": "light"
     },
     "output_type": "display_data"
    }
   ],
   "source": [
    "plt.plot((X[:,1]).reshape(97,1),Y,'o', label = \"Training data\")\n",
    "plt.plot((X[:,1]).reshape(97,1),X@w,'-',label = \"Linear regression\")\n",
    "plt.xlabel(\"Population of a city in 10 000s\")\n",
    "plt.ylabel(\"Profit in $10 000s \")\n",
    "plt.title(\"Linear regression and the training data\")\n",
    "plt.legend()\n",
    "plt.show()"
   ]
  },
  {
   "cell_type": "markdown",
   "metadata": {},
   "source": [
    "### Jóslat 35 000 és 75 000 fős populációkra"
   ]
  },
  {
   "cell_type": "code",
   "execution_count": 21,
   "metadata": {},
   "outputs": [
    {
     "name": "stdout",
     "output_type": "stream",
     "text": [
      "\n",
      "Prediction for 35 000:\n",
      " [40819.05197031]\n",
      "\n",
      "Prediction for 75 000:\n",
      " [87473.54598373]\n"
     ]
    }
   ],
   "source": [
    "Prediction1 = (np.array([1, 35000]))@w\n",
    "Prediction2 = (np.array([1, 75000]))@w\n",
    "print('\\nPrediction for 35 000:\\n',Prediction1)\n",
    "print('\\nPrediction for 75 000:\\n',Prediction2)"
   ]
  },
  {
   "cell_type": "markdown",
   "metadata": {},
   "source": [
    "### Költségfüggvény megjelenítése / surface plot"
   ]
  },
  {
   "cell_type": "code",
   "execution_count": null,
   "metadata": {},
   "outputs": [],
   "source": [
    "w0_vals = np.linspace(-10,10,100)\n",
    "w1_vals = np.linspace(-1,4,100)\n",
    "C_vals = np.zeros((w0_vals.size,w1_vals.size))\n",
    "\n",
    "for i in range((w0_vals).size):\n",
    "    for j in range((w1_vals).size):\n",
    "        t=np.array([w0_vals[i],w1_vals[j]]).reshape(2,1)\n",
    "        C_vals[[i],[j]]= computeCost(X,Y,t)\n",
    "C_vals=C_vals.T"
   ]
  },
  {
   "cell_type": "code",
   "execution_count": null,
   "metadata": {},
   "outputs": [],
   "source": [
    "fig= plt.figure()\n",
    "ax=plt.axes(projection='3d')\n",
    "x, y = np.meshgrid(w0_vals, w1_vals)\n",
    "surf = ax.plot_surface(x, y, C_vals, cmap=cm.coolwarm,linewidth=0, antialiased=False)\n",
    "plt.title(\"Surface plot of the Cost function\")\n",
    "plt.xlabel(\"w0\")\n",
    "plt.ylabel(\"w1\")\n",
    "plt.show()"
   ]
  },
  {
   "cell_type": "markdown",
   "metadata": {},
   "source": [
    "### Visualization of the Cost function / contour plot"
   ]
  },
  {
   "cell_type": "code",
   "execution_count": null,
   "metadata": {},
   "outputs": [],
   "source": [
    "plt.contour(w0_vals,w1_vals,C_vals,np.logspace(-2,3,20))\n",
    "plt.plot(w[0],w[1],'x')\n",
    "plt.title(\"Contour plot of C_vals in logarithmic scale\")\n",
    "plt.xlabel(\"w0\")\n",
    "plt.ylabel(\"w1\")\n",
    "plt.show()"
   ]
  },
  {
   "cell_type": "code",
   "execution_count": null,
   "metadata": {},
   "outputs": [],
   "source": []
  }
 ],
 "metadata": {
  "kernelspec": {
   "display_name": "Python 3",
   "language": "python",
   "name": "python3"
  },
  "language_info": {
   "codemirror_mode": {
    "name": "ipython",
    "version": 3
   },
   "file_extension": ".py",
   "mimetype": "text/x-python",
   "name": "python",
   "nbconvert_exporter": "python",
   "pygments_lexer": "ipython3",
   "version": "3.7.0"
  }
 },
 "nbformat": 4,
 "nbformat_minor": 2
}
