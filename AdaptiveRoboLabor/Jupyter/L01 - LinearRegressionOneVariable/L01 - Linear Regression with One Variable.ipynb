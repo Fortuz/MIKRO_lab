{
 "cells": [
  {
   "cell_type": "markdown",
   "metadata": {},
   "source": [
    "# Gyakorlat 1\n",
    "## Lineáris regresszió egy változóval:\n",
    "### Profit a városban:\n",
    "Ebben a feladatban egy egyváltozós lineáris regressziót fogunk implementálni, melynek segítségével képesek leszünk a profit predikciójára egy élelmiszerellátó egységnek. Képzeljük el, hogy CEO vagyunk egy élelmiszerláncnál és azon gondolkodunk, hogy vajon megérné -e nyitnunk egy új üzletet egy másik városokban. Az élelmiszerláncolatnak már megvan az ehhez szükséges feltételei csak el kéne dönteni, melyik városban bővüljön. Ehhez segítségünkre lesz a cég által begyűjtött adathalmaz a városok népességéről és a várható profitról."
   ]
  },
  {
   "cell_type": "markdown",
   "metadata": {},
   "source": [
    "Jelen esetünkben használjuk az alábbbi modellt:\n",
    "\n",
    "$ h_{w}(x) = w_{0} + xw_{1} $\n",
    "\n",
    "Ilyenkor a költségfüggvényünk (Cost function) az alábbi módon kapható meg MSE (Mean Squared Error) segítségével:\n",
    "\n",
    "$ C(w_{0},w_{1})=\\frac{1}{2m} \\cdot \\sum(w_{0} + x^iw_{1} − y^{i})^2 $\n",
    " \n",
    "Itt a becslésünk hibáját négyzetre emelve összegeztük!\n",
    "\n",
    "Ha áttérünk a vektoros leírásmódra az alábbit kapjuk:\n",
    "\n",
    "$ C = \\frac{1}{2m} \\cdot \\sum(XW-Y)^2 $\n",
    "\n",
    "A költségfüggvényt deriválva megkapjuk a gradienst, amire a gradiensmódszer használatához lesz szükségünk. Itt fogjuk szimultán updatelni a megfelelő súlyainkat az alábbi módon:\n",
    "\n",
    "$ temp = \\frac{1}{m} \\cdot \\sum (h_{w}(x^{i}) - y^{i}) $\n",
    "\n",
    "$ w_1 = \\frac{1}{m} \\cdot \\sum(h_{w}(x^{i}) - y^{i} \\cdot x_{1}^{i}) $\n",
    "\n",
    "$ w_0 = temp $\n",
    "\n",
    "ezt addig folytatjuk, amíg konvergenciához nem érünk. [HINT](http://www.google.com \"Hint: -ide írhatsz, de ez link\")"
   ]
  },
  {
   "cell_type": "markdown",
   "metadata": {},
   "source": [
    "### Első lépésként importáljuk be a fontos csomagokat.\n",
    "Szükségünk lesz a matplotlib bizonyos elemeire és a NumPy -ra."
   ]
  },
  {
   "cell_type": "code",
   "execution_count": 2,
   "metadata": {},
   "outputs": [],
   "source": [
    "import numpy as np\n",
    "from mpl_toolkits.mplot3d import Axes3D\n",
    "from matplotlib import cm\n",
    "import matplotlib.pyplot as plt"
   ]
  },
  {
   "cell_type": "markdown",
   "metadata": {},
   "source": [
    "### Második lépésként az adatainkat olvassuk be fileból:"
   ]
  },
  {
   "cell_type": "code",
   "execution_count": 8,
   "metadata": {},
   "outputs": [],
   "source": [
    "file=open(\"ex1data1.txt\",'r')\n",
    "lines=file.readlines()\n",
    "file.close()                    \n",
    "# Fontos, hogy egy buborékba legyen a megnyitás és lezárás. Egyéb esetekben nem várt hibát okozhat.\n",
    "# Ha a data file a main file mellett van egyszerűen megy a beolvasás. \n",
    "# Bonyolultabb fájlstruktúra esetén az egész elérési utat meg kell adni"
   ]
  },
  {
   "cell_type": "code",
   "execution_count": 9,
   "metadata": {},
   "outputs": [
    {
     "name": "stdout",
     "output_type": "stream",
     "text": [
      "['6.1101,17.592\\n', '5.5277,9.1302\\n', '8.5186,13.662\\n', '7.0032,11.854\\n', '5.8598,6.8233\\n', '8.3829,11.886\\n', '7.4764,4.3483\\n', '8.5781,12\\n', '6.4862,6.5987\\n', '5.0546,3.8166\\n', '5.7107,3.2522\\n', '14.164,15.505\\n', '5.734,3.1551\\n', '8.4084,7.2258\\n', '5.6407,0.71618\\n', '5.3794,3.5129\\n', '6.3654,5.3048\\n', '5.1301,0.56077\\n', '6.4296,3.6518\\n', '7.0708,5.3893\\n', '6.1891,3.1386\\n', '20.27,21.767\\n', '5.4901,4.263\\n', '6.3261,5.1875\\n', '5.5649,3.0825\\n', '18.945,22.638\\n', '12.828,13.501\\n', '10.957,7.0467\\n', '13.176,14.692\\n', '22.203,24.147\\n', '5.2524,-1.22\\n', '6.5894,5.9966\\n', '9.2482,12.134\\n', '5.8918,1.8495\\n', '8.2111,6.5426\\n', '7.9334,4.5623\\n', '8.0959,4.1164\\n', '5.6063,3.3928\\n', '12.836,10.117\\n', '6.3534,5.4974\\n', '5.4069,0.55657\\n', '6.8825,3.9115\\n', '11.708,5.3854\\n', '5.7737,2.4406\\n', '7.8247,6.7318\\n', '7.0931,1.0463\\n', '5.0702,5.1337\\n', '5.8014,1.844\\n', '11.7,8.0043\\n', '5.5416,1.0179\\n', '7.5402,6.7504\\n', '5.3077,1.8396\\n', '7.4239,4.2885\\n', '7.6031,4.9981\\n', '6.3328,1.4233\\n', '6.3589,-1.4211\\n', '6.2742,2.4756\\n', '5.6397,4.6042\\n', '9.3102,3.9624\\n', '9.4536,5.4141\\n', '8.8254,5.1694\\n', '5.1793,-0.74279\\n', '21.279,17.929\\n', '14.908,12.054\\n', '18.959,17.054\\n', '7.2182,4.8852\\n', '8.2951,5.7442\\n', '10.236,7.7754\\n', '5.4994,1.0173\\n', '20.341,20.992\\n', '10.136,6.6799\\n', '7.3345,4.0259\\n', '6.0062,1.2784\\n', '7.2259,3.3411\\n', '5.0269,-2.6807\\n', '6.5479,0.29678\\n', '7.5386,3.8845\\n', '5.0365,5.7014\\n', '10.274,6.7526\\n', '5.1077,2.0576\\n', '5.7292,0.47953\\n', '5.1884,0.20421\\n', '6.3557,0.67861\\n', '9.7687,7.5435\\n', '6.5159,5.3436\\n', '8.5172,4.2415\\n', '9.1802,6.7981\\n', '6.002,0.92695\\n', '5.5204,0.152\\n', '5.0594,2.8214\\n', '5.7077,1.8451\\n', '7.6366,4.2959\\n', '5.8707,7.2029\\n', '5.3054,1.9869\\n', '8.2934,0.14454\\n', '13.394,9.0551\\n', '5.4369,0.61705\\n']\n"
     ]
    }
   ],
   "source": [
    "print(lines)"
   ]
  },
  {
   "cell_type": "markdown",
   "metadata": {},
   "source": [
    "Rendezzük a adatainkat a megfelelő változókba:\n",
    "- X és Y\n",
    "- soronként kiszedjük és formázzuk az adatokat\n",
    "- NumPy tömböt készítünk az X és Y -ból\n",
    "- m -be elmentjük az adatok számát"
   ]
  },
  {
   "cell_type": "code",
   "execution_count": 10,
   "metadata": {},
   "outputs": [],
   "source": [
    "X=[]\n",
    "Y=[]\n",
    "for line in lines:\n",
    "  a,b = line.split(',')\n",
    "  X.append(float (a))\n",
    "  Y.append(float(b))\n",
    "\n",
    "X=np.array(X)\n",
    "Y=np.array(Y)\n",
    "m=Y.size"
   ]
  },
  {
   "cell_type": "markdown",
   "metadata": {},
   "source": [
    "Kiirathatjuk a formázott adatokat és a tömbök méreteit, csak hogy biztosak lehessünk azok helyességében:"
   ]
  },
  {
   "cell_type": "code",
   "execution_count": 18,
   "metadata": {},
   "outputs": [
    {
     "name": "stdout",
     "output_type": "stream",
     "text": [
      "X dimenziója: (97,) ; X értékei:\n",
      " [ 6.1101  5.5277  8.5186  7.0032  5.8598  8.3829  7.4764  8.5781  6.4862\n",
      "  5.0546  5.7107 14.164   5.734   8.4084  5.6407  5.3794  6.3654  5.1301\n",
      "  6.4296  7.0708  6.1891 20.27    5.4901  6.3261  5.5649 18.945  12.828\n",
      " 10.957  13.176  22.203   5.2524  6.5894  9.2482  5.8918  8.2111  7.9334\n",
      "  8.0959  5.6063 12.836   6.3534  5.4069  6.8825 11.708   5.7737  7.8247\n",
      "  7.0931  5.0702  5.8014 11.7     5.5416  7.5402  5.3077  7.4239  7.6031\n",
      "  6.3328  6.3589  6.2742  5.6397  9.3102  9.4536  8.8254  5.1793 21.279\n",
      " 14.908  18.959   7.2182  8.2951 10.236   5.4994 20.341  10.136   7.3345\n",
      "  6.0062  7.2259  5.0269  6.5479  7.5386  5.0365 10.274   5.1077  5.7292\n",
      "  5.1884  6.3557  9.7687  6.5159  8.5172  9.1802  6.002   5.5204  5.0594\n",
      "  5.7077  7.6366  5.8707  5.3054  8.2934 13.394   5.4369] \n",
      "\n",
      "Y dimenziója: (97,) ; Y értékei:\n",
      " [17.592    9.1302  13.662   11.854    6.8233  11.886    4.3483  12.\n",
      "  6.5987   3.8166   3.2522  15.505    3.1551   7.2258   0.71618  3.5129\n",
      "  5.3048   0.56077  3.6518   5.3893   3.1386  21.767    4.263    5.1875\n",
      "  3.0825  22.638   13.501    7.0467  14.692   24.147   -1.22     5.9966\n",
      " 12.134    1.8495   6.5426   4.5623   4.1164   3.3928  10.117    5.4974\n",
      "  0.55657  3.9115   5.3854   2.4406   6.7318   1.0463   5.1337   1.844\n",
      "  8.0043   1.0179   6.7504   1.8396   4.2885   4.9981   1.4233  -1.4211\n",
      "  2.4756   4.6042   3.9624   5.4141   5.1694  -0.74279 17.929   12.054\n",
      " 17.054    4.8852   5.7442   7.7754   1.0173  20.992    6.6799   4.0259\n",
      "  1.2784   3.3411  -2.6807   0.29678  3.8845   5.7014   6.7526   2.0576\n",
      "  0.47953  0.20421  0.67861  7.5435   5.3436   4.2415   6.7981   0.92695\n",
      "  0.152    2.8214   1.8451   4.2959   7.2029   1.9869   0.14454  9.0551\n",
      "  0.61705] \n",
      "\n",
      "Az adatok száma:  97\n"
     ]
    }
   ],
   "source": [
    "print('X dimenziója:', X.shape, '; X értékei:\\n', X, '\\n')                \n",
    "print('Y dimenziója:', Y.shape, '; Y értékei:\\n', Y, '\\n')\n",
    "print('Az adatok száma: ', m)"
   ]
  },
  {
   "cell_type": "markdown",
   "metadata": {},
   "source": [
    "Rajzoltassuk is ki:"
   ]
  },
  {
   "cell_type": "code",
   "execution_count": 19,
   "metadata": {},
   "outputs": [
    {
     "data": {
      "image/png": "[encoded data removed]",
      "text/plain": [
       "<Figure size 432x288 with 1 Axes>"
      ]
     },
     "metadata": {
      "needs_background": "light"
     },
     "output_type": "display_data"
    }
   ],
   "source": [
    "plt.plot(X,Y,'o')\n",
    "plt.show()"
   ]
  },
  {
   "cell_type": "markdown",
   "metadata": {},
   "source": [
    "A tömb formátumok még nem az igaziak, így az $X$ és $Y$ tömböket formázuk szép tömbbé, hogy a második dimenzió is rögzüljön. Majd inicializáljuk a kezdeti paramétereket:\n",
    "- súlyok\n",
    "- epochok száma\n",
    "- tanulási ráta"
   ]
  },
  {
   "cell_type": "code",
   "execution_count": 21,
   "metadata": {},
   "outputs": [],
   "source": [
    "X=np.column_stack((np.ones(m),X))  \n",
    "Y=Y.reshape(97,1)                  \n",
    "\n",
    "w=np.zeros((2,1))                 \n",
    "epochs= 1500                       \n",
    "learning_rate=0.01"
   ]
  },
  {
   "cell_type": "markdown",
   "metadata": {},
   "source": [
    "Ellenőrizzük le a tömbjeink dimenzióját a mátixműveletek előtt."
   ]
  },
  {
   "cell_type": "code",
   "execution_count": 23,
   "metadata": {},
   "outputs": [
    {
     "name": "stdout",
     "output_type": "stream",
     "text": [
      "X dimenziója:\n",
      " (97, 2)\n",
      "Y dimenziója:\n",
      " (97, 1)\n",
      "w dimenziója:\n",
      " (2, 1)\n"
     ]
    }
   ],
   "source": [
    "print('X dimenziója:\\n', X.shape)                \n",
    "print('Y dimenziója:\\n', Y.shape)\n",
    "print('w dimenziója:\\n', w.shape)"
   ]
  },
  {
   "cell_type": "markdown",
   "metadata": {},
   "source": [
    "Definiáljuk a költségfüggvény kiszámolására egy függvényt, amely bemenő paraméterként megkapja az $X$, $Y$ és $w$ mátrixokat és a kiszámolt skalár költséggel tér vissza. Hasznos operátorok lehetnek:\n",
    "- @  : element wise matrix multiplication\n",
    "- ** : hatványozás"
   ]
  },
  {
   "cell_type": "code",
   "execution_count": 33,
   "metadata": {},
   "outputs": [],
   "source": [
    "def computeCost(X,Y,w):\n",
    "    m = Y.size\n",
    "    C = np.sum((X@w - Y)**2, axis=None)/(2*m)\n",
    "    return C"
   ]
  },
  {
   "cell_type": "markdown",
   "metadata": {},
   "source": [
    "Próbáljuk is ki két értékre:"
   ]
  },
  {
   "cell_type": "code",
   "execution_count": 35,
   "metadata": {},
   "outputs": [
    {
     "name": "stdout",
     "output_type": "stream",
     "text": [
      "Testing the cost function (Error function):\n",
      "\tWith weights: w = [0;0]\n",
      "\tExpected value (approx.) = 32.07\n",
      "\tCost computed =  32.072733877455676\n",
      "\n",
      "\tWith weights: w = [-1;2]\n",
      "\tExpected value (approx.) = 54.24\n",
      "\tCost computed =  54.24245508201238\n"
     ]
    }
   ],
   "source": [
    "C=computeCost(X,Y,np.array([[0],[0]]).reshape((2,1)))\n",
    "print('''Testing the cost function (Error function):\n",
    "\\tWith weights: w = [0;0]\n",
    "\\tExpected value (approx.) = 32.07\n",
    "\\tCost computed = ''',C)\n",
    "C=computeCost(X,Y,np.array([[-1],[2]]))\n",
    "print('''\\n\\tWith weights: w = [-1;2]\n",
    "\\tExpected value (approx.) = 54.24\n",
    "\\tCost computed = ''',C)"
   ]
  },
  {
   "cell_type": "markdown",
   "metadata": {},
   "source": [
    "Definiáljuk a grádiens módszeres függvényünket is (rajzoltassuk ki a függvény belsejében a )\n"
   ]
  },
  {
   "cell_type": "code",
   "execution_count": 37,
   "metadata": {},
   "outputs": [],
   "source": [
    "def gradientDescent(X, Y, w, learning_rate, epochs):\n",
    "    m = Y.size\n",
    "    C_history = np.zeros((epochs,1))\n",
    "\n",
    "    for i in range(0,epochs):\n",
    "        #VIGYÁZAT szimultán update!!!!!\n",
    "        new_w=np.zeros((2,1))\n",
    "        new_w[0] = w[0] - (learning_rate/m) * np.sum(X@w-Y, axis=None)\n",
    "        new_w[1] = w[1] - (learning_rate/m) * np.sum((X@w-Y)*(X[:,1].reshape(97,1)), axis=None)\n",
    "        w=neww.copy()\n",
    "        C_history[i] =computeCost(X,Y,w)\n",
    "\n",
    "   # plt.plot(range(0,C_history.size),C_history)\n",
    "   # plt.show()\n",
    "\n",
    "    return w"
   ]
  },
  {
   "cell_type": "code",
   "execution_count": 39,
   "metadata": {},
   "outputs": [
    {
     "ename": "NameError",
     "evalue": "name 'C_history' is not defined",
     "output_type": "error",
     "traceback": [
      "\u001b[1;31m---------------------------------------------------------------------------\u001b[0m",
      "\u001b[1;31mNameError\u001b[0m                                 Traceback (most recent call last)",
      "\u001b[1;32m<ipython-input-39-a9610a4e486f>\u001b[0m in \u001b[0;36m<module>\u001b[1;34m\u001b[0m\n\u001b[1;32m----> 1\u001b[1;33m \u001b[0mplt\u001b[0m\u001b[1;33m.\u001b[0m\u001b[0mplot\u001b[0m\u001b[1;33m(\u001b[0m\u001b[0mrange\u001b[0m\u001b[1;33m(\u001b[0m\u001b[1;36m0\u001b[0m\u001b[1;33m,\u001b[0m\u001b[0mC_history\u001b[0m\u001b[1;33m.\u001b[0m\u001b[0msize\u001b[0m\u001b[1;33m)\u001b[0m\u001b[1;33m,\u001b[0m\u001b[0mC_history\u001b[0m\u001b[1;33m)\u001b[0m\u001b[1;33m\u001b[0m\u001b[1;33m\u001b[0m\u001b[0m\n\u001b[0m\u001b[0;32m      2\u001b[0m \u001b[0mplt\u001b[0m\u001b[1;33m.\u001b[0m\u001b[0mshow\u001b[0m\u001b[1;33m(\u001b[0m\u001b[1;33m)\u001b[0m\u001b[1;33m\u001b[0m\u001b[1;33m\u001b[0m\u001b[0m\n",
      "\u001b[1;31mNameError\u001b[0m: name 'C_history' is not defined"
     ]
    }
   ],
   "source": [
    "plt.plot(range(0,C_history.size),C_history)\n",
    "plt.show()"
   ]
  },
  {
   "cell_type": "code",
   "execution_count": null,
   "metadata": {},
   "outputs": [],
   "source": []
  }
 ],
 "metadata": {
  "kernelspec": {
   "display_name": "Python 3",
   "language": "python",
   "name": "python3"
  },
  "language_info": {
   "codemirror_mode": {
    "name": "ipython",
    "version": 3
   },
   "file_extension": ".py",
   "mimetype": "text/x-python",
   "name": "python",
   "nbconvert_exporter": "python",
   "pygments_lexer": "ipython3",
   "version": "3.7.0"
  }
 },
 "nbformat": 4,
 "nbformat_minor": 2
}
