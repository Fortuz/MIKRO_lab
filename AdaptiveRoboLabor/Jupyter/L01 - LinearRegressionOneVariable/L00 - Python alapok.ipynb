{
 "cells": [
  {
   "cell_type": "markdown",
   "metadata": {},
   "source": [
    "# Gyakorlat 0\n",
    "## Szükséges Python alap ismeretek a tárgyhoz\n",
    "\n",
    "Ebben a gyakorlatban bemutatunk néhány Pythonban a tárgy során használt elemet mit hasznosnak tartunk a teljesség igénye nélkül."
   ]
  },
  {
   "cell_type": "markdown",
   "metadata": {},
   "source": [
    "numpy.zeros\n",
    "numpy.ones\n",
    "numpy.array\n",
    ".shape\n",
    ".size\n",
    ".reshape\n",
    "print\n",
    "@\n",
    "**\n",
    "függvény definicio!\n",
    "numpy.sum\n",
    "matplotlib.pyplot.plot\n",
    "-II- . x_label,ylabel,title,\n",
    "-II- .legend\n",
    "-II- .show\n"
   ]
  }
 ],
 "metadata": {
  "kernelspec": {
   "display_name": "Python 3",
   "language": "python",
   "name": "python3"
  },
  "language_info": {
   "codemirror_mode": {
    "name": "ipython",
    "version": 3
   },
   "file_extension": ".py",
   "mimetype": "text/x-python",
   "name": "python",
   "nbconvert_exporter": "python",
   "pygments_lexer": "ipython3",
   "version": "3.7.0"
  }
 },
 "nbformat": 4,
 "nbformat_minor": 2
}
