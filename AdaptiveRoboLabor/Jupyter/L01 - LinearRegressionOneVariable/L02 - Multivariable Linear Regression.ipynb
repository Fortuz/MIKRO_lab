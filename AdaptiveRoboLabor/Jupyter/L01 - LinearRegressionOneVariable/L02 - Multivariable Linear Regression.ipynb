{
 "cells": [
  {
   "cell_type": "markdown",
   "metadata": {},
   "source": [
    "# Gyakorlat 2\n",
    "## Többváltozós lineáris regresszió:\n",
    "### Ingatlanárak:\n",
    "\n",
    "Ebben a feladatban ingatlanárak jóslására fogunk többváltozós lineáris regressziót implementálni.\n",
    "\n",
    "Tegyük fel, hogy egy lakást szeretnénk eladni, ám ehhez szeretnénk tudni a lakás valós értékét, hogy ne veszítsünk az eladáskor. Egy lehetséges módja ennek, hogy adatot gyűjtve, majd az adatok alapján modellt készítve, jósoljuk meg a lakás ingatlanpiaci árát. Adataink az ingatlan területe és a szobák száma illetve az értékesítéskor meghatározott ár lesz."
   ]
  },
  {
   "cell_type": "markdown",
   "metadata": {},
   "source": [
    "### Importjáljuk be a számunkra fontos csomagokat!\n",
    "Szükségünk lesz:\n",
    "- NumPy\n",
    "- MatPlotLib pyplot csomagjára"
   ]
  },
  {
   "cell_type": "code",
   "execution_count": 3,
   "metadata": {},
   "outputs": [],
   "source": [
    "import numpy as np\n",
    "import matplotlib.pyplot as plt"
   ]
  },
  {
   "cell_type": "markdown",
   "metadata": {},
   "source": [
    "Az előző gyakorlathoz hasonlóan töltsük be az adatainkat!"
   ]
  },
  {
   "cell_type": "code",
   "execution_count": 6,
   "metadata": {},
   "outputs": [
    {
     "name": "stdout",
     "output_type": "stream",
     "text": [
      "X: (47, 2)\n",
      "Y: (47, 1)\n",
      "Adatok száma 47\n"
     ]
    }
   ],
   "source": [
    "file=open(\"Lab2data.txt\")\n",
    "data=file.readlines()\n",
    "file.close()\n",
    "\n",
    "X=[]\n",
    "TEMP=[]\n",
    "Y=[]\n",
    "\n",
    "for line in data:\n",
    "    a,b,c = line.split(',')\n",
    "    X.append(float(a))\n",
    "    TEMP.append(float(b))\n",
    "    Y.append(float(c))\n",
    "\n",
    "X=np.array(X)\n",
    "TEMP=np.array(TEMP)\n",
    "X = np.column_stack((X,TEMP))\n",
    "Y=np.array(Y)\n",
    "m=Y.size\n",
    "Y=Y.reshape(m,1)\n",
    "del TEMP\n",
    "\n",
    "print('X:',X.shape)\n",
    "print('Y:',Y.shape)\n",
    "print('Adatok száma',m)"
   ]
  },
  {
   "cell_type": "markdown",
   "metadata": {},
   "source": [
    "### Normalizáljuk az értékeinket (feature scaling):\n",
    "\n",
    "Az adatainkról elképzelhető, hogy más nagyságrendekben találhatóak. Esetünkben az ingatlan területe és a szobák száma között könnyen beláthatjuk hogy legalább egy nagyságrendi különbség van. Ilyenkor érdemes az értékeinket normalizálni, hogy egy nagyságrendbe essenek.\n",
    "Ehhez mia az alábbi összefüggést fogjuk használni:\n",
    "$x_n = \\frac{x - mean(x)}{std(x)}$\\\n",
    "További előny még, hogy normalizálás után a grádiens módszer konvergenciája is megnő.\n",
    "\n",
    "Többet az angol wikipédián találhatunk erről [itt](https://en.wikipedia.org/wiki/Feature_scaling).\n",
    "\n",
    "Hozzuk is létre a normalizáló függvényt!"
   ]
  },
  {
   "cell_type": "code",
   "execution_count": 8,
   "metadata": {},
   "outputs": [
    {
     "name": "stdout",
     "output_type": "stream",
     "text": [
      "Normalizing X vector ...\n"
     ]
    }
   ],
   "source": [
    "def featureNormalize(X):\n",
    "    X_norm=X.copy()\n",
    "    avg = np.zeros((1,np.size(X,1)))\n",
    "    sigma = np.zeros((1,np.size(X,1)))\n",
    "\n",
    "    for i in range(np.size(X,1)):\n",
    "        avg[0,i] = np.mean(X[:,i],axis=0)\n",
    "        sigma[0,i] = np.std(X[:,i],axis=0,ddof=1)   # ddof=1 mert tapasztalati szórás kell\n",
    "\n",
    "    for i in range(0,np.size(X,1)):\n",
    "        for j in range(0,np.size(X,0)):\n",
    "            X_norm[j,i] = (X[j,i]-avg[0,i])/sigma[0,i]\n",
    "\n",
    "    return X_norm, avg, sigma\n",
    "\n",
    "print('Normalizing X vector ...')\n",
    "X_norm,avg,sigma = featureNormalize(X)\n",
    "X_norm=np.column_stack((np.ones(m),X_norm))"
   ]
  },
  {
   "cell_type": "markdown",
   "metadata": {},
   "source": [
    "### Grádiens módszer:\n",
    "Az előző gyakorlat mintájára létrehozzuk a grádiens módszert!"
   ]
  },
  {
   "cell_type": "code",
   "execution_count": 12,
   "metadata": {},
   "outputs": [
    {
     "name": "stdout",
     "output_type": "stream",
     "text": [
      "Running gradient descent ...\n",
      "Weights expected from gradient descent:\n",
      " [[334302.0639]\n",
      " [100158.03182]\n",
      " [  3576.7329]]\n",
      "\n",
      "Weights computed from gradient descent:\n",
      " [[334302.06399328]\n",
      " [100158.03182888]\n",
      " [  3576.73296507]]\n"
     ]
    }
   ],
   "source": [
    "def computeCostMulti(X,Y,w):\n",
    "    C=0\n",
    "    C=(1/(2*m))*((X@w-Y).T)@(X@w-Y)\n",
    "    return C\n",
    "\n",
    "def gradientDescentMulti(X,Y,w,lr,epochs):\n",
    "    C_history = np.zeros((epochs,1))\n",
    "    temp= np.zeros((np.size(w,0),1))\n",
    "\n",
    "    for iteration in range(0,epochs):\n",
    "       for i in range(0,np.size(w,0)):\n",
    "           temp[i] = w[i]-(lr/m)*np.sum((X@w-Y)*(X[:,i].reshape(m,1)), axis=None)\n",
    "       w=temp\n",
    "       C_history[iteration]=computeCostMulti(X,Y,w)\n",
    "\n",
    "    return w, C_history\n",
    "\n",
    "print('Running gradient descent ...')\n",
    "lr = 0.01\n",
    "epochs = 400\n",
    "w=np.zeros((3,1))\n",
    "w,C_history= gradientDescentMulti(X_norm,Y,w,lr,epochs)\n",
    "print('''Weights expected from gradient descent:\n",
    " [[334302.0639]\n",
    " [100158.03182]\n",
    " [  3576.7329]]\n",
    "''')\n",
    "print('Weights computed from gradient descent:\\n', w)\n"
   ]
  },
  {
   "cell_type": "markdown",
   "metadata": {},
   "source": [
    "Ellenőrizzük a konvergenciát egy ábra segítségével!"
   ]
  },
  {
   "cell_type": "code",
   "execution_count": 13,
   "metadata": {},
   "outputs": [
    {
     "data": {
      "image/png": "[encoded data removed]",
      "text/plain": [
       "<Figure size 432x288 with 1 Axes>"
      ]
     },
     "metadata": {
      "needs_background": "light"
     },
     "output_type": "display_data"
    }
   ],
   "source": [
    "plt.plot(range(0,epochs),C_history)\n",
    "plt.title(\"Gradient descent algorithms effect through the iterations\",pad= 20)\n",
    "plt.xlabel(\"Iterations\")\n",
    "plt.ylabel(\"Cost function value\")\n",
    "plt.show()"
   ]
  },
  {
   "cell_type": "markdown",
   "metadata": {},
   "source": [
    "### Jóslat:\n",
    "Tegyünk értékbeli jóslatot egy 1650 nm és 3 szobás ingatlanra!"
   ]
  },
  {
   "cell_type": "code",
   "execution_count": 23,
   "metadata": {},
   "outputs": [
    {
     "name": "stdout",
     "output_type": "stream",
     "text": [
      "Prediction for a 1650 sq-ft / 3 bedroom house:\n",
      "(predicted price should be approx. $29304.98)\n",
      " [289304.98230749]\n"
     ]
    }
   ],
   "source": [
    "FEET = 1650\n",
    "BED = 3\n",
    "price = (np.array([1, ((FEET-avg[0,0])/sigma[0,0]), (BED-avg[0,1])/sigma[0,1]]))@w\n",
    "print('''Prediction for a 1650 sq-ft / 3 bedroom house:\n",
    "(predicted price should be approx. $29304.98)\n",
    "''',price)"
   ]
  },
  {
   "cell_type": "markdown",
   "metadata": {},
   "source": [
    "## Kicsit másként. Magasabb szintű csomagokkal"
   ]
  },
  {
   "cell_type": "code",
   "execution_count": 34,
   "metadata": {},
   "outputs": [
    {
     "name": "stdout",
     "output_type": "stream",
     "text": [
      "Prediction for a 1650 sq-ft / 3 bedroom house:\n",
      " 293081.4643348961\n"
     ]
    }
   ],
   "source": [
    "import pandas as pd\n",
    "from sklearn.linear_model import LinearRegression\n",
    "\n",
    "data = pd.read_csv('Lab2data.txt',header = None)\n",
    "X = data.iloc[:, 0:2].values.reshape(-1,2)\n",
    "Y = data.iloc[:, 2].values.reshape(-1,1)\n",
    "\n",
    "lin_reg = LinearRegression()\n",
    "lin_reg.fit(X,Y)\n",
    "\n",
    "pred = lin_reg.predict([[1650,3]])\n",
    "print('Prediction for a 1650 sq-ft / 3 bedroom house:\\n',float(pred))"
   ]
  },
  {
   "cell_type": "code",
   "execution_count": null,
   "metadata": {},
   "outputs": [],
   "source": []
  }
 ],
 "metadata": {
  "kernelspec": {
   "display_name": "Python 3",
   "language": "python",
   "name": "python3"
  },
  "language_info": {
   "codemirror_mode": {
    "name": "ipython",
    "version": 3
   },
   "file_extension": ".py",
   "mimetype": "text/x-python",
   "name": "python",
   "nbconvert_exporter": "python",
   "pygments_lexer": "ipython3",
   "version": "3.7.0"
  }
 },
 "nbformat": 4,
 "nbformat_minor": 2
}
